{
  "nbformat": 4,
  "nbformat_minor": 0,
  "metadata": {
    "colab": {
      "provenance": []
    },
    "kernelspec": {
      "name": "python3",
      "display_name": "Python 3"
    },
    "language_info": {
      "name": "python"
    }
  },
  "cells": [
    {
      "cell_type": "markdown",
      "source": [
        "## 07 행렬 분해를 이용한 잠재 요인 협업 필터링 실습\n",
        "\n",
        "- 행렬 분해 잠재 요인 협업 필터링은 SVD나 NMF 등을 적용할 수 있음.\n",
        "- SVD가 자줒 사요오디지만 사용자-아이템 평점 행렬에는 사용자가 평점을 매기지 않은 널 데이터가 많기 떄문에 주로 SGD나 ALS 기반의 행렬 분해 이용\n"
      ],
      "metadata": {
        "id": "r7zwu0hpCHhM"
      }
    },
    {
      "cell_type": "code",
      "source": [
        "# get_rmse() 함수 그대로 사용해 행렬 분해 로직을 새로운 matrix_factorziation() 함수로 정의\n",
        "# k는 잠재 요인 차원의 수, steps는 SGD의 반복횟수, learning_rate는 학습률, r_lambda는 L2 규제 계수\n",
        "import numpy as np\n",
        "from sklearn.metrics import mean_squared_error\n",
        "\n",
        "def get_rmse(R, P, Q, non_zeros):\n",
        "    error = 0\n",
        "    # 두개의 분해된 행렬 P와 Q.T의 내적 곱으로 예측 R 행렬 생성\n",
        "    full_pred_matrix = np.dot(P, Q.T)\n",
        "\n",
        "    # 실제 R 행렬에서 널이 아닌 값의 위치 인덱스 추출하여 실제 R 행렬과 예측 행렬의 RMSE 추출\n",
        "    x_non_zero_ind = [non_zero[0] for non_zero in non_zeros]\n",
        "    y_non_zero_ind = [non_zero[1] for non_zero in non_zeros]\n",
        "    R_non_zeros = R[x_non_zero_ind, y_non_zero_ind]\n",
        "\n",
        "    full_pred_matrix_non_zeros = full_pred_matrix[x_non_zero_ind, y_non_zero_ind]\n",
        "\n",
        "    mse = mean_squared_error(R_non_zeros, full_pred_matrix_non_zeros)\n",
        "    rmse = np.sqrt(mse)\n",
        "\n",
        "    return rmse"
      ],
      "metadata": {
        "id": "NUFU4WJ-Cqv7"
      },
      "execution_count": null,
      "outputs": []
    },
    {
      "cell_type": "code",
      "source": [
        "def matrix_factorization(R, K, steps=200, learning_rate=0.01, r_lambda = 0.01):\n",
        "    num_users, num_items = R.shape\n",
        "    # P와 Q 매트릭스의 크기를 지정하고 정규분포를 가진 랜덤한 값으로 입력합니다.\n",
        "    np.random.seed(1)\n",
        "    P = np.random.normal(scale=1./K, size=(num_users, K))\n",
        "    Q = np.random.normal(scale=1./K, size=(num_items, K))\n",
        "\n",
        "    # R > 0 인 행 위치, 열 위치, 값을 non_zeros 리스트 객체에 저장.\n",
        "    non_zeros = [ (i, j, R[i,j]) for i in range(num_users) for j in range(num_items) if R[i,j] > 0 ]\n",
        "\n",
        "    # SGD기법으로 P와 Q 매트릭스를 계속 업데이트.\n",
        "    for step in range(steps):\n",
        "        for i, j, r in non_zeros:\n",
        "            # 실제 값과 예측 값의 차이인 오류 값 구함\n",
        "            eij = r - np.dot(P[i, :], Q[j, :].T)\n",
        "            # Regularization을 반영한 SGD 업데이트 공식 적용\n",
        "            P[i,:] = P[i,:] + learning_rate*(eij * Q[j, :] - r_lambda*P[i,:])\n",
        "            Q[j,:] = Q[j,:] + learning_rate*(eij * P[i, :] - r_lambda*Q[j,:])\n",
        "\n",
        "        rmse = get_rmse(R, P, Q, non_zeros)\n",
        "        if (step % 10) == 0 :\n",
        "            print(\"### iteration step : \", step,\" rmse : \", rmse)\n",
        "\n",
        "    return P, Q"
      ],
      "metadata": {
        "id": "vxInBIoGDC5l"
      },
      "execution_count": null,
      "outputs": []
    },
    {
      "cell_type": "code",
      "source": [
        "from google.colab import files\n",
        "uploaded = files.upload()"
      ],
      "metadata": {
        "colab": {
          "base_uri": "https://localhost:8080/",
          "height": 112
        },
        "id": "J_ueq1BLDXn7",
        "outputId": "6faf32e8-7d45-43a5-bd20-351ff6a3f387"
      },
      "execution_count": null,
      "outputs": [
        {
          "output_type": "display_data",
          "data": {
            "text/plain": [
              "<IPython.core.display.HTML object>"
            ],
            "text/html": [
              "\n",
              "     <input type=\"file\" id=\"files-8bd61f57-f3f2-4e94-8071-c3e82380cf14\" name=\"files[]\" multiple disabled\n",
              "        style=\"border:none\" />\n",
              "     <output id=\"result-8bd61f57-f3f2-4e94-8071-c3e82380cf14\">\n",
              "      Upload widget is only available when the cell has been executed in the\n",
              "      current browser session. Please rerun this cell to enable.\n",
              "      </output>\n",
              "      <script>// Copyright 2017 Google LLC\n",
              "//\n",
              "// Licensed under the Apache License, Version 2.0 (the \"License\");\n",
              "// you may not use this file except in compliance with the License.\n",
              "// You may obtain a copy of the License at\n",
              "//\n",
              "//      http://www.apache.org/licenses/LICENSE-2.0\n",
              "//\n",
              "// Unless required by applicable law or agreed to in writing, software\n",
              "// distributed under the License is distributed on an \"AS IS\" BASIS,\n",
              "// WITHOUT WARRANTIES OR CONDITIONS OF ANY KIND, either express or implied.\n",
              "// See the License for the specific language governing permissions and\n",
              "// limitations under the License.\n",
              "\n",
              "/**\n",
              " * @fileoverview Helpers for google.colab Python module.\n",
              " */\n",
              "(function(scope) {\n",
              "function span(text, styleAttributes = {}) {\n",
              "  const element = document.createElement('span');\n",
              "  element.textContent = text;\n",
              "  for (const key of Object.keys(styleAttributes)) {\n",
              "    element.style[key] = styleAttributes[key];\n",
              "  }\n",
              "  return element;\n",
              "}\n",
              "\n",
              "// Max number of bytes which will be uploaded at a time.\n",
              "const MAX_PAYLOAD_SIZE = 100 * 1024;\n",
              "\n",
              "function _uploadFiles(inputId, outputId) {\n",
              "  const steps = uploadFilesStep(inputId, outputId);\n",
              "  const outputElement = document.getElementById(outputId);\n",
              "  // Cache steps on the outputElement to make it available for the next call\n",
              "  // to uploadFilesContinue from Python.\n",
              "  outputElement.steps = steps;\n",
              "\n",
              "  return _uploadFilesContinue(outputId);\n",
              "}\n",
              "\n",
              "// This is roughly an async generator (not supported in the browser yet),\n",
              "// where there are multiple asynchronous steps and the Python side is going\n",
              "// to poll for completion of each step.\n",
              "// This uses a Promise to block the python side on completion of each step,\n",
              "// then passes the result of the previous step as the input to the next step.\n",
              "function _uploadFilesContinue(outputId) {\n",
              "  const outputElement = document.getElementById(outputId);\n",
              "  const steps = outputElement.steps;\n",
              "\n",
              "  const next = steps.next(outputElement.lastPromiseValue);\n",
              "  return Promise.resolve(next.value.promise).then((value) => {\n",
              "    // Cache the last promise value to make it available to the next\n",
              "    // step of the generator.\n",
              "    outputElement.lastPromiseValue = value;\n",
              "    return next.value.response;\n",
              "  });\n",
              "}\n",
              "\n",
              "/**\n",
              " * Generator function which is called between each async step of the upload\n",
              " * process.\n",
              " * @param {string} inputId Element ID of the input file picker element.\n",
              " * @param {string} outputId Element ID of the output display.\n",
              " * @return {!Iterable<!Object>} Iterable of next steps.\n",
              " */\n",
              "function* uploadFilesStep(inputId, outputId) {\n",
              "  const inputElement = document.getElementById(inputId);\n",
              "  inputElement.disabled = false;\n",
              "\n",
              "  const outputElement = document.getElementById(outputId);\n",
              "  outputElement.innerHTML = '';\n",
              "\n",
              "  const pickedPromise = new Promise((resolve) => {\n",
              "    inputElement.addEventListener('change', (e) => {\n",
              "      resolve(e.target.files);\n",
              "    });\n",
              "  });\n",
              "\n",
              "  const cancel = document.createElement('button');\n",
              "  inputElement.parentElement.appendChild(cancel);\n",
              "  cancel.textContent = 'Cancel upload';\n",
              "  const cancelPromise = new Promise((resolve) => {\n",
              "    cancel.onclick = () => {\n",
              "      resolve(null);\n",
              "    };\n",
              "  });\n",
              "\n",
              "  // Wait for the user to pick the files.\n",
              "  const files = yield {\n",
              "    promise: Promise.race([pickedPromise, cancelPromise]),\n",
              "    response: {\n",
              "      action: 'starting',\n",
              "    }\n",
              "  };\n",
              "\n",
              "  cancel.remove();\n",
              "\n",
              "  // Disable the input element since further picks are not allowed.\n",
              "  inputElement.disabled = true;\n",
              "\n",
              "  if (!files) {\n",
              "    return {\n",
              "      response: {\n",
              "        action: 'complete',\n",
              "      }\n",
              "    };\n",
              "  }\n",
              "\n",
              "  for (const file of files) {\n",
              "    const li = document.createElement('li');\n",
              "    li.append(span(file.name, {fontWeight: 'bold'}));\n",
              "    li.append(span(\n",
              "        `(${file.type || 'n/a'}) - ${file.size} bytes, ` +\n",
              "        `last modified: ${\n",
              "            file.lastModifiedDate ? file.lastModifiedDate.toLocaleDateString() :\n",
              "                                    'n/a'} - `));\n",
              "    const percent = span('0% done');\n",
              "    li.appendChild(percent);\n",
              "\n",
              "    outputElement.appendChild(li);\n",
              "\n",
              "    const fileDataPromise = new Promise((resolve) => {\n",
              "      const reader = new FileReader();\n",
              "      reader.onload = (e) => {\n",
              "        resolve(e.target.result);\n",
              "      };\n",
              "      reader.readAsArrayBuffer(file);\n",
              "    });\n",
              "    // Wait for the data to be ready.\n",
              "    let fileData = yield {\n",
              "      promise: fileDataPromise,\n",
              "      response: {\n",
              "        action: 'continue',\n",
              "      }\n",
              "    };\n",
              "\n",
              "    // Use a chunked sending to avoid message size limits. See b/62115660.\n",
              "    let position = 0;\n",
              "    do {\n",
              "      const length = Math.min(fileData.byteLength - position, MAX_PAYLOAD_SIZE);\n",
              "      const chunk = new Uint8Array(fileData, position, length);\n",
              "      position += length;\n",
              "\n",
              "      const base64 = btoa(String.fromCharCode.apply(null, chunk));\n",
              "      yield {\n",
              "        response: {\n",
              "          action: 'append',\n",
              "          file: file.name,\n",
              "          data: base64,\n",
              "        },\n",
              "      };\n",
              "\n",
              "      let percentDone = fileData.byteLength === 0 ?\n",
              "          100 :\n",
              "          Math.round((position / fileData.byteLength) * 100);\n",
              "      percent.textContent = `${percentDone}% done`;\n",
              "\n",
              "    } while (position < fileData.byteLength);\n",
              "  }\n",
              "\n",
              "  // All done.\n",
              "  yield {\n",
              "    response: {\n",
              "      action: 'complete',\n",
              "    }\n",
              "  };\n",
              "}\n",
              "\n",
              "scope.google = scope.google || {};\n",
              "scope.google.colab = scope.google.colab || {};\n",
              "scope.google.colab._files = {\n",
              "  _uploadFiles,\n",
              "  _uploadFilesContinue,\n",
              "};\n",
              "})(self);\n",
              "</script> "
            ]
          },
          "metadata": {}
        },
        {
          "output_type": "stream",
          "name": "stdout",
          "text": [
            "Saving movies.csv to movies.csv\n",
            "Saving ratings.csv to ratings.csv\n"
          ]
        }
      ]
    },
    {
      "cell_type": "code",
      "source": [
        "# 영화 평점 행렬 데이터를 DataFrame으로 로딩한 뒤에 다시 사용자-아이템 평점 행렬로 만들기\n",
        "import numpy as np\n",
        "import pandas as pd\n",
        "\n",
        "movies = pd.read_csv('movies.csv')\n",
        "ratings = pd.read_csv('ratings.csv')\n",
        "ratings = ratings[['userId', 'movieId', 'rating']]\n",
        "ratings_matrix = ratings.pivot_table('rating', index='userId', columns='movieId')\n",
        "\n",
        "# title 컬럼을 얻기 이해 movies 와 조인 수행\n",
        "rating_movies = pd.merge(ratings, movies, on='movieId')\n",
        "\n",
        "# columns='title' 로 title 컬럼으로 pivot 수행.\n",
        "ratings_matrix = rating_movies.pivot_table('rating', index='userId', columns='title')\n"
      ],
      "metadata": {
        "id": "mTIjy8qSDMcL"
      },
      "execution_count": null,
      "outputs": []
    },
    {
      "cell_type": "code",
      "source": [
        "# 다시 만들어진 사용자-아이템 평점 행렬을 matrix_factorization() 함수를 이용해 행렬 분해\n",
        "P, Q = matrix_factorization(ratings_matrix.values, K=50, steps=200, learning_rate=0.01, r_lambda = 0.01)\n",
        "pred_matrix = np.dot(P, Q.T)"
      ],
      "metadata": {
        "colab": {
          "base_uri": "https://localhost:8080/"
        },
        "id": "2T7KXDSyDVwX",
        "outputId": "277832e4-3965-470e-da64-21498c58b78c"
      },
      "execution_count": null,
      "outputs": [
        {
          "output_type": "stream",
          "name": "stdout",
          "text": [
            "### iteration step :  0  rmse :  2.9023619751336867\n",
            "### iteration step :  10  rmse :  0.7335768591017927\n",
            "### iteration step :  20  rmse :  0.5115539026853442\n",
            "### iteration step :  30  rmse :  0.37261628282537446\n",
            "### iteration step :  40  rmse :  0.2960818299181014\n",
            "### iteration step :  50  rmse :  0.2520353192341642\n",
            "### iteration step :  60  rmse :  0.22487503275269854\n",
            "### iteration step :  70  rmse :  0.2068545530233154\n",
            "### iteration step :  80  rmse :  0.19413418783028685\n",
            "### iteration step :  90  rmse :  0.18470082002720406\n",
            "### iteration step :  100  rmse :  0.17742927527209104\n",
            "### iteration step :  110  rmse :  0.1716522696470749\n",
            "### iteration step :  120  rmse :  0.16695181946871726\n",
            "### iteration step :  130  rmse :  0.16305292191997542\n",
            "### iteration step :  140  rmse :  0.15976691929679646\n",
            "### iteration step :  150  rmse :  0.1569598699945732\n",
            "### iteration step :  160  rmse :  0.15453398186715425\n",
            "### iteration step :  170  rmse :  0.15241618551077643\n",
            "### iteration step :  180  rmse :  0.1505508073962831\n",
            "### iteration step :  190  rmse :  0.1488947091323209\n"
          ]
        }
      ]
    },
    {
      "cell_type": "code",
      "source": [
        "ratings_pred_matrix = pd.DataFrame(data=pred_matrix, index=ratings_matrix.index, columns= ratings_matrix.columns)\n",
        "ratings_pred_matrix.head(3)"
      ],
      "metadata": {
        "colab": {
          "base_uri": "https://localhost:8080/",
          "height": 345
        },
        "id": "EOicK_BjDwtb",
        "outputId": "3db9524e-7d03-431f-e405-24927949c997"
      },
      "execution_count": null,
      "outputs": [
        {
          "output_type": "execute_result",
          "data": {
            "text/plain": [
              "title   '71 (2014)  'Hellboy': The Seeds of Creation (2004)  \\\n",
              "userId                                                        \n",
              "1         3.055084                                 4.092018   \n",
              "2         3.170119                                 3.657992   \n",
              "3         2.307073                                 1.658853   \n",
              "\n",
              "title   'Round Midnight (1986)  'Salem's Lot (2004)  \\\n",
              "userId                                                \n",
              "1                     3.564130             4.502167   \n",
              "2                     3.308707             4.166521   \n",
              "3                     1.443538             2.208859   \n",
              "\n",
              "title   'Til There Was You (1997)  'Tis the Season for Love (2015)  \\\n",
              "userId                                                               \n",
              "1                        3.981215                         1.271694   \n",
              "2                        4.311890                         1.275469   \n",
              "3                        2.229486                         0.780760   \n",
              "\n",
              "title   'burbs, The (1989)  'night Mother (1986)  (500) Days of Summer (2009)  \\\n",
              "userId                                                                          \n",
              "1                 3.603274              2.333266                     5.091749   \n",
              "2                 4.237972              1.900366                     3.392859   \n",
              "3                 1.997043              0.924908                     2.970700   \n",
              "\n",
              "title   *batteries not included (1987)  ...  Zulu (2013)  [REC] (2007)  \\\n",
              "userId                                  ...                              \n",
              "1                             3.972454  ...     1.402608      4.208382   \n",
              "2                             3.647421  ...     0.973811      3.528264   \n",
              "3                             2.551446  ...     0.520354      1.709494   \n",
              "\n",
              "title   [REC]² (2009)  [REC]³ 3 Génesis (2012)  \\\n",
              "userId                                           \n",
              "1            3.705957                 2.720514   \n",
              "2            3.361532                 2.672535   \n",
              "3            2.281596                 1.782833   \n",
              "\n",
              "title   anohana: The Flower We Saw That Day - The Movie (2013)  \\\n",
              "userId                                                           \n",
              "1                                                2.787331        \n",
              "2                                                2.404456        \n",
              "3                                                1.635173        \n",
              "\n",
              "title   eXistenZ (1999)  xXx (2002)  xXx: State of the Union (2005)  \\\n",
              "userId                                                                \n",
              "1              3.475076    3.253458                        2.161087   \n",
              "2              4.232789    2.911602                        1.634576   \n",
              "3              1.323276    2.887580                        1.042618   \n",
              "\n",
              "title   ¡Three Amigos! (1986)  À nous la liberté (Freedom for Us) (1931)  \n",
              "userId                                                                    \n",
              "1                    4.010495                                   0.859474  \n",
              "2                    4.135735                                   0.725684  \n",
              "3                    2.293890                                   0.396941  \n",
              "\n",
              "[3 rows x 9719 columns]"
            ],
            "text/html": [
              "\n",
              "  <div id=\"df-2d5425ae-8795-4d94-8b60-872daba144be\" class=\"colab-df-container\">\n",
              "    <div>\n",
              "<style scoped>\n",
              "    .dataframe tbody tr th:only-of-type {\n",
              "        vertical-align: middle;\n",
              "    }\n",
              "\n",
              "    .dataframe tbody tr th {\n",
              "        vertical-align: top;\n",
              "    }\n",
              "\n",
              "    .dataframe thead th {\n",
              "        text-align: right;\n",
              "    }\n",
              "</style>\n",
              "<table border=\"1\" class=\"dataframe\">\n",
              "  <thead>\n",
              "    <tr style=\"text-align: right;\">\n",
              "      <th>title</th>\n",
              "      <th>'71 (2014)</th>\n",
              "      <th>'Hellboy': The Seeds of Creation (2004)</th>\n",
              "      <th>'Round Midnight (1986)</th>\n",
              "      <th>'Salem's Lot (2004)</th>\n",
              "      <th>'Til There Was You (1997)</th>\n",
              "      <th>'Tis the Season for Love (2015)</th>\n",
              "      <th>'burbs, The (1989)</th>\n",
              "      <th>'night Mother (1986)</th>\n",
              "      <th>(500) Days of Summer (2009)</th>\n",
              "      <th>*batteries not included (1987)</th>\n",
              "      <th>...</th>\n",
              "      <th>Zulu (2013)</th>\n",
              "      <th>[REC] (2007)</th>\n",
              "      <th>[REC]² (2009)</th>\n",
              "      <th>[REC]³ 3 Génesis (2012)</th>\n",
              "      <th>anohana: The Flower We Saw That Day - The Movie (2013)</th>\n",
              "      <th>eXistenZ (1999)</th>\n",
              "      <th>xXx (2002)</th>\n",
              "      <th>xXx: State of the Union (2005)</th>\n",
              "      <th>¡Three Amigos! (1986)</th>\n",
              "      <th>À nous la liberté (Freedom for Us) (1931)</th>\n",
              "    </tr>\n",
              "    <tr>\n",
              "      <th>userId</th>\n",
              "      <th></th>\n",
              "      <th></th>\n",
              "      <th></th>\n",
              "      <th></th>\n",
              "      <th></th>\n",
              "      <th></th>\n",
              "      <th></th>\n",
              "      <th></th>\n",
              "      <th></th>\n",
              "      <th></th>\n",
              "      <th></th>\n",
              "      <th></th>\n",
              "      <th></th>\n",
              "      <th></th>\n",
              "      <th></th>\n",
              "      <th></th>\n",
              "      <th></th>\n",
              "      <th></th>\n",
              "      <th></th>\n",
              "      <th></th>\n",
              "      <th></th>\n",
              "    </tr>\n",
              "  </thead>\n",
              "  <tbody>\n",
              "    <tr>\n",
              "      <th>1</th>\n",
              "      <td>3.055084</td>\n",
              "      <td>4.092018</td>\n",
              "      <td>3.564130</td>\n",
              "      <td>4.502167</td>\n",
              "      <td>3.981215</td>\n",
              "      <td>1.271694</td>\n",
              "      <td>3.603274</td>\n",
              "      <td>2.333266</td>\n",
              "      <td>5.091749</td>\n",
              "      <td>3.972454</td>\n",
              "      <td>...</td>\n",
              "      <td>1.402608</td>\n",
              "      <td>4.208382</td>\n",
              "      <td>3.705957</td>\n",
              "      <td>2.720514</td>\n",
              "      <td>2.787331</td>\n",
              "      <td>3.475076</td>\n",
              "      <td>3.253458</td>\n",
              "      <td>2.161087</td>\n",
              "      <td>4.010495</td>\n",
              "      <td>0.859474</td>\n",
              "    </tr>\n",
              "    <tr>\n",
              "      <th>2</th>\n",
              "      <td>3.170119</td>\n",
              "      <td>3.657992</td>\n",
              "      <td>3.308707</td>\n",
              "      <td>4.166521</td>\n",
              "      <td>4.311890</td>\n",
              "      <td>1.275469</td>\n",
              "      <td>4.237972</td>\n",
              "      <td>1.900366</td>\n",
              "      <td>3.392859</td>\n",
              "      <td>3.647421</td>\n",
              "      <td>...</td>\n",
              "      <td>0.973811</td>\n",
              "      <td>3.528264</td>\n",
              "      <td>3.361532</td>\n",
              "      <td>2.672535</td>\n",
              "      <td>2.404456</td>\n",
              "      <td>4.232789</td>\n",
              "      <td>2.911602</td>\n",
              "      <td>1.634576</td>\n",
              "      <td>4.135735</td>\n",
              "      <td>0.725684</td>\n",
              "    </tr>\n",
              "    <tr>\n",
              "      <th>3</th>\n",
              "      <td>2.307073</td>\n",
              "      <td>1.658853</td>\n",
              "      <td>1.443538</td>\n",
              "      <td>2.208859</td>\n",
              "      <td>2.229486</td>\n",
              "      <td>0.780760</td>\n",
              "      <td>1.997043</td>\n",
              "      <td>0.924908</td>\n",
              "      <td>2.970700</td>\n",
              "      <td>2.551446</td>\n",
              "      <td>...</td>\n",
              "      <td>0.520354</td>\n",
              "      <td>1.709494</td>\n",
              "      <td>2.281596</td>\n",
              "      <td>1.782833</td>\n",
              "      <td>1.635173</td>\n",
              "      <td>1.323276</td>\n",
              "      <td>2.887580</td>\n",
              "      <td>1.042618</td>\n",
              "      <td>2.293890</td>\n",
              "      <td>0.396941</td>\n",
              "    </tr>\n",
              "  </tbody>\n",
              "</table>\n",
              "<p>3 rows × 9719 columns</p>\n",
              "</div>\n",
              "    <div class=\"colab-df-buttons\">\n",
              "\n",
              "  <div class=\"colab-df-container\">\n",
              "    <button class=\"colab-df-convert\" onclick=\"convertToInteractive('df-2d5425ae-8795-4d94-8b60-872daba144be')\"\n",
              "            title=\"Convert this dataframe to an interactive table.\"\n",
              "            style=\"display:none;\">\n",
              "\n",
              "  <svg xmlns=\"http://www.w3.org/2000/svg\" height=\"24px\" viewBox=\"0 -960 960 960\">\n",
              "    <path d=\"M120-120v-720h720v720H120Zm60-500h600v-160H180v160Zm220 220h160v-160H400v160Zm0 220h160v-160H400v160ZM180-400h160v-160H180v160Zm440 0h160v-160H620v160ZM180-180h160v-160H180v160Zm440 0h160v-160H620v160Z\"/>\n",
              "  </svg>\n",
              "    </button>\n",
              "\n",
              "  <style>\n",
              "    .colab-df-container {\n",
              "      display:flex;\n",
              "      gap: 12px;\n",
              "    }\n",
              "\n",
              "    .colab-df-convert {\n",
              "      background-color: #E8F0FE;\n",
              "      border: none;\n",
              "      border-radius: 50%;\n",
              "      cursor: pointer;\n",
              "      display: none;\n",
              "      fill: #1967D2;\n",
              "      height: 32px;\n",
              "      padding: 0 0 0 0;\n",
              "      width: 32px;\n",
              "    }\n",
              "\n",
              "    .colab-df-convert:hover {\n",
              "      background-color: #E2EBFA;\n",
              "      box-shadow: 0px 1px 2px rgba(60, 64, 67, 0.3), 0px 1px 3px 1px rgba(60, 64, 67, 0.15);\n",
              "      fill: #174EA6;\n",
              "    }\n",
              "\n",
              "    .colab-df-buttons div {\n",
              "      margin-bottom: 4px;\n",
              "    }\n",
              "\n",
              "    [theme=dark] .colab-df-convert {\n",
              "      background-color: #3B4455;\n",
              "      fill: #D2E3FC;\n",
              "    }\n",
              "\n",
              "    [theme=dark] .colab-df-convert:hover {\n",
              "      background-color: #434B5C;\n",
              "      box-shadow: 0px 1px 3px 1px rgba(0, 0, 0, 0.15);\n",
              "      filter: drop-shadow(0px 1px 2px rgba(0, 0, 0, 0.3));\n",
              "      fill: #FFFFFF;\n",
              "    }\n",
              "  </style>\n",
              "\n",
              "    <script>\n",
              "      const buttonEl =\n",
              "        document.querySelector('#df-2d5425ae-8795-4d94-8b60-872daba144be button.colab-df-convert');\n",
              "      buttonEl.style.display =\n",
              "        google.colab.kernel.accessAllowed ? 'block' : 'none';\n",
              "\n",
              "      async function convertToInteractive(key) {\n",
              "        const element = document.querySelector('#df-2d5425ae-8795-4d94-8b60-872daba144be');\n",
              "        const dataTable =\n",
              "          await google.colab.kernel.invokeFunction('convertToInteractive',\n",
              "                                                    [key], {});\n",
              "        if (!dataTable) return;\n",
              "\n",
              "        const docLinkHtml = 'Like what you see? Visit the ' +\n",
              "          '<a target=\"_blank\" href=https://colab.research.google.com/notebooks/data_table.ipynb>data table notebook</a>'\n",
              "          + ' to learn more about interactive tables.';\n",
              "        element.innerHTML = '';\n",
              "        dataTable['output_type'] = 'display_data';\n",
              "        await google.colab.output.renderOutput(dataTable, element);\n",
              "        const docLink = document.createElement('div');\n",
              "        docLink.innerHTML = docLinkHtml;\n",
              "        element.appendChild(docLink);\n",
              "      }\n",
              "    </script>\n",
              "  </div>\n",
              "\n",
              "\n",
              "    <div id=\"df-e2f579f8-d38f-4867-9395-fc9739e8e313\">\n",
              "      <button class=\"colab-df-quickchart\" onclick=\"quickchart('df-e2f579f8-d38f-4867-9395-fc9739e8e313')\"\n",
              "                title=\"Suggest charts\"\n",
              "                style=\"display:none;\">\n",
              "\n",
              "<svg xmlns=\"http://www.w3.org/2000/svg\" height=\"24px\"viewBox=\"0 0 24 24\"\n",
              "     width=\"24px\">\n",
              "    <g>\n",
              "        <path d=\"M19 3H5c-1.1 0-2 .9-2 2v14c0 1.1.9 2 2 2h14c1.1 0 2-.9 2-2V5c0-1.1-.9-2-2-2zM9 17H7v-7h2v7zm4 0h-2V7h2v10zm4 0h-2v-4h2v4z\"/>\n",
              "    </g>\n",
              "</svg>\n",
              "      </button>\n",
              "\n",
              "<style>\n",
              "  .colab-df-quickchart {\n",
              "      --bg-color: #E8F0FE;\n",
              "      --fill-color: #1967D2;\n",
              "      --hover-bg-color: #E2EBFA;\n",
              "      --hover-fill-color: #174EA6;\n",
              "      --disabled-fill-color: #AAA;\n",
              "      --disabled-bg-color: #DDD;\n",
              "  }\n",
              "\n",
              "  [theme=dark] .colab-df-quickchart {\n",
              "      --bg-color: #3B4455;\n",
              "      --fill-color: #D2E3FC;\n",
              "      --hover-bg-color: #434B5C;\n",
              "      --hover-fill-color: #FFFFFF;\n",
              "      --disabled-bg-color: #3B4455;\n",
              "      --disabled-fill-color: #666;\n",
              "  }\n",
              "\n",
              "  .colab-df-quickchart {\n",
              "    background-color: var(--bg-color);\n",
              "    border: none;\n",
              "    border-radius: 50%;\n",
              "    cursor: pointer;\n",
              "    display: none;\n",
              "    fill: var(--fill-color);\n",
              "    height: 32px;\n",
              "    padding: 0;\n",
              "    width: 32px;\n",
              "  }\n",
              "\n",
              "  .colab-df-quickchart:hover {\n",
              "    background-color: var(--hover-bg-color);\n",
              "    box-shadow: 0 1px 2px rgba(60, 64, 67, 0.3), 0 1px 3px 1px rgba(60, 64, 67, 0.15);\n",
              "    fill: var(--button-hover-fill-color);\n",
              "  }\n",
              "\n",
              "  .colab-df-quickchart-complete:disabled,\n",
              "  .colab-df-quickchart-complete:disabled:hover {\n",
              "    background-color: var(--disabled-bg-color);\n",
              "    fill: var(--disabled-fill-color);\n",
              "    box-shadow: none;\n",
              "  }\n",
              "\n",
              "  .colab-df-spinner {\n",
              "    border: 2px solid var(--fill-color);\n",
              "    border-color: transparent;\n",
              "    border-bottom-color: var(--fill-color);\n",
              "    animation:\n",
              "      spin 1s steps(1) infinite;\n",
              "  }\n",
              "\n",
              "  @keyframes spin {\n",
              "    0% {\n",
              "      border-color: transparent;\n",
              "      border-bottom-color: var(--fill-color);\n",
              "      border-left-color: var(--fill-color);\n",
              "    }\n",
              "    20% {\n",
              "      border-color: transparent;\n",
              "      border-left-color: var(--fill-color);\n",
              "      border-top-color: var(--fill-color);\n",
              "    }\n",
              "    30% {\n",
              "      border-color: transparent;\n",
              "      border-left-color: var(--fill-color);\n",
              "      border-top-color: var(--fill-color);\n",
              "      border-right-color: var(--fill-color);\n",
              "    }\n",
              "    40% {\n",
              "      border-color: transparent;\n",
              "      border-right-color: var(--fill-color);\n",
              "      border-top-color: var(--fill-color);\n",
              "    }\n",
              "    60% {\n",
              "      border-color: transparent;\n",
              "      border-right-color: var(--fill-color);\n",
              "    }\n",
              "    80% {\n",
              "      border-color: transparent;\n",
              "      border-right-color: var(--fill-color);\n",
              "      border-bottom-color: var(--fill-color);\n",
              "    }\n",
              "    90% {\n",
              "      border-color: transparent;\n",
              "      border-bottom-color: var(--fill-color);\n",
              "    }\n",
              "  }\n",
              "</style>\n",
              "\n",
              "      <script>\n",
              "        async function quickchart(key) {\n",
              "          const quickchartButtonEl =\n",
              "            document.querySelector('#' + key + ' button');\n",
              "          quickchartButtonEl.disabled = true;  // To prevent multiple clicks.\n",
              "          quickchartButtonEl.classList.add('colab-df-spinner');\n",
              "          try {\n",
              "            const charts = await google.colab.kernel.invokeFunction(\n",
              "                'suggestCharts', [key], {});\n",
              "          } catch (error) {\n",
              "            console.error('Error during call to suggestCharts:', error);\n",
              "          }\n",
              "          quickchartButtonEl.classList.remove('colab-df-spinner');\n",
              "          quickchartButtonEl.classList.add('colab-df-quickchart-complete');\n",
              "        }\n",
              "        (() => {\n",
              "          let quickchartButtonEl =\n",
              "            document.querySelector('#df-e2f579f8-d38f-4867-9395-fc9739e8e313 button');\n",
              "          quickchartButtonEl.style.display =\n",
              "            google.colab.kernel.accessAllowed ? 'block' : 'none';\n",
              "        })();\n",
              "      </script>\n",
              "    </div>\n",
              "\n",
              "    </div>\n",
              "  </div>\n"
            ],
            "application/vnd.google.colaboratory.intrinsic+json": {
              "type": "dataframe",
              "variable_name": "ratings_pred_matrix"
            }
          },
          "metadata": {},
          "execution_count": 7
        }
      ]
    },
    {
      "cell_type": "code",
      "source": [
        "def get_unseen_movies(ratings_matrix, userId):\n",
        "    # userId로 입력받은 사용자의 모든 영화정보 추출하여 Series로 반환함.\n",
        "    # 반환된 user_rating 은 영화명(title)을 index로 가지는 Series 객체임.\n",
        "    user_rating = ratings_matrix.loc[userId,:]\n",
        "\n",
        "    # user_rating이 0보다 크면 기존에 관람한 영화임. 대상 index를 추출하여 list 객체로 만듬\n",
        "    already_seen = user_rating[ user_rating > 0].index.tolist()\n",
        "\n",
        "    # 모든 영화명을 list 객체로 만듬.\n",
        "    movies_list = ratings_matrix.columns.tolist()\n",
        "\n",
        "    # list comprehension으로 already_seen에 해당하는 movie는 movies_list에서 제외함.\n",
        "    unseen_list = [ movie for movie in movies_list if movie not in already_seen]\n",
        "\n",
        "    return unseen_list\n"
      ],
      "metadata": {
        "id": "OT_NE6aDEE8n"
      },
      "execution_count": null,
      "outputs": []
    },
    {
      "cell_type": "code",
      "source": [
        "def recomm_movie_by_userid(pred_df, userId, unseen_list, top_n=10):\n",
        "    # 예측 평점 DataFrame에서 사용자id index와 unseen_list로 들어온 영화명 컬럼을 추출하여\n",
        "    # 가장 예측 평점이 높은 순으로 정렬함.\n",
        "    recomm_movies = pred_df.loc[userId, unseen_list].sort_values(ascending=False)[:top_n]\n",
        "    return recomm_movies"
      ],
      "metadata": {
        "id": "Q56Bmj8YEG5K"
      },
      "execution_count": null,
      "outputs": []
    },
    {
      "cell_type": "code",
      "source": [
        "# 사용자가 관람하지 않은 영화명 추출\n",
        "unseen_list = get_unseen_movies(ratings_matrix, 9)\n",
        "\n",
        "# 잠재 요인 협업 필터링으로 영화 추천\n",
        "recomm_movies = recomm_movie_by_userid(ratings_pred_matrix, 9, unseen_list, top_n=10)\n",
        "\n",
        "# 평점 데이터를 DataFrame 으로 생성\n",
        "recomm_movies = pd.DataFrame(data=recomm_movies.values, index=recomm_movies.index, columns=['pred_scores'])\n",
        "recomm_movies"
      ],
      "metadata": {
        "colab": {
          "base_uri": "https://localhost:8080/",
          "height": 394
        },
        "id": "-vJFpLElD3Fe",
        "outputId": "d165b8ff-64a0-46bc-87d8-e138b46ade0f"
      },
      "execution_count": null,
      "outputs": [
        {
          "output_type": "execute_result",
          "data": {
            "text/plain": [
              "                                                    pred_scores\n",
              "title                                                          \n",
              "Rear Window (1954)                                     5.704612\n",
              "South Park: Bigger, Longer and Uncut (1999)            5.451100\n",
              "Rounders (1998)                                        5.298393\n",
              "Blade Runner (1982)                                    5.244951\n",
              "Roger & Me (1989)                                      5.191962\n",
              "Gattaca (1997)                                         5.183179\n",
              "Ben-Hur (1959)                                         5.130463\n",
              "Rosencrantz and Guildenstern Are Dead (1990)           5.087375\n",
              "Big Lebowski, The (1998)                               5.038690\n",
              "Star Wars: Episode V - The Empire Strikes Back ...     4.989601"
            ],
            "text/html": [
              "\n",
              "  <div id=\"df-90ab8e0d-9321-4d9e-b442-ac7739dc0c7d\" class=\"colab-df-container\">\n",
              "    <div>\n",
              "<style scoped>\n",
              "    .dataframe tbody tr th:only-of-type {\n",
              "        vertical-align: middle;\n",
              "    }\n",
              "\n",
              "    .dataframe tbody tr th {\n",
              "        vertical-align: top;\n",
              "    }\n",
              "\n",
              "    .dataframe thead th {\n",
              "        text-align: right;\n",
              "    }\n",
              "</style>\n",
              "<table border=\"1\" class=\"dataframe\">\n",
              "  <thead>\n",
              "    <tr style=\"text-align: right;\">\n",
              "      <th></th>\n",
              "      <th>pred_scores</th>\n",
              "    </tr>\n",
              "    <tr>\n",
              "      <th>title</th>\n",
              "      <th></th>\n",
              "    </tr>\n",
              "  </thead>\n",
              "  <tbody>\n",
              "    <tr>\n",
              "      <th>Rear Window (1954)</th>\n",
              "      <td>5.704612</td>\n",
              "    </tr>\n",
              "    <tr>\n",
              "      <th>South Park: Bigger, Longer and Uncut (1999)</th>\n",
              "      <td>5.451100</td>\n",
              "    </tr>\n",
              "    <tr>\n",
              "      <th>Rounders (1998)</th>\n",
              "      <td>5.298393</td>\n",
              "    </tr>\n",
              "    <tr>\n",
              "      <th>Blade Runner (1982)</th>\n",
              "      <td>5.244951</td>\n",
              "    </tr>\n",
              "    <tr>\n",
              "      <th>Roger &amp; Me (1989)</th>\n",
              "      <td>5.191962</td>\n",
              "    </tr>\n",
              "    <tr>\n",
              "      <th>Gattaca (1997)</th>\n",
              "      <td>5.183179</td>\n",
              "    </tr>\n",
              "    <tr>\n",
              "      <th>Ben-Hur (1959)</th>\n",
              "      <td>5.130463</td>\n",
              "    </tr>\n",
              "    <tr>\n",
              "      <th>Rosencrantz and Guildenstern Are Dead (1990)</th>\n",
              "      <td>5.087375</td>\n",
              "    </tr>\n",
              "    <tr>\n",
              "      <th>Big Lebowski, The (1998)</th>\n",
              "      <td>5.038690</td>\n",
              "    </tr>\n",
              "    <tr>\n",
              "      <th>Star Wars: Episode V - The Empire Strikes Back (1980)</th>\n",
              "      <td>4.989601</td>\n",
              "    </tr>\n",
              "  </tbody>\n",
              "</table>\n",
              "</div>\n",
              "    <div class=\"colab-df-buttons\">\n",
              "\n",
              "  <div class=\"colab-df-container\">\n",
              "    <button class=\"colab-df-convert\" onclick=\"convertToInteractive('df-90ab8e0d-9321-4d9e-b442-ac7739dc0c7d')\"\n",
              "            title=\"Convert this dataframe to an interactive table.\"\n",
              "            style=\"display:none;\">\n",
              "\n",
              "  <svg xmlns=\"http://www.w3.org/2000/svg\" height=\"24px\" viewBox=\"0 -960 960 960\">\n",
              "    <path d=\"M120-120v-720h720v720H120Zm60-500h600v-160H180v160Zm220 220h160v-160H400v160Zm0 220h160v-160H400v160ZM180-400h160v-160H180v160Zm440 0h160v-160H620v160ZM180-180h160v-160H180v160Zm440 0h160v-160H620v160Z\"/>\n",
              "  </svg>\n",
              "    </button>\n",
              "\n",
              "  <style>\n",
              "    .colab-df-container {\n",
              "      display:flex;\n",
              "      gap: 12px;\n",
              "    }\n",
              "\n",
              "    .colab-df-convert {\n",
              "      background-color: #E8F0FE;\n",
              "      border: none;\n",
              "      border-radius: 50%;\n",
              "      cursor: pointer;\n",
              "      display: none;\n",
              "      fill: #1967D2;\n",
              "      height: 32px;\n",
              "      padding: 0 0 0 0;\n",
              "      width: 32px;\n",
              "    }\n",
              "\n",
              "    .colab-df-convert:hover {\n",
              "      background-color: #E2EBFA;\n",
              "      box-shadow: 0px 1px 2px rgba(60, 64, 67, 0.3), 0px 1px 3px 1px rgba(60, 64, 67, 0.15);\n",
              "      fill: #174EA6;\n",
              "    }\n",
              "\n",
              "    .colab-df-buttons div {\n",
              "      margin-bottom: 4px;\n",
              "    }\n",
              "\n",
              "    [theme=dark] .colab-df-convert {\n",
              "      background-color: #3B4455;\n",
              "      fill: #D2E3FC;\n",
              "    }\n",
              "\n",
              "    [theme=dark] .colab-df-convert:hover {\n",
              "      background-color: #434B5C;\n",
              "      box-shadow: 0px 1px 3px 1px rgba(0, 0, 0, 0.15);\n",
              "      filter: drop-shadow(0px 1px 2px rgba(0, 0, 0, 0.3));\n",
              "      fill: #FFFFFF;\n",
              "    }\n",
              "  </style>\n",
              "\n",
              "    <script>\n",
              "      const buttonEl =\n",
              "        document.querySelector('#df-90ab8e0d-9321-4d9e-b442-ac7739dc0c7d button.colab-df-convert');\n",
              "      buttonEl.style.display =\n",
              "        google.colab.kernel.accessAllowed ? 'block' : 'none';\n",
              "\n",
              "      async function convertToInteractive(key) {\n",
              "        const element = document.querySelector('#df-90ab8e0d-9321-4d9e-b442-ac7739dc0c7d');\n",
              "        const dataTable =\n",
              "          await google.colab.kernel.invokeFunction('convertToInteractive',\n",
              "                                                    [key], {});\n",
              "        if (!dataTable) return;\n",
              "\n",
              "        const docLinkHtml = 'Like what you see? Visit the ' +\n",
              "          '<a target=\"_blank\" href=https://colab.research.google.com/notebooks/data_table.ipynb>data table notebook</a>'\n",
              "          + ' to learn more about interactive tables.';\n",
              "        element.innerHTML = '';\n",
              "        dataTable['output_type'] = 'display_data';\n",
              "        await google.colab.output.renderOutput(dataTable, element);\n",
              "        const docLink = document.createElement('div');\n",
              "        docLink.innerHTML = docLinkHtml;\n",
              "        element.appendChild(docLink);\n",
              "      }\n",
              "    </script>\n",
              "  </div>\n",
              "\n",
              "\n",
              "    <div id=\"df-79bb3ccc-1151-4767-9f45-a00f8fed889d\">\n",
              "      <button class=\"colab-df-quickchart\" onclick=\"quickchart('df-79bb3ccc-1151-4767-9f45-a00f8fed889d')\"\n",
              "                title=\"Suggest charts\"\n",
              "                style=\"display:none;\">\n",
              "\n",
              "<svg xmlns=\"http://www.w3.org/2000/svg\" height=\"24px\"viewBox=\"0 0 24 24\"\n",
              "     width=\"24px\">\n",
              "    <g>\n",
              "        <path d=\"M19 3H5c-1.1 0-2 .9-2 2v14c0 1.1.9 2 2 2h14c1.1 0 2-.9 2-2V5c0-1.1-.9-2-2-2zM9 17H7v-7h2v7zm4 0h-2V7h2v10zm4 0h-2v-4h2v4z\"/>\n",
              "    </g>\n",
              "</svg>\n",
              "      </button>\n",
              "\n",
              "<style>\n",
              "  .colab-df-quickchart {\n",
              "      --bg-color: #E8F0FE;\n",
              "      --fill-color: #1967D2;\n",
              "      --hover-bg-color: #E2EBFA;\n",
              "      --hover-fill-color: #174EA6;\n",
              "      --disabled-fill-color: #AAA;\n",
              "      --disabled-bg-color: #DDD;\n",
              "  }\n",
              "\n",
              "  [theme=dark] .colab-df-quickchart {\n",
              "      --bg-color: #3B4455;\n",
              "      --fill-color: #D2E3FC;\n",
              "      --hover-bg-color: #434B5C;\n",
              "      --hover-fill-color: #FFFFFF;\n",
              "      --disabled-bg-color: #3B4455;\n",
              "      --disabled-fill-color: #666;\n",
              "  }\n",
              "\n",
              "  .colab-df-quickchart {\n",
              "    background-color: var(--bg-color);\n",
              "    border: none;\n",
              "    border-radius: 50%;\n",
              "    cursor: pointer;\n",
              "    display: none;\n",
              "    fill: var(--fill-color);\n",
              "    height: 32px;\n",
              "    padding: 0;\n",
              "    width: 32px;\n",
              "  }\n",
              "\n",
              "  .colab-df-quickchart:hover {\n",
              "    background-color: var(--hover-bg-color);\n",
              "    box-shadow: 0 1px 2px rgba(60, 64, 67, 0.3), 0 1px 3px 1px rgba(60, 64, 67, 0.15);\n",
              "    fill: var(--button-hover-fill-color);\n",
              "  }\n",
              "\n",
              "  .colab-df-quickchart-complete:disabled,\n",
              "  .colab-df-quickchart-complete:disabled:hover {\n",
              "    background-color: var(--disabled-bg-color);\n",
              "    fill: var(--disabled-fill-color);\n",
              "    box-shadow: none;\n",
              "  }\n",
              "\n",
              "  .colab-df-spinner {\n",
              "    border: 2px solid var(--fill-color);\n",
              "    border-color: transparent;\n",
              "    border-bottom-color: var(--fill-color);\n",
              "    animation:\n",
              "      spin 1s steps(1) infinite;\n",
              "  }\n",
              "\n",
              "  @keyframes spin {\n",
              "    0% {\n",
              "      border-color: transparent;\n",
              "      border-bottom-color: var(--fill-color);\n",
              "      border-left-color: var(--fill-color);\n",
              "    }\n",
              "    20% {\n",
              "      border-color: transparent;\n",
              "      border-left-color: var(--fill-color);\n",
              "      border-top-color: var(--fill-color);\n",
              "    }\n",
              "    30% {\n",
              "      border-color: transparent;\n",
              "      border-left-color: var(--fill-color);\n",
              "      border-top-color: var(--fill-color);\n",
              "      border-right-color: var(--fill-color);\n",
              "    }\n",
              "    40% {\n",
              "      border-color: transparent;\n",
              "      border-right-color: var(--fill-color);\n",
              "      border-top-color: var(--fill-color);\n",
              "    }\n",
              "    60% {\n",
              "      border-color: transparent;\n",
              "      border-right-color: var(--fill-color);\n",
              "    }\n",
              "    80% {\n",
              "      border-color: transparent;\n",
              "      border-right-color: var(--fill-color);\n",
              "      border-bottom-color: var(--fill-color);\n",
              "    }\n",
              "    90% {\n",
              "      border-color: transparent;\n",
              "      border-bottom-color: var(--fill-color);\n",
              "    }\n",
              "  }\n",
              "</style>\n",
              "\n",
              "      <script>\n",
              "        async function quickchart(key) {\n",
              "          const quickchartButtonEl =\n",
              "            document.querySelector('#' + key + ' button');\n",
              "          quickchartButtonEl.disabled = true;  // To prevent multiple clicks.\n",
              "          quickchartButtonEl.classList.add('colab-df-spinner');\n",
              "          try {\n",
              "            const charts = await google.colab.kernel.invokeFunction(\n",
              "                'suggestCharts', [key], {});\n",
              "          } catch (error) {\n",
              "            console.error('Error during call to suggestCharts:', error);\n",
              "          }\n",
              "          quickchartButtonEl.classList.remove('colab-df-spinner');\n",
              "          quickchartButtonEl.classList.add('colab-df-quickchart-complete');\n",
              "        }\n",
              "        (() => {\n",
              "          let quickchartButtonEl =\n",
              "            document.querySelector('#df-79bb3ccc-1151-4767-9f45-a00f8fed889d button');\n",
              "          quickchartButtonEl.style.display =\n",
              "            google.colab.kernel.accessAllowed ? 'block' : 'none';\n",
              "        })();\n",
              "      </script>\n",
              "    </div>\n",
              "\n",
              "  <div id=\"id_bb7fbe08-542d-4312-943d-eaf19be59ebe\">\n",
              "    <style>\n",
              "      .colab-df-generate {\n",
              "        background-color: #E8F0FE;\n",
              "        border: none;\n",
              "        border-radius: 50%;\n",
              "        cursor: pointer;\n",
              "        display: none;\n",
              "        fill: #1967D2;\n",
              "        height: 32px;\n",
              "        padding: 0 0 0 0;\n",
              "        width: 32px;\n",
              "      }\n",
              "\n",
              "      .colab-df-generate:hover {\n",
              "        background-color: #E2EBFA;\n",
              "        box-shadow: 0px 1px 2px rgba(60, 64, 67, 0.3), 0px 1px 3px 1px rgba(60, 64, 67, 0.15);\n",
              "        fill: #174EA6;\n",
              "      }\n",
              "\n",
              "      [theme=dark] .colab-df-generate {\n",
              "        background-color: #3B4455;\n",
              "        fill: #D2E3FC;\n",
              "      }\n",
              "\n",
              "      [theme=dark] .colab-df-generate:hover {\n",
              "        background-color: #434B5C;\n",
              "        box-shadow: 0px 1px 3px 1px rgba(0, 0, 0, 0.15);\n",
              "        filter: drop-shadow(0px 1px 2px rgba(0, 0, 0, 0.3));\n",
              "        fill: #FFFFFF;\n",
              "      }\n",
              "    </style>\n",
              "    <button class=\"colab-df-generate\" onclick=\"generateWithVariable('recomm_movies')\"\n",
              "            title=\"Generate code using this dataframe.\"\n",
              "            style=\"display:none;\">\n",
              "\n",
              "  <svg xmlns=\"http://www.w3.org/2000/svg\" height=\"24px\"viewBox=\"0 0 24 24\"\n",
              "       width=\"24px\">\n",
              "    <path d=\"M7,19H8.4L18.45,9,17,7.55,7,17.6ZM5,21V16.75L18.45,3.32a2,2,0,0,1,2.83,0l1.4,1.43a1.91,1.91,0,0,1,.58,1.4,1.91,1.91,0,0,1-.58,1.4L9.25,21ZM18.45,9,17,7.55Zm-12,3A5.31,5.31,0,0,0,4.9,8.1,5.31,5.31,0,0,0,1,6.5,5.31,5.31,0,0,0,4.9,4.9,5.31,5.31,0,0,0,6.5,1,5.31,5.31,0,0,0,8.1,4.9,5.31,5.31,0,0,0,12,6.5,5.46,5.46,0,0,0,6.5,12Z\"/>\n",
              "  </svg>\n",
              "    </button>\n",
              "    <script>\n",
              "      (() => {\n",
              "      const buttonEl =\n",
              "        document.querySelector('#id_bb7fbe08-542d-4312-943d-eaf19be59ebe button.colab-df-generate');\n",
              "      buttonEl.style.display =\n",
              "        google.colab.kernel.accessAllowed ? 'block' : 'none';\n",
              "\n",
              "      buttonEl.onclick = () => {\n",
              "        google.colab.notebook.generateWithVariable('recomm_movies');\n",
              "      }\n",
              "      })();\n",
              "    </script>\n",
              "  </div>\n",
              "\n",
              "    </div>\n",
              "  </div>\n"
            ],
            "application/vnd.google.colaboratory.intrinsic+json": {
              "type": "dataframe",
              "variable_name": "recomm_movies",
              "summary": "{\n  \"name\": \"recomm_movies\",\n  \"rows\": 10,\n  \"fields\": [\n    {\n      \"column\": \"title\",\n      \"properties\": {\n        \"dtype\": \"string\",\n        \"num_unique_values\": 10,\n        \"samples\": [\n          \"Big Lebowski, The (1998)\",\n          \"South Park: Bigger, Longer and Uncut (1999)\",\n          \"Gattaca (1997)\"\n        ],\n        \"semantic_type\": \"\",\n        \"description\": \"\"\n      }\n    },\n    {\n      \"column\": \"pred_scores\",\n      \"properties\": {\n        \"dtype\": \"number\",\n        \"std\": 0.21272885538651393,\n        \"min\": 4.989601238872484,\n        \"max\": 5.704612469838172,\n        \"num_unique_values\": 10,\n        \"samples\": [\n          5.0386897288205725,\n          5.451100205772531,\n          5.183178550884765\n        ],\n        \"semantic_type\": \"\",\n        \"description\": \"\"\n      }\n    }\n  ]\n}"
            }
          },
          "metadata": {},
          "execution_count": 12
        }
      ]
    },
    {
      "cell_type": "markdown",
      "source": [
        "---\n",
        "## 08 파이썬 추천 시스템 패키지 - Surprise\n",
        "- 파이썬 기반에서 사아킷런과 유사한 api와 프레임 워크 제공"
      ],
      "metadata": {
        "id": "qDI4CxHbENOm"
      }
    },
    {
      "cell_type": "code",
      "source": [
        "!pip install numpy==1.23.5\n",
        "!pip install scikit-surprise --no-binary :all:"
      ],
      "metadata": {
        "id": "LcGqLB1OLSiN"
      },
      "execution_count": null,
      "outputs": []
    },
    {
      "cell_type": "code",
      "source": [
        "from surprise import SVD\n",
        "from surprise import Dataset\n",
        "from surprise import accuracy\n",
        "from surprise.model_selection import train_test_split"
      ],
      "metadata": {
        "id": "HOLD_MmgE8Qn"
      },
      "execution_count": null,
      "outputs": []
    },
    {
      "cell_type": "code",
      "source": [
        "data = Dataset.load_builtin('ml-100k')\n",
        "# 수행 시마다 동일하게 데이터를 분할하기 위해 random_state 값 부여\n",
        "trainset, testset = train_test_split(data, test_size=.25, random_state=0)"
      ],
      "metadata": {
        "colab": {
          "base_uri": "https://localhost:8080/"
        },
        "id": "R64RnYHKE-mO",
        "outputId": "23b1dd2a-f642-45a1-a292-b6e3b19460b1"
      },
      "execution_count": null,
      "outputs": [
        {
          "output_type": "stream",
          "name": "stdout",
          "text": [
            "Dataset ml-100k could not be found. Do you want to download it? [Y/n] ㅛ\n",
            "Dataset ml-100k could not be found. Do you want to download it? [Y/n] y\n",
            "Trying to download dataset from https://files.grouplens.org/datasets/movielens/ml-100k.zip...\n",
            "Done! Dataset ml-100k has been saved to /root/.surprise_data/ml-100k\n"
          ]
        }
      ]
    },
    {
      "cell_type": "code",
      "source": [
        "# SVD로 협업 필터링 수행\n",
        "algo = SVD(random_state=0)\n",
        "algo.fit(trainset)"
      ],
      "metadata": {
        "colab": {
          "base_uri": "https://localhost:8080/"
        },
        "id": "SaCmOV3SE_fH",
        "outputId": "51e1adb2-3ef9-4e76-84b3-09f82c80da8b"
      },
      "execution_count": null,
      "outputs": [
        {
          "output_type": "execute_result",
          "data": {
            "text/plain": [
              "<surprise.prediction_algorithms.matrix_factorization.SVD at 0x7a5c1aef3710>"
            ]
          },
          "metadata": {},
          "execution_count": 3
        }
      ]
    },
    {
      "cell_type": "code",
      "source": [
        "predictions = algo.test(testset)\n",
        "print('prediction type :', type(predictions), 'size:', len(predictions))\n",
        "print('prediction 결과의 최초 5개 추출')\n",
        "predictions[:5]"
      ],
      "metadata": {
        "colab": {
          "base_uri": "https://localhost:8080/"
        },
        "id": "6Mjxa_U3FDyF",
        "outputId": "03939d40-4cfa-4f58-8661-903ab8257ee8"
      },
      "execution_count": null,
      "outputs": [
        {
          "output_type": "stream",
          "name": "stdout",
          "text": [
            "prediction type : <class 'list'> size: 25000\n",
            "prediction 결과의 최초 5개 추출\n"
          ]
        },
        {
          "output_type": "execute_result",
          "data": {
            "text/plain": [
              "[Prediction(uid='120', iid='282', r_ui=4.0, est=3.5114147666251547, details={'was_impossible': False}),\n",
              " Prediction(uid='882', iid='291', r_ui=4.0, est=3.573872419581491, details={'was_impossible': False}),\n",
              " Prediction(uid='535', iid='507', r_ui=5.0, est=4.033583485472447, details={'was_impossible': False}),\n",
              " Prediction(uid='697', iid='244', r_ui=5.0, est=3.8463639495936905, details={'was_impossible': False}),\n",
              " Prediction(uid='751', iid='385', r_ui=4.0, est=3.1807542478219157, details={'was_impossible': False})]"
            ]
          },
          "metadata": {},
          "execution_count": 4
        }
      ]
    },
    {
      "cell_type": "code",
      "source": [
        "[ (pred.uid, pred.iid, pred.est) for pred in predictions[:3] ]"
      ],
      "metadata": {
        "colab": {
          "base_uri": "https://localhost:8080/"
        },
        "id": "6oyUgVL7FGK-",
        "outputId": "96ae72b5-7b0e-49d7-a5b5-af4a744a863b"
      },
      "execution_count": null,
      "outputs": [
        {
          "output_type": "execute_result",
          "data": {
            "text/plain": [
              "[('120', '282', 3.5114147666251547),\n",
              " ('882', '291', 3.573872419581491),\n",
              " ('535', '507', 4.033583485472447)]"
            ]
          },
          "metadata": {},
          "execution_count": 5
        }
      ]
    },
    {
      "cell_type": "code",
      "source": [
        "# 사용자 아이다, 아이템 아이디는 문자열로 입력해야 함\n",
        "uid = str(196)\n",
        "iid = str(302)\n",
        "pred = algo.predict(uid, iid)\n",
        "print(pred)"
      ],
      "metadata": {
        "colab": {
          "base_uri": "https://localhost:8080/"
        },
        "id": "-dCiTc5GFNwX",
        "outputId": "bbe825fa-7f3f-47f2-b2f6-f5889e4f76b7"
      },
      "execution_count": null,
      "outputs": [
        {
          "output_type": "stream",
          "name": "stdout",
          "text": [
            "user: 196        item: 302        r_ui = None   est = 4.49   {'was_impossible': False}\n"
          ]
        }
      ]
    },
    {
      "cell_type": "code",
      "source": [
        "accuracy.rmse(predictions)"
      ],
      "metadata": {
        "colab": {
          "base_uri": "https://localhost:8080/"
        },
        "id": "C0Nh8Kx1FQ5J",
        "outputId": "3ff82ffb-718a-41f5-d4a5-fa6dafdc8e78"
      },
      "execution_count": null,
      "outputs": [
        {
          "output_type": "stream",
          "name": "stdout",
          "text": [
            "RMSE: 0.9467\n"
          ]
        },
        {
          "output_type": "execute_result",
          "data": {
            "text/plain": [
              "0.9466860806937948"
            ]
          },
          "metadata": {},
          "execution_count": 7
        }
      ]
    },
    {
      "cell_type": "markdown",
      "source": [
        "### Surprise 주요 모듈 소개\n",
        "- 사용자 아이디, 아이템 아이디, 평점 데이터가 로우 레벨로 된 데이터 세트만 적용 가능\n",
        "- 예를 들어, 첫번 째는 사용자 아이디, 두번쨰 칼럼은 아이템 아이지, 세번 쨰 칼럼은 평점으로 가정해 데이터를 로딩하고 네번째 칼럼부터는 로딩을 수행하지 않음."
      ],
      "metadata": {
        "id": "sESa7mnWFTcq"
      }
    },
    {
      "cell_type": "code",
      "source": [
        "# OS 파일 데이터를 Surprise 데이터 세트로 로딩\n",
        "import pandas as pd\n",
        "\n",
        "ratings = pd.read_csv('ratings.csv')\n",
        "# ratings_noh.csv 파일로 업로드 시 인덱스와 헤더를 모두 제거한 새로운 파일 생성.\n",
        "ratings.to_csv('ratings_noh.csv', index=False, header=False)"
      ],
      "metadata": {
        "id": "BNUDdfmoFzIa"
      },
      "execution_count": null,
      "outputs": []
    },
    {
      "cell_type": "markdown",
      "source": [
        "- reader 클래스를 이용해 데이터 파일의 파싱 포맷을 정의, 로딩될 ratings_noh.csv 파일의 파싱 정보를 알려주기 위해 사용\n",
        "- reader 클래스의 생성자에 각 필드의 칼럼명과 칼럼 분리 문자 그리고 최소~최대 평점을 입력해 객체를 생성"
      ],
      "metadata": {
        "id": "Y7SwzWVqGVRJ"
      }
    },
    {
      "cell_type": "code",
      "source": [
        "from surprise import Reader\n",
        "\n",
        "reader = Reader(line_format = 'user item rating timestamp', sep=',', rating_scale=(0.5, 5))\n",
        "data = Dataset.load_from_file('ratings_noh.csv', reader=reader)"
      ],
      "metadata": {
        "id": "96-VZN2wGtb-"
      },
      "execution_count": null,
      "outputs": []
    },
    {
      "cell_type": "markdown",
      "source": [
        "- line_format(string): 칼럼을 순서대로 나열, 입력된 문자열을 공백으로 분리해 칼럼으로 인식\n",
        "- sep (char): 칼럼을 분리하는 분리자이며, 디폴트는 '\\t'임. 판다스 DataFrame에서 입력받을 경우 기재할 필요 x\n",
        "- rating_scale (tuple, optional): 평점 값의 최소~최대 평점을 설정, 디폴트는 (1,5)이지만 ratings.csv 파일의 경우 최소 평점이 0.5, 최대 평점이 5이므로 (0.5,5) 설정"
      ],
      "metadata": {
        "id": "TBtb0-UBGvjM"
      }
    },
    {
      "cell_type": "code",
      "source": [
        "trainset, testset = train_test_split(data, test_size=.25, random_state=0)\n",
        "\n",
        "# 수행 시마다 동일한 결과를 도출하기 위해 random_state 설정\n",
        "algo = SVD(n_factors = 50, random_state=0)\n",
        "\n",
        "# 학습 데이터 세트로 학습하고 나서 텍스트 데이터 세트로 평점 예측 후 RMSE 평가\n",
        "algo.fit(trainset)\n",
        "predictions = algo.test(testset)\n",
        "accuracy.rmse(predictions)"
      ],
      "metadata": {
        "colab": {
          "base_uri": "https://localhost:8080/"
        },
        "id": "oeatoUKiHRkO",
        "outputId": "8d21f191-c9ab-4bf5-d51c-8315fad391ea"
      },
      "execution_count": null,
      "outputs": [
        {
          "output_type": "stream",
          "name": "stdout",
          "text": [
            "RMSE: 0.8682\n"
          ]
        },
        {
          "output_type": "execute_result",
          "data": {
            "text/plain": [
              "0.8681952927143516"
            ]
          },
          "metadata": {},
          "execution_count": 12
        }
      ]
    },
    {
      "cell_type": "markdown",
      "source": [
        "### 판다스 DataFrame에서 Surprise 데이터 세트로 로딩"
      ],
      "metadata": {
        "id": "0WUClbX3HScd"
      }
    },
    {
      "cell_type": "code",
      "source": [
        "import pandas as pd\n",
        "from surprise import Reader, Dataset\n",
        "\n",
        "ratings = pd.read_csv('ratings.csv')\n",
        "reader = Reader(rating_scale=(0.5, 5.0))\n",
        "\n",
        "ratings = ratings.rename(columns={\n",
        "    '1': 'userId',\n",
        "    '1.1': 'movieId',\n",
        "    '4.0': 'rating'\n",
        "})\n",
        "\n",
        "\n",
        "# ratings DataFrame 에서 컬럼은 사용자 아이디, 아이템 아이디, 평점 순서를 지켜야 합니다.\n",
        "data = Dataset.load_from_df(ratings[['userId', 'movieId', 'rating']], reader)\n",
        "trainset, testset = train_test_split(data, test_size=.25, random_state=0)\n",
        "\n",
        "algo = SVD(n_factors=50, random_state=0)\n",
        "algo.fit(trainset)\n",
        "predictions = algo.test( testset )\n",
        "accuracy.rmse(predictions)"
      ],
      "metadata": {
        "colab": {
          "base_uri": "https://localhost:8080/"
        },
        "id": "TyP_NgidHqyf",
        "outputId": "d8018fbb-efb4-4867-89c1-3643680f7e56"
      },
      "execution_count": null,
      "outputs": [
        {
          "output_type": "stream",
          "name": "stdout",
          "text": [
            "RMSE: 0.8682\n"
          ]
        },
        {
          "output_type": "execute_result",
          "data": {
            "text/plain": [
              "0.8681952927143516"
            ]
          },
          "metadata": {},
          "execution_count": 15
        }
      ]
    },
    {
      "cell_type": "markdown",
      "source": [
        "## Surprise 추천 알고리즘 클래스\n",
        "- SVD, KNNBasic, Baselineonly(사용자 bias와 아이템 bias를 감안한 SGD 베이스라인 알고리즘)\n",
        "\n",
        "![image.png](data:image/png;base64,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)"
      ],
      "metadata": {
        "id": "ojDC4UcPHq1K"
      }
    },
    {
      "cell_type": "markdown",
      "source": [
        "### 베이스라인 평점\n",
        "- 개인의 성향을 반영해 아이템 평가에 편향성 요소를 반영해 평점을 부과하는 것\n",
        "- 베이스라인 평점 = 전체 평균 평점 + 사용자 편향 점수 + 아이템 편향 점수 공식"
      ],
      "metadata": {
        "id": "Je8sMbunISqO"
      }
    },
    {
      "cell_type": "markdown",
      "source": [
        "### 교차 검증과 하이처 파라미터 튜닝\n",
        "- cross_validate()와 GridSearchCV 클래스를 제공"
      ],
      "metadata": {
        "id": "Oy7-2PJcIQHy"
      }
    },
    {
      "cell_type": "code",
      "source": [
        "from surprise.model_selection import cross_validate\n",
        "\n",
        "# 판다스 DataFrame에서 Surprise 데이터 세트로 데이터 로딩\n",
        "\n",
        "ratings = pd.read_csv('ratings.csv')\n",
        "reader = Reader(rating_scale=(0.5, 5.0))\n",
        "\n",
        "ratings = ratings.rename(columns={\n",
        "    '1': 'userId',\n",
        "    '1.1': 'movieId',\n",
        "    '4.0': 'rating'\n",
        "})\n",
        "\n",
        "data = Dataset.load_from_df(ratings[['userId', 'movieId', 'rating']], reader)\n",
        "\n",
        "algo = SVD(random_state=0)\n",
        "cross_validate(algo, data, measures = ['RMSE', 'MAE'], cv=5, verbose=True)"
      ],
      "metadata": {
        "colab": {
          "base_uri": "https://localhost:8080/"
        },
        "id": "fOF94UYjIQQZ",
        "outputId": "ec0a2e50-f524-4c51-9ab1-d58b420b3c9d"
      },
      "execution_count": null,
      "outputs": [
        {
          "output_type": "stream",
          "name": "stdout",
          "text": [
            "Evaluating RMSE, MAE of algorithm SVD on 5 split(s).\n",
            "\n",
            "                  Fold 1  Fold 2  Fold 3  Fold 4  Fold 5  Mean    Std     \n",
            "RMSE (testset)    0.8644  0.8832  0.8734  0.8827  0.8712  0.8750  0.0072  \n",
            "MAE (testset)     0.6656  0.6795  0.6722  0.6778  0.6682  0.6726  0.0054  \n",
            "Fit time          1.88    2.54    1.86    1.78    1.68    1.95    0.31    \n",
            "Test time         0.13    0.27    0.24    0.30    0.11    0.21    0.08    \n"
          ]
        },
        {
          "output_type": "execute_result",
          "data": {
            "text/plain": [
              "{'test_rmse': array([0.86435878, 0.88319034, 0.87338987, 0.88273151, 0.8712049 ]),\n",
              " 'test_mae': array([0.66558451, 0.67948014, 0.6721729 , 0.67783753, 0.66815717]),\n",
              " 'fit_time': (1.8782627582550049,\n",
              "  2.544616460800171,\n",
              "  1.864159345626831,\n",
              "  1.7807106971740723,\n",
              "  1.6813158988952637),\n",
              " 'test_time': (0.12599444389343262,\n",
              "  0.2719888687133789,\n",
              "  0.24201011657714844,\n",
              "  0.298384428024292,\n",
              "  0.11341452598571777)}"
            ]
          },
          "metadata": {},
          "execution_count": 17
        }
      ]
    },
    {
      "cell_type": "code",
      "source": [
        "from surprise.model_selection import GridSearchCV\n",
        "\n",
        "# 최적화할 파라미터를 딕셔너리 형태로 지정\n",
        "param_grid = {'n_epochs' : [20,40,60], 'n_factors':[50,100,200]}\n",
        "\n",
        "# CV를 3개 폴드 세트로 지정, 성능 평가는 rmse, mse 로 수행하도록 GridSearchCV 구성\n",
        "gs = GridSearchCV(SVD, param_grid, measures = ['rmse', 'mae'], cv=3)\n",
        "gs.fit(data)\n",
        "\n",
        "# 최고 RMSE Evaluation 점수와 그때의 하이퍼 파라미터\n",
        "print(gs.best_score['rmse'])\n",
        "print(gs.best_params['rmse'])"
      ],
      "metadata": {
        "colab": {
          "base_uri": "https://localhost:8080/"
        },
        "id": "t4R8fLKFIQTD",
        "outputId": "74ee9321-72a1-4040-a6ec-16330059240d"
      },
      "execution_count": null,
      "outputs": [
        {
          "output_type": "stream",
          "name": "stdout",
          "text": [
            "0.876827952328289\n",
            "{'n_epochs': 20, 'n_factors': 50}\n"
          ]
        }
      ]
    },
    {
      "cell_type": "markdown",
      "source": [
        "### surprise를 이용한 개인화 영화 추천 시스템 구축"
      ],
      "metadata": {
        "id": "nN05bIoZIQWN"
      }
    },
    {
      "cell_type": "code",
      "source": [
        "# 다음 코드는 train_test_split()으로 분리되지 않는 데이터 세트에 fit()을 호출해 오류가 발생\n",
        "\n",
        "data = Dataset.load_from_df(ratings[['userId', 'movieId', 'rating']], reader)\n",
        "algo = SVD(n_factors=50, random_state=0)\n",
        "# algo.fit(data)"
      ],
      "metadata": {
        "id": "SGGzg985IQYi"
      },
      "execution_count": null,
      "outputs": []
    },
    {
      "cell_type": "code",
      "source": [
        "from surprise.dataset import DatasetAutoFolds\n",
        "\n",
        "reader = Reader(line_format = 'user item rating timestamp', sep=',', rating_scale=(0.5, 5))\n",
        "# DatasetAutoFolds 클래스를 ratings_noh.csv 파일 기반으로 생성\n",
        "data_folds = DatasetAutoFolds(ratings_file = 'ratings_noh.csv', reader= reader)\n",
        "\n",
        "# 전체 데이터를 학습 데이터로 생성함\n",
        "trainset = data_folds.build_full_trainset()"
      ],
      "metadata": {
        "id": "oaK98QFQHmqL"
      },
      "execution_count": null,
      "outputs": []
    },
    {
      "cell_type": "code",
      "source": [
        "algo = SVD(n_epochs=20, n_factors=50, random_state=0)\n",
        "algo.fit(trainset)"
      ],
      "metadata": {
        "colab": {
          "base_uri": "https://localhost:8080/"
        },
        "id": "l8002Xy_JBor",
        "outputId": "ab3f6cfa-9a1c-4122-fa6c-6c082d036d87"
      },
      "execution_count": null,
      "outputs": [
        {
          "output_type": "execute_result",
          "data": {
            "text/plain": [
              "<surprise.prediction_algorithms.matrix_factorization.SVD at 0x7a5c49102dd0>"
            ]
          },
          "metadata": {},
          "execution_count": 22
        }
      ]
    },
    {
      "cell_type": "code",
      "source": [
        "# 영화에 대한 상세 속성 정보 DataFrame 로딩\n",
        "movies = pd.read_csv('movies.csv')\n",
        "\n",
        "# userId = 9의 movieId 데이터를 추출해 movieId=42 데이터가 있는지 확인\n",
        "movieIds = ratings[ratings['userId']==9]['movieId']\n",
        "\n",
        "if movieIds[movieIds == 42].count() == 0:\n",
        "    print('사용자 아이디 9는 영화 아이디 42의 평점 없음')\n",
        "\n",
        "print(movies[movies['movieId']==42])"
      ],
      "metadata": {
        "colab": {
          "base_uri": "https://localhost:8080/"
        },
        "id": "LmTdu9FVJHRR",
        "outputId": "cf3e15f5-7cb2-48e4-897e-b20769c4a3c7"
      },
      "execution_count": null,
      "outputs": [
        {
          "output_type": "stream",
          "name": "stdout",
          "text": [
            "사용자 아이디 9는 영화 아이디 42의 평점 없음\n",
            "    movieId                   title              genres\n",
            "38       42  Dead Presidents (1995)  Action|Crime|Drama\n"
          ]
        }
      ]
    },
    {
      "cell_type": "code",
      "source": [
        "uid = str(9)\n",
        "iid = str(42)"
      ],
      "metadata": {
        "id": "ZuBVjPTqJKsD"
      },
      "execution_count": null,
      "outputs": []
    },
    {
      "cell_type": "code",
      "source": [
        "def get_unseen_surprise(ratings, movies, userId):\n",
        "    # 입력값으로 들어온 userId에 해당하는 사용자가 평점을 매긴 모든 영화를 리스트로 생성\n",
        "    seen_movies = ratings[ratings['userId']==userId]['movieId'].tolist()\n",
        "\n",
        "    # 모든 영화의 movieid를 리스트로 생성\n",
        "    total_movies = movies['movieId'].tolist()\n",
        "\n",
        "    # 모든 영화의 movieId 중 이미 평점을 매긴 영화의 movieId를 제외한 후 리스트로 생성\n",
        "    unseen_movies = [movie for movie in total_movies if movie not in seen_movies]\n",
        "    print('평점 매긴 영화 수:', len(seen_movies), '추천 대상 영화 수:', len(unseen_movies), '전체 영화 수:', len(total_movies))\n",
        "\n",
        "    return unseen_movies\n",
        "\n",
        "unseen_movies = get_unseen_surprise(ratings, movies, 9)"
      ],
      "metadata": {
        "colab": {
          "base_uri": "https://localhost:8080/"
        },
        "id": "rdzS6HUbJM6J",
        "outputId": "e3a16926-b4ca-4f3b-cfd1-c37d1ae73d61"
      },
      "execution_count": null,
      "outputs": [
        {
          "output_type": "stream",
          "name": "stdout",
          "text": [
            "평점 매긴 영화 수: 46 추천 대상 영화 수: 9696 전체 영화 수: 9742\n"
          ]
        }
      ]
    },
    {
      "cell_type": "code",
      "source": [
        "def recomm_movie_by_surprise(algo, userId, unseen_movies, top_n=10):\n",
        "    # 알고리즘 객체의 predict() 메서드를 평점이 없는 영화에 반복 수행한 후 결과를 list 객체로 저장\n",
        "    predictions = [algo.predict(str(userId), str(movieId)) for movieId in unseen_movies]\n",
        "\n",
        "    # predictions list 객체는 surprise의 Predictions 객체를 원소로 가지고 있음.\n",
        "    # [Prediction(uid='9', iid='1', est=3.69), Prediction(uid='9', iid='2', est=2.98),,,,]\n",
        "    # 이를 est 값으로 정렬하기 위해서 아래의 sortkey_est 함수를 정의함.\n",
        "    # sortkey_est 함수는 list 객체의 sort() 함수의 키 값으로 사용되어 정렬 수행.\n",
        "    def sortkey_est(pred):\n",
        "        return pred.est\n",
        "\n",
        "    # sortkey_est( ) 반환값의 내림 차순으로 정렬 수행하고 top_n개의 최상위 값 추출.\n",
        "    predictions.sort(key=sortkey_est, reverse=True)\n",
        "    top_predictions= predictions[:top_n]\n",
        "\n",
        "    # top_n으로 추출된 영화의 정보 추출. 영화 아이디, 추천 예상 평점, 제목 추출\n",
        "    top_movie_ids = [ int(pred.iid) for pred in top_predictions]\n",
        "    top_movie_rating = [ pred.est for pred in top_predictions]\n",
        "    top_movie_titles = movies[movies.movieId.isin(top_movie_ids)]['title']\n",
        "    top_movie_preds = [ (id, title, rating) for id, title, rating in zip(top_movie_ids, top_movie_titles, top_movie_rating)]\n",
        "\n",
        "    return top_movie_preds"
      ],
      "metadata": {
        "id": "zU3tQx8kJU6a"
      },
      "execution_count": null,
      "outputs": []
    },
    {
      "cell_type": "code",
      "source": [
        "unseen_movies = get_unseen_surprise(ratings, movies, 9)\n",
        "top_movie_preds = recomm_movie_by_surprise(algo, 9, unseen_movies, top_n=10)\n",
        "print('##### Top-10 추천 영화 리스트 #####')\n",
        "\n",
        "for top_movie in top_movie_preds:\n",
        "    print(top_movie[1], \":\", top_movie[2])"
      ],
      "metadata": {
        "colab": {
          "base_uri": "https://localhost:8080/"
        },
        "id": "i1yR_C1NJYh4",
        "outputId": "6a0bc6e6-5d13-4ab5-d3fa-ed2caaa5ce0f"
      },
      "execution_count": null,
      "outputs": [
        {
          "output_type": "stream",
          "name": "stdout",
          "text": [
            "평점 매긴 영화 수: 46 추천 대상 영화 수: 9696 전체 영화 수: 9742\n",
            "##### Top-10 추천 영화 리스트 #####\n",
            "Usual Suspects, The (1995) : 4.306302135700814\n",
            "Star Wars: Episode IV - A New Hope (1977) : 4.281663842987387\n",
            "Pulp Fiction (1994) : 4.278152632122759\n",
            "Silence of the Lambs, The (1991) : 4.226073566460876\n",
            "Godfather, The (1972) : 4.1918097904381995\n",
            "Streetcar Named Desire, A (1951) : 4.154746591122657\n",
            "Star Wars: Episode V - The Empire Strikes Back (1980) : 4.122016128534504\n",
            "Star Wars: Episode VI - Return of the Jedi (1983) : 4.108009609093436\n",
            "Goodfellas (1990) : 4.083464936588478\n",
            "Glory (1989) : 4.07887165526957\n"
          ]
        }
      ]
    },
    {
      "cell_type": "markdown",
      "source": [
        "## 09 정리\n",
        "- 추천 시스템은 기업 애플리케이션에서 매우 중요한 위치 차지\n",
        "- 콘텐츠 기반 필터링과 협업 필터링 살펴좀\n",
        "- 협업 필터링은 최근접 이웃 협업 필터링과 잠재 요인 협업 필터링 나뉨.\n",
        "- 잠재 요인 협업 필터링은 사용자-아잍메 평점 행렬 데이터에 숨어 있는 잠재 요인을 추출하여 사용하여 사용자가 아직 평점을 매기지 않은 아이템에 대한 평점을 예측하여 이를 추천에 반영\n",
        "- 파이썬의 추천 패키지 surprise 간단한 api만을 이용해 파이썬 기반에서 추천시스템 구현"
      ],
      "metadata": {
        "id": "GVNPz10pJapX"
      }
    }
  ]
}