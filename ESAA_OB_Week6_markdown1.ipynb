{
  "cells": [
    {
      "cell_type": "markdown",
      "metadata": {
        "id": "lEDhitRjmonL"
      },
      "source": [
        "## 10 - 텍스트 분석 실습 - 캐글\n",
        "- pric가 예측해야 할 타깃으로 회귀로 피처를 학습한 뒤 prive를 예측하는 문제\n",
        "- item_description과 같은 텍스트 형태의 비정형 데이터와 다른 정형 속성을 같이 적용해 회귀를 수행\n",
        "\n",
        "\n",
        "\n",
        "\n",
        "## 데이터 전처리"
      ]
    },
    {
      "cell_type": "code",
      "execution_count": 1,
      "metadata": {
        "colab": {
          "base_uri": "https://localhost:8080/"
        },
        "id": "Yeu7VS0mm86Q",
        "outputId": "42ed444f-3857-4738-92b6-5686557114a0"
      },
      "outputs": [
        {
          "output_type": "stream",
          "name": "stderr",
          "text": [
            "[nltk_data] Downloading package punkt to /root/nltk_data...\n",
            "[nltk_data]   Package punkt is already up-to-date!\n",
            "[nltk_data] Downloading package stopwords to /root/nltk_data...\n",
            "[nltk_data]   Package stopwords is already up-to-date!\n"
          ]
        },
        {
          "output_type": "stream",
          "name": "stdout",
          "text": [
            "Drive already mounted at /content/drive; to attempt to forcibly remount, call drive.mount(\"/content/drive\", force_remount=True).\n"
          ]
        }
      ],
      "source": [
        "import nltk\n",
        "nltk.download('punkt')         # 문장 토큰화에 필요\n",
        "nltk.download('stopwords')     # 불용어 처리에 필요\n",
        "from sklearn.linear_model import Ridge, LogisticRegression\n",
        "from sklearn.model_selection import train_test_split, cross_val_score\n",
        "from sklearn.feature_extraction.text import CountVectorizer, TfidfVectorizer\n",
        "import pandas as pd\n",
        "\n",
        "from google.colab import drive\n",
        "drive.mount('/content/drive')"
      ]
    },
    {
      "cell_type": "code",
      "execution_count": 2,
      "metadata": {
        "colab": {
          "base_uri": "https://localhost:8080/",
          "height": 162
        },
        "id": "e8P6ClBpnStY",
        "outputId": "f98067f5-381f-4494-9009-4e37ad658407"
      },
      "outputs": [
        {
          "output_type": "stream",
          "name": "stdout",
          "text": [
            "(1482535, 8)\n"
          ]
        },
        {
          "output_type": "execute_result",
          "data": {
            "text/plain": [
              "   train_id                                 name  item_condition_id  \\\n",
              "0         0  MLB Cincinnati Reds T Shirt Size XL                  3   \n",
              "1         1     Razer BlackWidow Chroma Keyboard                  3   \n",
              "2         2                       AVA-VIV Blouse                  1   \n",
              "\n",
              "                                       category_name brand_name  price  \\\n",
              "0                                  Men/Tops/T-shirts        NaN   10.0   \n",
              "1  Electronics/Computers & Tablets/Components & P...      Razer   52.0   \n",
              "2                        Women/Tops & Blouses/Blouse     Target   10.0   \n",
              "\n",
              "   shipping                                   item_description  \n",
              "0         1                                 No description yet  \n",
              "1         0  This keyboard is in great condition and works ...  \n",
              "2         1  Adorable top with a hint of lace and a key hol...  "
            ],
            "text/html": [
              "\n",
              "  <div id=\"df-758af732-dc8e-4b69-bac8-ae2e4937b218\" class=\"colab-df-container\">\n",
              "    <div>\n",
              "<style scoped>\n",
              "    .dataframe tbody tr th:only-of-type {\n",
              "        vertical-align: middle;\n",
              "    }\n",
              "\n",
              "    .dataframe tbody tr th {\n",
              "        vertical-align: top;\n",
              "    }\n",
              "\n",
              "    .dataframe thead th {\n",
              "        text-align: right;\n",
              "    }\n",
              "</style>\n",
              "<table border=\"1\" class=\"dataframe\">\n",
              "  <thead>\n",
              "    <tr style=\"text-align: right;\">\n",
              "      <th></th>\n",
              "      <th>train_id</th>\n",
              "      <th>name</th>\n",
              "      <th>item_condition_id</th>\n",
              "      <th>category_name</th>\n",
              "      <th>brand_name</th>\n",
              "      <th>price</th>\n",
              "      <th>shipping</th>\n",
              "      <th>item_description</th>\n",
              "    </tr>\n",
              "  </thead>\n",
              "  <tbody>\n",
              "    <tr>\n",
              "      <th>0</th>\n",
              "      <td>0</td>\n",
              "      <td>MLB Cincinnati Reds T Shirt Size XL</td>\n",
              "      <td>3</td>\n",
              "      <td>Men/Tops/T-shirts</td>\n",
              "      <td>NaN</td>\n",
              "      <td>10.0</td>\n",
              "      <td>1</td>\n",
              "      <td>No description yet</td>\n",
              "    </tr>\n",
              "    <tr>\n",
              "      <th>1</th>\n",
              "      <td>1</td>\n",
              "      <td>Razer BlackWidow Chroma Keyboard</td>\n",
              "      <td>3</td>\n",
              "      <td>Electronics/Computers &amp; Tablets/Components &amp; P...</td>\n",
              "      <td>Razer</td>\n",
              "      <td>52.0</td>\n",
              "      <td>0</td>\n",
              "      <td>This keyboard is in great condition and works ...</td>\n",
              "    </tr>\n",
              "    <tr>\n",
              "      <th>2</th>\n",
              "      <td>2</td>\n",
              "      <td>AVA-VIV Blouse</td>\n",
              "      <td>1</td>\n",
              "      <td>Women/Tops &amp; Blouses/Blouse</td>\n",
              "      <td>Target</td>\n",
              "      <td>10.0</td>\n",
              "      <td>1</td>\n",
              "      <td>Adorable top with a hint of lace and a key hol...</td>\n",
              "    </tr>\n",
              "  </tbody>\n",
              "</table>\n",
              "</div>\n",
              "    <div class=\"colab-df-buttons\">\n",
              "\n",
              "  <div class=\"colab-df-container\">\n",
              "    <button class=\"colab-df-convert\" onclick=\"convertToInteractive('df-758af732-dc8e-4b69-bac8-ae2e4937b218')\"\n",
              "            title=\"Convert this dataframe to an interactive table.\"\n",
              "            style=\"display:none;\">\n",
              "\n",
              "  <svg xmlns=\"http://www.w3.org/2000/svg\" height=\"24px\" viewBox=\"0 -960 960 960\">\n",
              "    <path d=\"M120-120v-720h720v720H120Zm60-500h600v-160H180v160Zm220 220h160v-160H400v160Zm0 220h160v-160H400v160ZM180-400h160v-160H180v160Zm440 0h160v-160H620v160ZM180-180h160v-160H180v160Zm440 0h160v-160H620v160Z\"/>\n",
              "  </svg>\n",
              "    </button>\n",
              "\n",
              "  <style>\n",
              "    .colab-df-container {\n",
              "      display:flex;\n",
              "      gap: 12px;\n",
              "    }\n",
              "\n",
              "    .colab-df-convert {\n",
              "      background-color: #E8F0FE;\n",
              "      border: none;\n",
              "      border-radius: 50%;\n",
              "      cursor: pointer;\n",
              "      display: none;\n",
              "      fill: #1967D2;\n",
              "      height: 32px;\n",
              "      padding: 0 0 0 0;\n",
              "      width: 32px;\n",
              "    }\n",
              "\n",
              "    .colab-df-convert:hover {\n",
              "      background-color: #E2EBFA;\n",
              "      box-shadow: 0px 1px 2px rgba(60, 64, 67, 0.3), 0px 1px 3px 1px rgba(60, 64, 67, 0.15);\n",
              "      fill: #174EA6;\n",
              "    }\n",
              "\n",
              "    .colab-df-buttons div {\n",
              "      margin-bottom: 4px;\n",
              "    }\n",
              "\n",
              "    [theme=dark] .colab-df-convert {\n",
              "      background-color: #3B4455;\n",
              "      fill: #D2E3FC;\n",
              "    }\n",
              "\n",
              "    [theme=dark] .colab-df-convert:hover {\n",
              "      background-color: #434B5C;\n",
              "      box-shadow: 0px 1px 3px 1px rgba(0, 0, 0, 0.15);\n",
              "      filter: drop-shadow(0px 1px 2px rgba(0, 0, 0, 0.3));\n",
              "      fill: #FFFFFF;\n",
              "    }\n",
              "  </style>\n",
              "\n",
              "    <script>\n",
              "      const buttonEl =\n",
              "        document.querySelector('#df-758af732-dc8e-4b69-bac8-ae2e4937b218 button.colab-df-convert');\n",
              "      buttonEl.style.display =\n",
              "        google.colab.kernel.accessAllowed ? 'block' : 'none';\n",
              "\n",
              "      async function convertToInteractive(key) {\n",
              "        const element = document.querySelector('#df-758af732-dc8e-4b69-bac8-ae2e4937b218');\n",
              "        const dataTable =\n",
              "          await google.colab.kernel.invokeFunction('convertToInteractive',\n",
              "                                                    [key], {});\n",
              "        if (!dataTable) return;\n",
              "\n",
              "        const docLinkHtml = 'Like what you see? Visit the ' +\n",
              "          '<a target=\"_blank\" href=https://colab.research.google.com/notebooks/data_table.ipynb>data table notebook</a>'\n",
              "          + ' to learn more about interactive tables.';\n",
              "        element.innerHTML = '';\n",
              "        dataTable['output_type'] = 'display_data';\n",
              "        await google.colab.output.renderOutput(dataTable, element);\n",
              "        const docLink = document.createElement('div');\n",
              "        docLink.innerHTML = docLinkHtml;\n",
              "        element.appendChild(docLink);\n",
              "      }\n",
              "    </script>\n",
              "  </div>\n",
              "\n",
              "\n",
              "<div id=\"df-b0fd5cb9-28b7-42c5-9e0c-1747109591ac\">\n",
              "  <button class=\"colab-df-quickchart\" onclick=\"quickchart('df-b0fd5cb9-28b7-42c5-9e0c-1747109591ac')\"\n",
              "            title=\"Suggest charts\"\n",
              "            style=\"display:none;\">\n",
              "\n",
              "<svg xmlns=\"http://www.w3.org/2000/svg\" height=\"24px\"viewBox=\"0 0 24 24\"\n",
              "     width=\"24px\">\n",
              "    <g>\n",
              "        <path d=\"M19 3H5c-1.1 0-2 .9-2 2v14c0 1.1.9 2 2 2h14c1.1 0 2-.9 2-2V5c0-1.1-.9-2-2-2zM9 17H7v-7h2v7zm4 0h-2V7h2v10zm4 0h-2v-4h2v4z\"/>\n",
              "    </g>\n",
              "</svg>\n",
              "  </button>\n",
              "\n",
              "<style>\n",
              "  .colab-df-quickchart {\n",
              "      --bg-color: #E8F0FE;\n",
              "      --fill-color: #1967D2;\n",
              "      --hover-bg-color: #E2EBFA;\n",
              "      --hover-fill-color: #174EA6;\n",
              "      --disabled-fill-color: #AAA;\n",
              "      --disabled-bg-color: #DDD;\n",
              "  }\n",
              "\n",
              "  [theme=dark] .colab-df-quickchart {\n",
              "      --bg-color: #3B4455;\n",
              "      --fill-color: #D2E3FC;\n",
              "      --hover-bg-color: #434B5C;\n",
              "      --hover-fill-color: #FFFFFF;\n",
              "      --disabled-bg-color: #3B4455;\n",
              "      --disabled-fill-color: #666;\n",
              "  }\n",
              "\n",
              "  .colab-df-quickchart {\n",
              "    background-color: var(--bg-color);\n",
              "    border: none;\n",
              "    border-radius: 50%;\n",
              "    cursor: pointer;\n",
              "    display: none;\n",
              "    fill: var(--fill-color);\n",
              "    height: 32px;\n",
              "    padding: 0;\n",
              "    width: 32px;\n",
              "  }\n",
              "\n",
              "  .colab-df-quickchart:hover {\n",
              "    background-color: var(--hover-bg-color);\n",
              "    box-shadow: 0 1px 2px rgba(60, 64, 67, 0.3), 0 1px 3px 1px rgba(60, 64, 67, 0.15);\n",
              "    fill: var(--button-hover-fill-color);\n",
              "  }\n",
              "\n",
              "  .colab-df-quickchart-complete:disabled,\n",
              "  .colab-df-quickchart-complete:disabled:hover {\n",
              "    background-color: var(--disabled-bg-color);\n",
              "    fill: var(--disabled-fill-color);\n",
              "    box-shadow: none;\n",
              "  }\n",
              "\n",
              "  .colab-df-spinner {\n",
              "    border: 2px solid var(--fill-color);\n",
              "    border-color: transparent;\n",
              "    border-bottom-color: var(--fill-color);\n",
              "    animation:\n",
              "      spin 1s steps(1) infinite;\n",
              "  }\n",
              "\n",
              "  @keyframes spin {\n",
              "    0% {\n",
              "      border-color: transparent;\n",
              "      border-bottom-color: var(--fill-color);\n",
              "      border-left-color: var(--fill-color);\n",
              "    }\n",
              "    20% {\n",
              "      border-color: transparent;\n",
              "      border-left-color: var(--fill-color);\n",
              "      border-top-color: var(--fill-color);\n",
              "    }\n",
              "    30% {\n",
              "      border-color: transparent;\n",
              "      border-left-color: var(--fill-color);\n",
              "      border-top-color: var(--fill-color);\n",
              "      border-right-color: var(--fill-color);\n",
              "    }\n",
              "    40% {\n",
              "      border-color: transparent;\n",
              "      border-right-color: var(--fill-color);\n",
              "      border-top-color: var(--fill-color);\n",
              "    }\n",
              "    60% {\n",
              "      border-color: transparent;\n",
              "      border-right-color: var(--fill-color);\n",
              "    }\n",
              "    80% {\n",
              "      border-color: transparent;\n",
              "      border-right-color: var(--fill-color);\n",
              "      border-bottom-color: var(--fill-color);\n",
              "    }\n",
              "    90% {\n",
              "      border-color: transparent;\n",
              "      border-bottom-color: var(--fill-color);\n",
              "    }\n",
              "  }\n",
              "</style>\n",
              "\n",
              "  <script>\n",
              "    async function quickchart(key) {\n",
              "      const quickchartButtonEl =\n",
              "        document.querySelector('#' + key + ' button');\n",
              "      quickchartButtonEl.disabled = true;  // To prevent multiple clicks.\n",
              "      quickchartButtonEl.classList.add('colab-df-spinner');\n",
              "      try {\n",
              "        const charts = await google.colab.kernel.invokeFunction(\n",
              "            'suggestCharts', [key], {});\n",
              "      } catch (error) {\n",
              "        console.error('Error during call to suggestCharts:', error);\n",
              "      }\n",
              "      quickchartButtonEl.classList.remove('colab-df-spinner');\n",
              "      quickchartButtonEl.classList.add('colab-df-quickchart-complete');\n",
              "    }\n",
              "    (() => {\n",
              "      let quickchartButtonEl =\n",
              "        document.querySelector('#df-b0fd5cb9-28b7-42c5-9e0c-1747109591ac button');\n",
              "      quickchartButtonEl.style.display =\n",
              "        google.colab.kernel.accessAllowed ? 'block' : 'none';\n",
              "    })();\n",
              "  </script>\n",
              "</div>\n",
              "\n",
              "    </div>\n",
              "  </div>\n"
            ],
            "application/vnd.google.colaboratory.intrinsic+json": {
              "type": "dataframe",
              "variable_name": "mercari_df"
            }
          },
          "metadata": {},
          "execution_count": 2
        }
      ],
      "source": [
        "mercari_df = pd.read_csv('/content/drive/MyDrive/ESAA/data/train.tsv', sep='\\t')\n",
        "print(mercari_df.shape)\n",
        "mercari_df.head(3)"
      ]
    },
    {
      "cell_type": "code",
      "execution_count": 3,
      "metadata": {
        "colab": {
          "base_uri": "https://localhost:8080/"
        },
        "id": "8RtCyYx1oRf5",
        "outputId": "72c48a2a-5619-462c-e3a2-83387eef8c31"
      },
      "outputs": [
        {
          "output_type": "stream",
          "name": "stdout",
          "text": [
            "<class 'pandas.core.frame.DataFrame'>\n",
            "RangeIndex: 1482535 entries, 0 to 1482534\n",
            "Data columns (total 8 columns):\n",
            " #   Column             Non-Null Count    Dtype  \n",
            "---  ------             --------------    -----  \n",
            " 0   train_id           1482535 non-null  int64  \n",
            " 1   name               1482535 non-null  object \n",
            " 2   item_condition_id  1482535 non-null  int64  \n",
            " 3   category_name      1476208 non-null  object \n",
            " 4   brand_name         849853 non-null   object \n",
            " 5   price              1482535 non-null  float64\n",
            " 6   shipping           1482535 non-null  int64  \n",
            " 7   item_description   1482529 non-null  object \n",
            "dtypes: float64(1), int64(3), object(4)\n",
            "memory usage: 90.5+ MB\n",
            "None\n"
          ]
        }
      ],
      "source": [
        "print(mercari_df.info())"
      ]
    },
    {
      "cell_type": "markdown",
      "metadata": {
        "id": "kNfilEhsoXeD"
      },
      "source": [
        "- brand_name 칼럼의 경우 매우 많은 Null값을 가지고 있음,\n"
      ]
    },
    {
      "cell_type": "code",
      "execution_count": 4,
      "metadata": {
        "colab": {
          "base_uri": "https://localhost:8080/",
          "height": 388
        },
        "id": "wQ12B9lDoVVA",
        "outputId": "3ec2dd2c-df19-496b-a76d-eea5c17be578"
      },
      "outputs": [
        {
          "output_type": "display_data",
          "data": {
            "text/plain": [
              "<Figure size 600x400 with 1 Axes>"
            ],
            "image/png": "[encoded data removed]"
          },
          "metadata": {}
        }
      ],
      "source": [
        "# Target 값인 칼럼의 데이터 분포도 값 확인\n",
        "import matplotlib.pyplot as plt\n",
        "import seaborn as sns\n",
        "\n",
        "y_train_df = mercari_df['price']\n",
        "plt.figure(figsize=(6,4))\n",
        "sns.histplot(y_train_df, bins=100)\n",
        "plt.show()\n"
      ]
    },
    {
      "cell_type": "code",
      "execution_count": 5,
      "metadata": {
        "colab": {
          "base_uri": "https://localhost:8080/",
          "height": 449
        },
        "id": "e-6lA-ZToz65",
        "outputId": "0140d851-3df3-4a2f-b321-0154b48d72c8"
      },
      "outputs": [
        {
          "output_type": "display_data",
          "data": {
            "text/plain": [
              "<Figure size 640x480 with 1 Axes>"
            ],
            "image/png": "[encoded data removed]"
          },
          "metadata": {}
        }
      ],
      "source": [
        "# price 칼럼을 로그 값으로 변환 후 분포도 다시 살펴보기\n",
        "import numpy as np\n",
        "y_train_df = np.log1p(y_train_df)\n",
        "sns.histplot(y_train_df, bins=100)\n",
        "plt.show()"
      ]
    },
    {
      "cell_type": "code",
      "execution_count": 6,
      "metadata": {
        "colab": {
          "base_uri": "https://localhost:8080/",
          "height": 178
        },
        "id": "wleNDoSto88n",
        "outputId": "eecf4658-dcb3-42d1-d961-b8ae86c08c38"
      },
      "outputs": [
        {
          "output_type": "execute_result",
          "data": {
            "text/plain": [
              "0    2.397895\n",
              "1    3.970292\n",
              "2    2.397895\n",
              "Name: price, dtype: float64"
            ],
            "text/html": [
              "<div>\n",
              "<style scoped>\n",
              "    .dataframe tbody tr th:only-of-type {\n",
              "        vertical-align: middle;\n",
              "    }\n",
              "\n",
              "    .dataframe tbody tr th {\n",
              "        vertical-align: top;\n",
              "    }\n",
              "\n",
              "    .dataframe thead th {\n",
              "        text-align: right;\n",
              "    }\n",
              "</style>\n",
              "<table border=\"1\" class=\"dataframe\">\n",
              "  <thead>\n",
              "    <tr style=\"text-align: right;\">\n",
              "      <th></th>\n",
              "      <th>price</th>\n",
              "    </tr>\n",
              "  </thead>\n",
              "  <tbody>\n",
              "    <tr>\n",
              "      <th>0</th>\n",
              "      <td>2.397895</td>\n",
              "    </tr>\n",
              "    <tr>\n",
              "      <th>1</th>\n",
              "      <td>3.970292</td>\n",
              "    </tr>\n",
              "    <tr>\n",
              "      <th>2</th>\n",
              "      <td>2.397895</td>\n",
              "    </tr>\n",
              "  </tbody>\n",
              "</table>\n",
              "</div><br><label><b>dtype:</b> float64</label>"
            ]
          },
          "metadata": {},
          "execution_count": 6
        }
      ],
      "source": [
        "mercari_df['price'] = np.log1p(mercari_df['price'])\n",
        "mercari_df['price'].head(3)"
      ]
    },
    {
      "cell_type": "code",
      "execution_count": 7,
      "metadata": {
        "colab": {
          "base_uri": "https://localhost:8080/"
        },
        "id": "-7PgRZMJpXuH",
        "outputId": "a9df77c9-89cc-4451-9a95-76f1884be523"
      },
      "outputs": [
        {
          "output_type": "stream",
          "name": "stdout",
          "text": [
            "Shipping 값 유형: \n",
            " shipping\n",
            "0    819435\n",
            "1    663100\n",
            "Name: count, dtype: int64\n",
            "Item Condition 값 유형: \n",
            " item_condition_id\n",
            "1    640549\n",
            "3    432161\n",
            "2    375479\n",
            "4     31962\n",
            "5      2384\n",
            "Name: count, dtype: int64\n"
          ]
        }
      ],
      "source": [
        "print('Shipping 값 유형: \\n', mercari_df['shipping'].value_counts())\n",
        "print('Item Condition 값 유형: \\n', mercari_df['item_condition_id'].value_counts())"
      ]
    },
    {
      "cell_type": "code",
      "execution_count": 8,
      "metadata": {
        "colab": {
          "base_uri": "https://localhost:8080/"
        },
        "id": "L5jBjOHophOW",
        "outputId": "927909c8-8aef-4b08-9cdc-8e6a3284ec44"
      },
      "outputs": [
        {
          "output_type": "execute_result",
          "data": {
            "text/plain": [
              "np.int64(82489)"
            ]
          },
          "metadata": {},
          "execution_count": 8
        }
      ],
      "source": [
        "boolean_cond = mercari_df['item_description'] == 'No description yet'\n",
        "mercari_df.loc[boolean_cond, 'item_description'].count()"
      ]
    },
    {
      "cell_type": "code",
      "execution_count": 9,
      "metadata": {
        "colab": {
          "base_uri": "https://localhost:8080/"
        },
        "id": "oGqnUWrmqbnZ",
        "outputId": "8d059a77-0827-48a6-fff5-08dc7a77d44d"
      },
      "outputs": [
        {
          "output_type": "stream",
          "name": "stdout",
          "text": [
            "대분류 유형 :\n",
            " cat_dae\n",
            "Women                     664385\n",
            "Beauty                    207828\n",
            "Kids                      171689\n",
            "Electronics               122690\n",
            "Men                        93680\n",
            "Home                       67871\n",
            "Vintage & Collectibles     46530\n",
            "Other                      45351\n",
            "Handmade                   30842\n",
            "Sports & Outdoors          25342\n",
            "Other_Null                  6327\n",
            "Name: count, dtype: int64\n",
            "중분류 유형 :\n",
            " cat_jung\n",
            "Athletic Apparel        134383\n",
            "Makeup                  124624\n",
            "Tops & Blouses          106960\n",
            "Shoes                   100452\n",
            "Jewelry                  61763\n",
            "                         ...  \n",
            "Candles                     64\n",
            "Ceramics and Pottery        57\n",
            "Dolls and Miniatures        49\n",
            "Books and Zines             46\n",
            "Quilts                      31\n",
            "Name: count, Length: 114, dtype: int64\n",
            "소분류 유형 :\n",
            " cat_so\n",
            "Pants, Tights, Leggings       60177\n",
            "Other                         50224\n",
            "Face                          50171\n",
            "T-Shirts                      46380\n",
            "Shoes                         32168\n",
            "                              ...  \n",
            "Primitive                         1\n",
            "Storage Solutions                 1\n",
            "Map                               1\n",
            "International Publications        1\n",
            "Ephemera                          1\n",
            "Name: count, Length: 871, dtype: int64\n"
          ]
        }
      ],
      "source": [
        "# zip과 *를 apply lambda 식에 적용해 간단하게 분리\n",
        "def split_cat(category_name):\n",
        "  try:\n",
        "    return category_name.split('/')\n",
        "  except:\n",
        "    return ['Other_Null', 'Other_Null', 'Other_Null']\n",
        "\n",
        "# 위의 split_cat()을 apply lambda에서 호출해 대,중,소 칼럼을 mercari_df에 생성.\n",
        "# '*'은 리스트나 튜플 안에 있는 요소를 하나씩 꺼내는 것\n",
        "mercari_df['cat_dae'], mercari_df['cat_jung'], mercari_df['cat_so'] = \\\n",
        "zip(*mercari_df['category_name'].apply(lambda x : split_cat(x)))\n",
        "\n",
        "# 대분류만 값의 유형과 건수를 살펴보고, 중분류, 소분류는 값의 유형이 많으므로 분류 개수만 추출\n",
        "print('대분류 유형 :\\n', mercari_df['cat_dae'].value_counts())\n",
        "print('중분류 유형 :\\n', mercari_df['cat_jung'].value_counts())\n",
        "print('소분류 유형 :\\n', mercari_df['cat_so'].value_counts())"
      ]
    },
    {
      "cell_type": "code",
      "execution_count": 10,
      "metadata": {
        "colab": {
          "base_uri": "https://localhost:8080/",
          "height": 429
        },
        "id": "JneS7KhmrCzQ",
        "outputId": "33386d5d-68e8-4491-ad44-5582e8229245"
      },
      "outputs": [
        {
          "output_type": "execute_result",
          "data": {
            "text/plain": [
              "train_id             0\n",
              "name                 0\n",
              "item_condition_id    0\n",
              "category_name        0\n",
              "brand_name           0\n",
              "price                0\n",
              "shipping             0\n",
              "item_description     0\n",
              "cat_dae              0\n",
              "cat_jung             0\n",
              "cat_so               0\n",
              "dtype: int64"
            ],
            "text/html": [
              "<div>\n",
              "<style scoped>\n",
              "    .dataframe tbody tr th:only-of-type {\n",
              "        vertical-align: middle;\n",
              "    }\n",
              "\n",
              "    .dataframe tbody tr th {\n",
              "        vertical-align: top;\n",
              "    }\n",
              "\n",
              "    .dataframe thead th {\n",
              "        text-align: right;\n",
              "    }\n",
              "</style>\n",
              "<table border=\"1\" class=\"dataframe\">\n",
              "  <thead>\n",
              "    <tr style=\"text-align: right;\">\n",
              "      <th></th>\n",
              "      <th>0</th>\n",
              "    </tr>\n",
              "  </thead>\n",
              "  <tbody>\n",
              "    <tr>\n",
              "      <th>train_id</th>\n",
              "      <td>0</td>\n",
              "    </tr>\n",
              "    <tr>\n",
              "      <th>name</th>\n",
              "      <td>0</td>\n",
              "    </tr>\n",
              "    <tr>\n",
              "      <th>item_condition_id</th>\n",
              "      <td>0</td>\n",
              "    </tr>\n",
              "    <tr>\n",
              "      <th>category_name</th>\n",
              "      <td>0</td>\n",
              "    </tr>\n",
              "    <tr>\n",
              "      <th>brand_name</th>\n",
              "      <td>0</td>\n",
              "    </tr>\n",
              "    <tr>\n",
              "      <th>price</th>\n",
              "      <td>0</td>\n",
              "    </tr>\n",
              "    <tr>\n",
              "      <th>shipping</th>\n",
              "      <td>0</td>\n",
              "    </tr>\n",
              "    <tr>\n",
              "      <th>item_description</th>\n",
              "      <td>0</td>\n",
              "    </tr>\n",
              "    <tr>\n",
              "      <th>cat_dae</th>\n",
              "      <td>0</td>\n",
              "    </tr>\n",
              "    <tr>\n",
              "      <th>cat_jung</th>\n",
              "      <td>0</td>\n",
              "    </tr>\n",
              "    <tr>\n",
              "      <th>cat_so</th>\n",
              "      <td>0</td>\n",
              "    </tr>\n",
              "  </tbody>\n",
              "</table>\n",
              "</div><br><label><b>dtype:</b> int64</label>"
            ]
          },
          "metadata": {},
          "execution_count": 10
        }
      ],
      "source": [
        "mercari_df['brand_name'] = mercari_df['brand_name'].fillna(value='Other_Null')\n",
        "mercari_df['category_name'] = mercari_df['category_name'].fillna(value='Other_Null')\n",
        "mercari_df['item_description'] = mercari_df['item_description'].fillna(value='Other_Null')\n",
        "\n",
        "# 각 컬럼별로 Null 값 건수 확인. 모두 0이 나와야 합니다.\n",
        "mercari_df.isnull().sum()"
      ]
    },
    {
      "cell_type": "markdown",
      "metadata": {
        "id": "pp2bHav1rJWD"
      },
      "source": [
        "## 피처 인코딩과 피처 벡터화\n",
        "- 문자열 칼럼 중 레이블 또는 원-핫 인코딩을 수행하거나 피처 벡터화로 변화할 칼럼을 선별\n",
        "- 선형 회귀의 경우 원-핫 인코딩 적용이 훨씬 선호되므로 인코딩할 피처는 모두 원-핫 인코딩을 적용\n",
        "- 피처벡터화의 경우 짧은 텍스트의 경우 Count 기반의 벡터화를, 긴 텍스트는 TD-IDF 기반의 벡터화 적용."
      ]
    },
    {
      "cell_type": "code",
      "execution_count": 11,
      "metadata": {
        "colab": {
          "base_uri": "https://localhost:8080/"
        },
        "id": "oGYIF5wMrHw3",
        "outputId": "bc38117b-4d79-409f-bae5-e6684396b15d"
      },
      "outputs": [
        {
          "output_type": "stream",
          "name": "stdout",
          "text": [
            "brand name의 유형 건수: 4810\n",
            "brand name sample 5건ㅣ \n",
            " brand_name\n",
            "Other_Null           632682\n",
            "PINK                  54088\n",
            "Nike                  54043\n",
            "Victoria's Secret     48036\n",
            "LuLaRoe               31024\n",
            "Name: count, dtype: int64\n"
          ]
        }
      ],
      "source": [
        "# brand_name 칼럼 검토\n",
        "print('brand name의 유형 건수:', mercari_df['brand_name'].nunique())\n",
        "print('brand name sample 5건ㅣ \\n', mercari_df['brand_name'].value_counts()[:5])"
      ]
    },
    {
      "cell_type": "code",
      "execution_count": 12,
      "metadata": {
        "colab": {
          "base_uri": "https://localhost:8080/"
        },
        "id": "HIQHnQAGsXER",
        "outputId": "359bbf02-5238-46eb-a038-cadb442952b7"
      },
      "outputs": [
        {
          "output_type": "stream",
          "name": "stdout",
          "text": [
            "name의 종류 개수: 1225273\n",
            "name sample 7건:\n",
            " 0    MLB Cincinnati Reds T Shirt Size XL\n",
            "1       Razer BlackWidow Chroma Keyboard\n",
            "2                         AVA-VIV Blouse\n",
            "3                  Leather Horse Statues\n",
            "4                   24K GOLD plated rose\n",
            "5       Bundled items requested for Ruie\n",
            "6     Acacia pacific tides santorini top\n",
            "Name: name, dtype: object\n"
          ]
        }
      ],
      "source": [
        "# 상품명을 의미하는 name 속성이 어떤 유형으로 되어 있는지 유형 건수와 상품명 7개 출력\n",
        "print('name의 종류 개수:', mercari_df['name'].nunique())\n",
        "print('name sample 7건:\\n', mercari_df['name'][:7])"
      ]
    },
    {
      "cell_type": "code",
      "execution_count": 13,
      "metadata": {
        "colab": {
          "base_uri": "https://localhost:8080/",
          "height": 165
        },
        "id": "SvCMVeh4sx6h",
        "outputId": "92f8a7f4-a59e-444b-8958-0c627aad20a9"
      },
      "outputs": [
        {
          "output_type": "stream",
          "name": "stdout",
          "text": [
            "item_description 평균 문자열 크기: 145.71139703278507\n"
          ]
        },
        {
          "output_type": "execute_result",
          "data": {
            "text/plain": [
              "0                                                                                                                                                                              No description yet\n",
              "1    This keyboard is in great condition and works like it came out of the box. All of the ports are tested and work perfectly. The lights are customizable via the Razer Synapse app on your PC.\n",
              "Name: item_description, dtype: object"
            ],
            "text/html": [
              "<div>\n",
              "<style scoped>\n",
              "    .dataframe tbody tr th:only-of-type {\n",
              "        vertical-align: middle;\n",
              "    }\n",
              "\n",
              "    .dataframe tbody tr th {\n",
              "        vertical-align: top;\n",
              "    }\n",
              "\n",
              "    .dataframe thead th {\n",
              "        text-align: right;\n",
              "    }\n",
              "</style>\n",
              "<table border=\"1\" class=\"dataframe\">\n",
              "  <thead>\n",
              "    <tr style=\"text-align: right;\">\n",
              "      <th></th>\n",
              "      <th>item_description</th>\n",
              "    </tr>\n",
              "  </thead>\n",
              "  <tbody>\n",
              "    <tr>\n",
              "      <th>0</th>\n",
              "      <td>No description yet</td>\n",
              "    </tr>\n",
              "    <tr>\n",
              "      <th>1</th>\n",
              "      <td>This keyboard is in great condition and works like it came out of the box. All of the ports are tested and work perfectly. The lights are customizable via the Razer Synapse app on your PC.</td>\n",
              "    </tr>\n",
              "  </tbody>\n",
              "</table>\n",
              "</div><br><label><b>dtype:</b> object</label>"
            ]
          },
          "metadata": {},
          "execution_count": 13
        }
      ],
      "source": [
        "# shipping, item_condition_id 칼럼을 모두 원-핫 인코딩 적용\n",
        "pd.set_option('max_colwidth', 200)\n",
        "\n",
        "#item_description의 평균 문자열 크기\n",
        "print('item_description 평균 문자열 크기:', mercari_df['item_description'].str.len().mean())\n",
        "mercari_df['item_description'][:2]"
      ]
    },
    {
      "cell_type": "code",
      "execution_count": 14,
      "metadata": {
        "id": "YzousNAhtLB4"
      },
      "outputs": [],
      "source": [
        "# 주요 칼럼을 인코딩 및 피처 벡터화 변환(name, item_description)\n",
        "# name 속성에 대한 피처 벡터화 변환\n",
        "cnt_vec = CountVectorizer()\n",
        "X_name = cnt_vec.fit_transform(mercari_df.name)\n",
        "\n",
        "# item_description 속성에 대한 피처 벡터화 변환\n",
        "tfidf_descp = TfidfVectorizer(max_features=50000, ngram_range=(1,3), stop_words='english')\n",
        "X_desc = tfidf_descp.fit_transform(mercari_df['item_description'])"
      ]
    },
    {
      "cell_type": "code",
      "execution_count": 15,
      "metadata": {
        "colab": {
          "base_uri": "https://localhost:8080/"
        },
        "id": "W5vY1Haztp-z",
        "outputId": "3ad742d1-0548-43d9-ef9b-0a618f4c55c2"
      },
      "outputs": [
        {
          "output_type": "stream",
          "name": "stdout",
          "text": [
            "name vectorization shape: (1482535, 105757)\n",
            "item_description vectorization shape: (1482535, 50000)\n"
          ]
        }
      ],
      "source": [
        "print('name vectorization shape:', X_name.shape)\n",
        "print('item_description vectorization shape:', X_desc.shape)"
      ]
    },
    {
      "cell_type": "code",
      "execution_count": 16,
      "metadata": {
        "id": "dWHmkS-tv1iX"
      },
      "outputs": [],
      "source": [
        "from tkinter.constants import X\n",
        "# 인코딩 대상 칼럼을 모두 LabelBinarizer로 원-핫 인코딩 변환\n",
        "from sklearn.preprocessing import LabelBinarizer\n",
        "\n",
        "# brand_name, item_condition_id, shipping 각 피처들을 희소 행렬 원-핫 인코딩 변환\n",
        "lb_brand_name = LabelBinarizer(sparse_output = True)\n",
        "X_brand = lb_brand_name.fit_transform(mercari_df['brand_name'])\n",
        "lb_item_cond_id = LabelBinarizer(sparse_output=True)\n",
        "X_item_cond_id = lb_item_cond_id.fit_transform(mercari_df['item_condition_id'])\n",
        "lb_shipping = LabelBinarizer(sparse_output=True)\n",
        "X_shipping = lb_shipping.fit_transform(mercari_df['shipping'])\n",
        "\n",
        "# cat_dae, cat_jung, cat_so 각 피처들을 희소 행렬 원-핫 인코딩 변환\n",
        "lb_cat_dae = LabelBinarizer(sparse_output=True)\n",
        "X_cat_dae = lb_cat_dae.fit_transform(mercari_df['cat_dae'])\n",
        "lb_cat_jung = LabelBinarizer(sparse_output=True)\n",
        "X_cat_jung = lb_cat_jung.fit_transform(mercari_df['cat_jung'])\n",
        "lb_cat_so = LabelBinarizer(sparse_output=True)\n",
        "X_cat_so = lb_cat_so.fit_transform(mercari_df['cat_so'])"
      ]
    },
    {
      "cell_type": "code",
      "execution_count": 17,
      "metadata": {
        "colab": {
          "base_uri": "https://localhost:8080/"
        },
        "id": "NeHP3rl2wNVw",
        "outputId": "f6cf2cfe-eeae-4951-b3ac-93de08c7be03"
      },
      "outputs": [
        {
          "output_type": "stream",
          "name": "stdout",
          "text": [
            "<class 'scipy.sparse._csr.csr_matrix'> <class 'scipy.sparse._csr.csr_matrix'> <class 'scipy.sparse._csr.csr_matrix'>\n",
            "X_brand shape:(1482535, 4810), X_item_cond shape:(1482535, 5)\n",
            "X_shipping shape:(1482535, 1), X_cat_dae shape:(1482535, 11)\n",
            "X_cat_jung shape:(1482535, 114), X_cat_so shape:(1482535, 871)\n"
          ]
        }
      ],
      "source": [
        "print(type(X_brand), type(X_item_cond_id), type(X_shipping))\n",
        "print('X_brand shape:{0}, X_item_cond shape:{1}'.format(X_brand.shape, X_item_cond_id.shape))\n",
        "print('X_shipping shape:{0}, X_cat_dae shape:{1}'.format(X_shipping.shape, X_cat_dae.shape))\n",
        "print('X_cat_jung shape:{0}, X_cat_so shape:{1}'.format(X_cat_jung.shape, X_cat_so.shape))"
      ]
    },
    {
      "cell_type": "code",
      "execution_count": 18,
      "metadata": {
        "colab": {
          "base_uri": "https://localhost:8080/"
        },
        "id": "tdY5b1NeFNkD",
        "outputId": "ebc576c7-5d60-4ad3-fbdc-a9beeecbffd3"
      },
      "outputs": [
        {
          "output_type": "stream",
          "name": "stdout",
          "text": [
            "<class 'scipy.sparse._csr.csr_matrix'> (1482535, 161569)\n"
          ]
        },
        {
          "output_type": "execute_result",
          "data": {
            "text/plain": [
              "0"
            ]
          },
          "metadata": {},
          "execution_count": 18
        }
      ],
      "source": [
        "# del '객체 변수명'와 gc.collect()로 결합 데이터를 메모리에서 삭\n",
        "from scipy.sparse import hstack\n",
        "import gc\n",
        "\n",
        "sparse_matrix_list = (X_name, X_desc, X_brand, X_item_cond_id, \\\n",
        "                      X_shipping, X_cat_dae, X_cat_jung, X_cat_so)\n",
        "\n",
        "#hstack 함수를 이용해 인코딩과 벡터화를 수행한 데이터 세트를 모두 결합\n",
        "X_feauture_sparse = hstack(sparse_matrix_list).tocsr()\n",
        "print(type(X_feauture_sparse), X_feauture_sparse.shape)\n",
        "\n",
        "# 데이터 세트가 메모리를 많이 차지하므로 사용 목적이 끝났으면 바로 메모리에서 삭제.\n",
        "del X_feauture_sparse\n",
        "gc.collect()"
      ]
    },
    {
      "cell_type": "markdown",
      "metadata": {
        "id": "v6-j_yxwQFsq"
      },
      "source": [
        "## 릿지 회귀 모델 구축 및 평가\n",
        "- 여러 알고리즘 모델과 희소 행렬을 변환하고 예측 성능을 비교하면서 테스트를 수행할 것이므로 수행에 필요한 로직을 함수화\n",
        "- 먼저, 모델을 평가하는 평가 로직을 함수화\n",
        "- RMSLE 방식으로 적용, 오류 값에 로그를 취해 RMSE를 구하는 방식\n",
        "\n",
        "![image.png](data:image/png;base64,iVBORw0KGgoAAAANSUhEUgAAAiIAAABrCAYAAABKfOmnAAAAAXNSR0IArs4c6QAAAARnQU1BAACxjwv8YQUAAAAJcEhZcwAADsMAAA7DAcdvqGQAAHI+SURBVHhe7Z13fBRF/8c/u3eXHkhCKNJ7J0GaCogPCCIIUn0EVB67/rDzoPIAFoo8CiLFSlMEsaHCo/igqCAqCCJFek2DUBJCEki7svv9/TEze3ObvRQI9dk3ryN3u9PnOzPf6QoREWxsbGxsbGxsLgGq+YGNjY2NjY2NzcXCVkRsbGxsbGxsLhm2ImJjY2NjY2NzybAVERsbGxsbG5tLhq2I2NjY2NjY2FwybEXExsbGxsbG5pJhKyI2NjY2NjY2lwxbEbGxsbGxsbG5ZNiKiI2NjY2Njc0lw1ZEbGxsbGxsbC4ZtiJiY2NjQESwb32wsbG5mCj2XTM2NjY2NjY2lwp7RMTGxsbGxsbmkmErIjY2NjY2NjaXDFsRuQIoad4+2HMbGxsbG5srAXuNyBWMnHWKogR9dvEgAOfupwj7xQ+3zaXCznMbGxtbEbmEEFHQCrikdzZXP3YDbXO+mDslpclUWeqcspipSM7FPzmepcU5GMLfc/HfinMNx/8KtiJyGUJ8KkZVyzZzJheWiio4ZsyVWlnQdR3g5oPZuVQF1JxO5jSUn5nDpuu68cz8LhgiTyGlh1UYglEef2CqhGXM7liFoaTflwJzGMy/bSqe0sqlLFvB8qY0N3CZ5OWlCENpaVNamIKl/5WKrYhchui6DuKKiNygyAU8WLbJZhSLRlS8M7spv7N6bqa0sIhwy+6Jj5V5QUn+CntmN62QzYhwyObFb7N582/5uVkxDOZ3MMx+ypjDKyOHWX5WFnPiudluWZHDVRbKa94Kc/itsHK/IvyGRTqbn5+P+1YyUBZ3g4WpJMpqxxwmYU88D2bXbE+GLMpcMMoazorifPwLlleym2aCmTU/l9/JmPPG/NuMlbuXO7Yichmi6zp0XYeqqsUaP5uLjxjZEXlRUkVyMSjJ/7JUVCjBrkC8t3p2IZH9M8cFZQyDlb2SMJsPFmdzWpbkh9lNM2a3BHK6W+WBGcVCIS2NkuJUESiKYpQZM7LfcvxEfSdT3riZ08ts3+p3ScjulERJeW0VfjkcJdkzv7NyC/y5eCc6r1catiJyiTALmlXhKSoqwpEjRwIKtXgv21cUBSr/ruk6FFWFWoaeiLlgEoitN5UQgs3MAkTWFYyMCJuqqgHTM/J3VVVgXtjq94cFwlxYxftgZuS4yHGXR5bM4i7bFx/xWyDCrus6wsPDQURwu91QVTUgL6zCKUa3zH6Z7YpKWEz7mOMDi3jIfspxk+3L7lu5KSObh0UamBHuCf/MZuQwCfMy5t9m81ZhMcfB/B5SOpvTJBhmt81mZfdk88GwMienj/xejo8Ir1WchFnFJFPCnozZHizMmMNgfmY2a04X+buwZ5Yxs58COX7CXXN4hJ+yHTmsKCVfrOIl+2V2R/4tnsnIYRZY+SsTLB4C4a8wZzYj/5XrTuEmSdP3wh2Xy2W4cyVhKyLnQWmCGAwroZPd0jQNDocDa9euxQsvvICYmBhD0GBaoyCE0ev1QtM0uFyuYoIsEBWYXDgUqZHy2yGudIB/t66I2G9mXtcJRP5GFDxs/sIG6HpgoyWHRX5mDreAvYehDJnT38pfeRRDkRQKsx9WbghzIk19Ph+ioqKgqirOnj1r2DX3/kS4YDGdA5PbcpxFuAVyWORn4iPiIldGAqu0EYqhCG8w/8qKHObiMhQYbvm5+C7Hu6yYG7vSkMNitiPSUbyXn8lmRTjl+JndEs/l98Ke/N4cDrN8yph/C0RYNE0rFjYrc3JYZL+FHXNYZffkv2a7xPOdpBENxSSX4r3ZP9kfIoLP54OqqnC5XEZ4zP4FQ34nuyn+ym7JcTOHS3ZDfm+F7I7ZvmzPyg2ljB0DGeGHKLuqqsLhcAAA3G43WrRogVGjRiEuLi7A3pWCrYicB2UtKFYEKwTEC7XD4cBLL70ETdNw//33w+fzweFwGO/NDVxRURG8Xi8iIyOhKAo0XTdGSURBZEJMXMEAFAVQFBXMWGBlJsLH7PnjqaqyOeE+q3g0TYfTyQqH3z/A4XAEVApWiHdy4TanjYxwX9gRZmU3xO/A+Pux8sMcPit/RCUgp5H8UXgjIfLRSlEwuy0qFV1SUMyY/TPLQDCEPZZHGhRFMfyTkdNQ9ksgvst5JMIvN6hmMzLmtJLdl82a7clhM2N2x4w5LuZ4yn6Z3ZHNynJgfif/ld+ZMcdd0zTANPIo29V5oy7MCxmWzVqFX/ZDNmOOu3gvh91szxxPGRE+8HKuqio0TUNBQQEcDgdCQ0OBUtKGiJCdnY3Q0FBUrlzZKDtmMyIdUEr8zR8zwm25/JjdKA05HMHMi+fm9yJccp6I37JZ+buc7/JfANA0DfHx8ejatSvCw8OhW7QPlzu2InIeyMJYUQghzc7OxujRo/GPf/wDPXr0KFG4ZKGWv18sLoWfFcGVGm4bGxsbKy5Em3QxsBWRywzROK5ZswbvvfceZs+ejerVqxfTmAMUD1UBKFDTV/iUiZy5snD63RI9B/5cVbhdP+yd8J99FyMouq7D5/MhLS0NERERqFWrJnJycnDmzBlUr14dISEhAW4pCnNPjoesEOjSiIAc32DI7gjzsh0r+8IsLEYg5HQVHznd5J6/+b1wR+45y3ZFWOQwBTMjI+Ilm4MUBllBtTInnguCuQcLc2b8+V86wfwQmONtNis/E+FSFC5AAgv3zelsdld+Zk5v83ORVubvslkZ+b1VnARmf61QTKMRcjjMYQkWLnMam92Qe9rmd+KZGEWzcs8qfOZ34PbMZcf8Xfgp2xFhsIqfbE9g9lf8NrtjdkMg24XFezOyf2Y35edyPSPCEcwvs59m9+XvBALxEWurUc4rBVsRuQwwZ4GiKHjzzTeRlJSEadOmBQgYETE1wSzEAEgM86sO/gSAqgJBhnTNazuYcgH+t7jwE5+mId74qaoCr9eH77//Hp9/9hmcLheGDh2CzZv/RFJyEjrfcAPuu+8+hISEGIWPFUBAUQLnxs2FV/ZTYB4RCmbHCrmQCz/NcZPDYnbTbB4W+Saemd2Fyb7wK5gZsz8ycjysnstpKVMWtxHEXXPYze/832EomWa/SvUXAEzpwh4FVvQifqW6Z8pPBMlDQbB0le0LrORQ9kM8kwn2XMbsl9lNOeyyn+Z3MsGem902fxfI/pjtiPBSCTIiI56XJf1kZHflNCpJAZfDLLtt5b7AHG7Zr5Kwirf5WWnpLJDDLaezeGYVHnO8rPy83LEVkcsEn88HIoLL5UJRURGeeOIJdOnSBffee2/gtAwRdK5YiOeqqsLj9UDXdISFhUFVFBQWFMIV4gIpCpwOB4xWoiQUFBsNAfPS0HuIKyMK3/mybftfWP7VV+jQoT2eHfMsXCEhmDbtNSQnJ+Orr77CJ598imrVqsqucfeKFxwrmLHiYSoJuRBbUZJ/JWF20+yOXGGYzcqY7cmUZE9Qkv1glMXd88Ecpor0r7T0vFIRaSbiZ46jOU1lFAuFzOxeaZjNCPvm51YYYSP/uKs5DlRGBUNQmvlLQXnDUVqelYbZvpUdsxkZK/NXAtaLDmwuOqq0Cjo1NRW5ublITEwEzIInCZoo+IqqwuUKQWhYGPLz8jB71my88cYbcLs9bFElWFNumA/4MCcVpfiUjEABDB2GhYX49lvgeHo6evTogXr16iP3TC6GDhmCvn37IiQkFFFRUQgLCwVJC2WtKB4m/6e8SgiCFEY5Df1uB/4u7WMm2HsrszJms1ZulITZTlk+F5oL6V9Fu3e5INJKDXL2gzlNzelrtiN+C/eCfazsimdWz60wzIq6w8Ke2V/zx4x4Xlr4y/Mxu23+mDHbKS/CjtmfsrpVFjtmM8HMychK3uWIrYhcBpgF5ODBg4iMjESjRo0AadutjPidX1CA48eOYevWrZg3dy4eeOBB/Gvcv7Dh9w3QdA1qqcOLCv8Uhwmv+alfKdE0DZ07d0aXLl2wfv161KtXDyPuugsejxcbNmxA48ZNEB0dbUwLAYq0PsTC4SBcqEJU1kJ8IbiUfttcvZRFpsxmzqdsmRtEc1ktTc7Nfpdk9lwozX9z+OVnJSFGgczhxwWIQ1m4FH5WJLYicpmg862Vmqbh999/R+vWrVGpUiV4vV6zUZC0gGzVqv9i5L3/wMRJE/H7779j166dKCwqQmzlGDYlcx5Cygok01OEE4rCpoLE9Ewlvt3u119/RefOXdCkSRMkJR3Gnj170L17dxQWFsLj8QSEgX0te5jONfwyFeGGjc3VSEWWjbI04jLlMXs5IUaPL6fwlxSW8ubLxcZWRC4DiM/pOhwOZGRk4ODBg2jZsiXAh1mthm4VflZFQkIinnnmGcyYMQML3l+IHjf3CDADSXuvKBSFnSciwnX48GGkpaWhXbt2UBRg7dqfUa1aNVx77bX47rvvkJKSAkWa0xYLVW0uHVY9uSsJc8/bxuZqRMj51S7rdotwmSAWniYlJYGIcO211xrCJ6sgojFnoxI6mjVtitv69EXjxo3hcjihKmwUxOdli1+ZHckBgdWzkjBOWgXEFItgz5490DQfOnXqCCLCgQMHEBsbg+3btyE9PR3Vq1c3FteWVKBKemdWxK4mSor3heJyT8/SKl9DyS7BzOXA5R4+G5vLAVsRuQxQpP38W7duRWJionF2CEw6gxhiUxQFTqcTuq7Dx6d0IKZSALjdRcapjZZYtENkOr0w4J34nwhEYhqJLUCNjY3FXSPuwjXXXAOfT8OQIYMRGRmJP//8E7fd1g+xMbHw+XzQdf9uHzOlNTxXM5e7UnA5c7mn3eUePpsrg2BydLXUmbYicpngdDqRm5uLv/76Cw0aNDAET0zNmHE4HOzodFWForItugr4vAnHL6OlCysZIx5sCkXT9ICj3RW++1cn8ZwpJADQvfvf8MSTTyAiIgKKAtxwww147bXXMGbMGDRs2IAvmg1cCS8UD+YXO9I5WGG7fGHpcM6INLgiKpTg4ZPzUv6UZKciuPLkxcbm/Lj864lzo3gLZ3NJcDgcSElJQVZWFlq1amU8Fw23XKcr/MAxlX8URVpNKsyUdXGStItFdsbhYAeWyagqW8fidDIlyOl0QpHuLXE6nXA6nXA4HKhUqRIiIyP9z11OOJ0OQyEh6ewEnZ/OSjq7/Zf4aa9mrJ5dWhTroaWyIhQzU6N6+cWzZEQ+Fpc38+9zh0oYrbO5QBCBLEYvbfycizz6FfXSMZer4mXs6sA+0Owy4vPPP8eqVaswY8YMxMTEABanEMqIrCM+WqEqCp568km8+eabGDJgIBYtWYyo6Gho0KFCtWwWmA7Cj4mX1qocOHAAq1Z9h/z8PDhUlS0wVdh7r9drFBCSbl6VGwpRYPwLUwkAU1ocDhWkE1SHA4oC3NLrFrRo2QIkXf4muwG5wAc5dO1qQyhqNgwxneeXqys0bUg6HfAyxCx3YqTyik3vCwzx/FSkOkphlRR7L6njAd8roHyb69ormatOEamIDL4U6LqOcePGoXr16njmmWdKFzI+pA+hiOgEh6riySeewJtvvYWhAwfhg8UfIio6GrpUAAzX5FIhoWk6HA4VP/74E+68806cPp0V8D4yMhJRUVGG0qFId0j4j39nh6NpusbrXTGqQ8g8lRngHgDMmfMmnnjicWiaFvS+BOEX8d6E8DNYfls9t3p2uXC5Vfh++YO1oFxCzGVD13U2RWkydzlCUsNVGucrr+drX1BR7lxtyOmik85GqkXVKuoqsA6iWWbNaWp+b0Z0EGGqC4OZv9II3t2+QrlSM+bEiRM4evQoOnToAPB4lBgX8U4Y4X+FWklExneTEf8PWQXl3x0OFW63B51vuAGjRz+DkJBQOBxOOJ0uAECPHj3w008/Yd26dfjpp5/w008/4ccff8RPP/2EtWvX4Oeff8aaNWvxw48/4scffsSaNWuwdu0arFmzBj/8+CMWL16CYcOGIyws3ChYO3fuRGFhUYnxVRSm2Ij1JESEs2fPwu12Wy6AtXLL6tnlgJiaUhQFbrcbXq/XqJguHcplpYQQEXw+H/Ly8oxK2OfzwadpLK0ueXqZKGn4PdhzE+crr+dinwBj8TsRweN2A/wKCl0vYfH7/xBC9ogIHo+H1T06X+tG/hFbhSucor4iIrg9Hni5XbnOCpZXwpxsXsi/yCMzVs8ud646ReRKQwjXoUOHEBISgubNm5uNWEJGz4qLvaGAMPeIqNj5IQG/DPNc2I0L7ZigR0RG4KmnnsLIkSNBpMPnYwerbdr0B3bt2oUWLVqgZcuWaN26NVq3bo1WrVrxT0u0atUSbdq0RmLbRCQktOFmWiExMQH33HM35s6di8mTJyM+nt1Bk5ychKKiwiCF0R9q4oUdAH7f+DsWLFiAgoICS0XkSkBULrquw+Fw4I8//sCMGTNw6tSpYmlxsesWKyVEVKYXG+I9v4KCArz11ltYvnw5FH4lglHJmy1dYqgE5chKyi8GZck7r9cLBYDH48Enn3yCPzZvBowF5XL+l+7WlYw5rYTss8X6Ogis7G7ZsgULFizA2bw8qIoCn5crJpJ9cTeYoijY/McfmDd3LgoKCgB+OrUVhn+8flAUBTk5Ofjrr7+wefNmnD592lBIzPauRGxF5BIiC83mzZtRu3ZtxMfHG5qu/LHCX6Ep0LkC4n/if2ttm6GIuyLUwBEYj8eLqKgojBs3Dn+76W8AAJfLhYyMk3j++eexevX3UFU1IKx+zV2EWyg67KNrOtxuD1whLox+5hlMmjQJ0VHRyMo6jezT2bxgSYGT5o8IbB1LaGgoNm3ahMmTJiMuLg6VK1dm4Ze2QFsRLA3LS/F8Kb+7hn2eXk6nE3/88QfGjx+PSpUrIz4+PiDfz9WfC0VZ0jIwjUohmBmT/cjISLRu0wYzZ87El198YfQ4hVmdLq5SYhU3I86KUvzgPmHcQuEuT3rJZstqT7wvyZxoQH0+H2bPno3ly5ejdu3a0HUdTqfTdLBi8Tj4Ce7HxaQs6VISsn1RxyjS7j9d11GtWjWsX78er7/+OorcbrhCQpgcBjpkKBQ1a9bEhg0bMGvWLHi93oA6FBS4FkqktaqqSElJwbx587By5Up88cUXeO6557BhwwbjPCmBbE/mfNLhYmArIhcRWRjEd1VVkZeXh/379yMxMdHQco1CYLqp1grmVvHeq/QLMJtQAh8ovH4kIv5dgc+noU6dOnj1tVfRoUMHY5FqamoqXnjhBezevZudZcJ7CWBljjsohvYZxBsIlY/i6ES4a8QIDBo8GPv27cXefXu5OVmZ8DvA1sA4kJycjJdeegmdO3fGPffcA5IUIPFd/pjfVyQsX0rOGyuMsPAdRwcPHsT48ePRpUsXPDZqFJxOZ4DZYJXLxcCcbuJ7SWlZ0jszum6qtCX8osTirqgK+t12Gx599FHMmzcPW7ZsgcvlMvKaKeTBXLswiPQhPqoYkF98cbfP5+PD9oFb1GW75cEsC2WRD/N7K38VRUFISAg++OADfPPNN3j++edRv3591h0ogx9+ymru/CFpysJMsDCXJbWD2RW2iZ+J1LBhQ4wfPx7bt2/H1KlTUVRYFJCuinSJn8/nQ8OGDfHiiy/il19+wdy5c6GI+l7XAcW/OUHEyeFw4NSpU/jyyy+RmJiIJ598EmPHjkV4eDhefvllpKWllbih4Urhyo/BOWIuhBcb2f+kpCRkZGSgTZs2RkVmYFUWikFMiZAqHB3+oWHiW2LLisrPKHGoKnRdQ8eOHTF58hRcc801IL6z5Y8/NmP8+PFITU2FQ1WhaT6jwVd4T1VOYhYsdlOw2BocFR2FYcOGITIyCkePHuXm/CJpVPDcXY/Hg1mzZiEkJASjRo2CqqoBFarD4YAqHYkv2yWWCGWrhUpApK91JVUyIhyKaYfR/PnzUVhYiIcffth4JyrCc/GnoiFiC5FZ5chkrazhEubMeUl8BAN8eFpUvCTPqQe4BJDGeusjRoxAQkICxowZg+PHjyMkJIQbIK7oXnhE3onvTL78iwjFe1VVjS3tZnmV00b8Lk+6lsc8ZP/4bxEWkS+KomDLli14++23MWLECHTo0CHo1EFZkONakZB09pA/DmZTJWAyLKeD+C3kUZRHv2H2x8GnBj0eD5o2bYr77r8Pn3zyCVb/sDpAOdZ1HSrvcLhcLmiahmbNmuHee+/FggUL8O2337JjEFSVTeFwORLhAD+5etGiRTh9+jSioqIQGxuLoUOH4vDhw/j2228DzAajPHJyKbhgikhpCWMmmNCahcRMeZ/LlMVMRSJXUsQLE/hizbi4ONSuXdswB16JBRMg+akwowBQLLRjhY9ClAV2VghTFBR+equmaejZ82Y899xziIiIgKZpcDod+Oabb/Daa68hP78ADgfrxbNGSpQl0WixMDgc4hwSl6HFt2/fDk8//RSqV69u2IdU2fi4guNwOPDDDz/gm2++wd133YUqVarA43YbYTx+4gTmzZuHp59+Gvfffz8eeeQRbNu2DQ6HA4rolaj+bXXnQ7A8KQ1Z3jR+aeFPP/2E5cuX4+GHH0bNmjXh45ccXmzZZJC/pjVQ+FkSTAFlMmwyEgQrGdWlEQIxJK3w3uK+ffuQcfIka2AkuwK5URg2fDiSkpOwePFiQEqvc82b8mAOm8IVAqO88iH23bt3Y+68uZgwYQKef/55TJs2DSdOnAgIY4C9i4AiKWqKytJT11iDWVBQgNmzZ6Nq1aq48847mXLCG1wRx0sJmRRZFiZW14jnZUWuh8UaDp/PB6/Xy5QHVUVmZiaOHj1q1NNE/hFqVWWKRYjLBQKhd+/e6N6jB+bMmYOTJ08CvIxrPh90vstPldY19e/fH61bt8bkyZONTpjP5wswL4iOjobT6cT+/fuNsMTFxSEkJATp6ekAz1cRnyuR4q1WBRFMaGVhkgkm6OK51buSKK/5i4mofIjPx+7YsQOJiYmIiIgwKtrSIFGYAOOAM/ZdwkgDtnC1eB+zZIQfIkwPPPAA/vnPfyI8PByKosLpdODDDz/EnDlzjGkbfyVhnQfyE03TEBcXhzFjxqBPnz78yPhASGeFMjs7Gx988AGqVKmCm3v2NBpycIXtdFYWfl73M9asWYMPPvgA77//Pnbt2mV2rhhiOL3CCrFVW84Rckx8VKmgoADvvPMOoqKicNttt7GKnx9SZ0V58++8ESMhBBxLP47NmzfjzJkzPA7Fy3AxTPGQ4+90OuFyuqA6VCQlJ+O1117DiOHDsXXLFjidTqb8SKODTNbZFnXNpyExMRG33z4A8+bPx5YtW9hN06UE50IRUD/xQqiqKv7csgUffLAI7819D9OmTcN7776HzEy2fT1Y2gV7Xhpi8WRZ7Su8c6KTDk3X4HQ6sWH9evywejUGDxpkrFNSzPEribJ5fc4QP/FZxDE5ORnHj5/g07ll91yOCREfyVJVuFwuNmqh69i4cSMee+wxzOPTJzC3RQrzUuE3kUdGROLOO+/E7j278dlnn7ERZbGeRPJP+BkdHY17Rt6Dw4cPY8WKFf60lkbNFH6xabNmzfDZZ59h1KhR8Pl8AIBdu3ahsLAQ1157rcn1K5MLpoiUhEho+WPG6pkVARWVyb2yumG2dyGRw+tyuZCamork5GS0b98+wIxVwSdic4mWygqxsiG22aoOpn2T9K780fOnIxEhIiICY8eOxejRz0BRWCNVUFCAadNew9y5c42GlAxls7hz8iMxXC22B8tRVhT/AlpVVfHD6tVYvXo17rrrLmP0RChzXq8XTZo2waIPFuHTTz9FQkICNE2Dm289tEwvGYu0LgtEpgjx6QZZjng9B0h5r/Dh+o0bN2LNmjW4/fbbUa1aNUO5UqSpJdmt4lWan7LIrtm9QAIiIn0luFwO/PjTT7jnnnuwZcsWADAW7ZkJ7j6D9TRPYdy4cbjr7rvx+GOP49lnx2DSxIlISkqCyqfmrNZ6KDwNiXS4nE4MHjwYZ8+exYIFC+DzaSx1LOxZUVo4S0LE2rqcsgzXdQ1Dhw7BypUr8fqMGQgJCYHq8B/8F2jDX87OGW7V7IbIc/NzgUNlox1ncnOxePFiVKlSBbf26QM9WD1TAsXKQwnyei4oisIPV1SQn5+HsWPHYvr0acbW9+J5EQTJrKhffv3lFzz77LMYP348XnrxRTz66KNYtmwZTpw4yeIh4iW84NPdRGyaxufzoV27dri2XXssXLgQhw8ehOpkV3AwkTAyyJCBrl26omfPnnj//fdxOOkwXC4XSF5HxM2GhYWhefPmqFq1KpxOJ06fPo2vvvoK3bp1w80332y4Xa40uMy46IoISRmh8Xk+8V18jMVdZSwIoqAJt8THXAjNv+VnkBqKC43s55YtW6AoCpo0aQLwxrkkgRIhJz6kKNxx8KE8j9cDACgoKEBhQQEUaYEoghydHgyFz22GhITAwQ8ai4iIwDPPjMZ9999vmMnJycVLL72IJUuWGEObLC/9NwAzw6zND1Q42MgKmwoKFEeFn8Tq9Xqw6rvvEBkRgZtuusn/Xpp/DwsNQ0hICKrXqI7KlSsDAAr5FjlVYRWJOe/FO9HABUvzYChK4FQPGc+s3ZHrsqKiIixfvhxerxfdu3cHeCMt2w0WHnMcUIJZQaAd8/dA9wyjir+R9Pl8yMnJQVERU+4CRmeKB8cyPKJcOp0OxMfHo02b1ujTpw9G3jMSsXFVAO4PxLSkqrLQ8TpD5TKoqg4QETp06ID27drh+++/R3r6USgOlY+kBHhbDJEWVukYDLNZq/gBgGjkVNWBiIhIxFepgkYNGyI8PByk63CoTPkOsC83VOKRhayWhpUMm3/LEH/vdDqxd98+rPpuFTp37ox6detC13inwhT3gBCZgmf2i/0M7n95MMIgjUocP34MKSmpRoemvIjwEhHyCwqgKAqioqLQvn17tG7VGhD1MaRokEg4kd6sQwZFQVxcHPr174d9B/Zj9XffA6KzZBqtIiJoPg3R0dG4/fbbcejQIXz11XKAdz5ER0TUBUQEt9ttlIP58+fD4XBg6tSpxgncVzrlz70KgExzZlYf4msE5Pk5c2aKZ+AZLj4Kz1ArcwLxTAtyKAxMBbAiEe7quo5NmzahQYMGRi+/JFgF54+fqig4lp6ODz74AO+8+y7GjRuHL7/8EgDw88/r8Phjj2PmzJl45913sXXbVuMcjnOLFyv8Ho8HcXFxePGFF9G9e3cQH2bPzT2DcePG4ee1a9nQuoXCZ4Wou0ShNr9UVRU52blYt24datWuhRo8nWT3RL4DgM/rV368vFFjDRpB4Rf6mWUBkpyUREnvSWfuB8RDNDD8N5G/+T527Bg2/P472rdrh1YtWwKi8ZVkF6bKXYTRXOGXn2D2FSOfBSJdWWXvr/ADRmcCnBOVp/+JSHNRfuPj4zF69GiMfX4s+vXrh4aNGrF7jcjvX7CRDVVVoTpYfkZHRaF9x444ciQNm//YDIi8psBzHMywPCreaJdEmc0S/4CdtgkAbo9HOgzMHC5/50jX2fkUkBbsBpgMIqOyPCsK772bZMgsRzpPIzEKt23rVuTn5aNz585whYRA4Z2QYrHmI3zERwQCoiMprsajYg6UHznOTFdXoOuAqjoRGhrK08WfPlZpZCDSWVJYiQg333wzpk2bhn/9618YPGgQ4qrEAfyeLGKR9SPHiYz/oADodlM3VI6pjO9WfYe8nFyW9qJci06yphlutG/fHjExMVj388/IO3sWTocTsKg7idez33zzDfbt24epU6eiXr16QeuyK40KU0TKJAS80Ij900SEI0eO4Pfff8dnn32Gjz/+GBs2bMCxY8egKApcLjbNICe27L5uOhZbfBcKjqyciErebEb0qBVTA1BaPM4HEd6srCxkZWUZvXyzn+bfMsKN48ePY+3atVi3bh2OHDmCXr164R8jR2Lw4MHw+LzYsGEDVq1ahb1794F4RS3sFqsTS0CuUNxuN6655hpMnToV119/HXw+H1wuF06ePIlJkydj165dcJq2oMp/ZayeGfB32//ajmPHjuG6TtejatWqzI6pcjBXgAAQHhbG3vFpIoJY4CYaS7/MsmHW4m6YCbAjfRSFjY7Iz4xek2RffD9w8CCSDh9Gg4YNUZn3ahTjE1h7G+5ZYA6HlTmrZ378vpoh1tED+BA+JLkLBnttoVRyN0S5lzsZPs0Hh8MBt9uNgvx8wJyfAQkofrC/LVu1hNPlwtZt24wL2kiItiwfJaSN1fNzQngqyQF4OvLH7GLHAFg8SFqg6OMnb8qI31bpL+ouw0+FpVPAMwnxS1HY9Kemadi4cSNcLhdq1qzlf6dYDGEaWUD+uASMNirFlFDZf3NYSsMwbyGi8pkeisLWpZUHIi5lXOnSdB0+TYPKlW7wuo7YcakMkx+sg8PzFkDl2FjUqVcPBw8cQMYJtmiVFPGWbybg/um6jrDwMMTExmL37t1ITU31K+JchsDzwsEX669fvx4TJkxAo0aNcCz9GLZt22aUoyuZClNEBOaCIjR74pqoqqoICQnB9u3bMWHCBAwcOBADBw7E3XffjXvvvRcDBw5Ev379MHbsWGzfvh0kFVCFKxDiu8PhQFFREX744QfMnTsXixYtwvz58zF37lwsXLgQ8+fPx7x58zBv3jzMnz8f77//PpYuXYrly5fj22+/xddff40lS5Zg3rx5WLFiBfLy8oBSCn1FIMKekpICAEhMTDTSxwrxjmny/rTUNA0JCQmY8+YcLODxfvvtt/H22+9gwcKFWLx4MRYsWIAPFy3CkMGD/QVGVFCi8S1D3SAqO5VPh2iahk6dOmHmzFlo0aK5oVxu2LABY8aMMfa3G2nJ/5UVuSHatm0b3G43qsRXYW7qbLGnqsqVJP8rKRr+0TQp3ty06AmKj6owZVWkq8gLWX7FAk3ZnviwHqa/AlcUheUVj4l5zcPx48eRn5ePatWqGQo3wMIP3rMUYWGP/e76+JkUul48LGalXaS/IJhI++PIzBvx5c6pqgMup9Owz2SHpW1gg8/eyihiJM90m7PIDaOTIJU9XWdvmcwWD7TCA9K8RQtUq1Ydf/65GVlZWSz/uXlSAsMhB9WcNgHfjW/FMdsp7gNYiPnUknhuvOHhNvsPLmuqwsqXkx8gJuRP2JNbeVF+RfqKdAQAzWILuK7rxlkmisKmvVRFxdmzZ5GSkoLo6GhU4SMBENvIDd9MyDtVjGkKBYoC01lA3LgpruWByYZfPtiHPdc1eYTQH1dBMX8NWWSjauAypvJyJ2QnNCQUAHAmNxdaCUfbK8TDRqxOiYmLRctWrZB0+DD27tkDQKSHPy/EiD/x0cGmTZsi/Vg6tm/bxszz0Vth3uVy4fjx41ixYgU6duwIt9uNrVu3YvUPq7Fv3z44TPdzmdPgSqDCFREzIsHF1ii32433338fw4YNw6uvvoqtW7ciLCwMN954I4YNG4Zu3bqhqKgI77zzDv71r38hNzfXcMsqgU+fPo033ngDTz31FJ577jlMmDABL7zwAiZMmIDx48fj+eefx7PPPovnnnsOTz/9NEaNGoWHHnoI999/Px544AE89dRTePbZZ/Hiiy8aW6EQpKI4V8zuiMbizz//RJ06dVCzZk2QacuWlR2vzwufxqcbJCGtXKkyIiMjER4ejqioKERERCAsPAwRERGIjo5GXFwcwvjoACziJu5wEdM25vfityKNJAnhv/766/Hiiy+hcuXK0PkJjN9//z2mTZtm7LBQeCG3qtWs8pSM/xi5Z5gMKMY0DFNAhJGAlLJoXBT+H8E/NeVwOLB7927Mnj0br772Kl5//XWsW7cOHo8HDocDPp//XBTNWLfElMHt27fjzTffwowZMzBn9hxs3/YXVFXFnj17MGvWbLw+/XV8881K5BcUwOfzwefTjEAKheTggQNQVAWNGzf2p4FoRDQNXq8XXr6Vt7CwECuWL8f06dPx3//+Fz6vF6qiorCwAD/99BNmzpyJd999F4cOHTLCDmKVqpEGRoMkpzfLV133+8eUMM1QujRDsVHgCgk1RrqEQszs+xVlXWdKnKzMyQgZUhTWWAP+DHQ4HHDxxdaK6NGb81eCAFSOqYyIiHAcP3EChYVF/LlQ//zmmEwFThEZ7/l3ElO10tq1gI8wx90R2y1lt7iLAQqU08W2qxP5b7kWaef1euHzsREhIsIff/xh7Pr6z3/+Yxz3L8qnl6+f82kavF62SDPj5El89eWXWLhgAb744gukpqXBoao4kpaGTz7+BIs/XGx06uQPeDonJyfjcFISqlevjvj4eP6c54ERI64ccgUYigKny4mioiL8/PPP+HjpUqxYwcKrqioyMjKQlJRsLBhnYbe6Q8n8m6HzOqm4eUk2+HQFyxudyzPLWyN/pFNLzV6pqsoVEJYnCtiWZkhGCwoKjc6AJQqTKwXs/KWQkBBUjqkMN3SczjoNsNds9IbLu6EwKgoiwiPQqFEjaD4NR44c4U4q0HS2hV1RFGRmZmLixIn4+OOPMW7cOHTv3h29e/fGpEmTEBMTY1mHXmlc8Nt3RSEGX6A3e/ZsvPrqq8jLy0OzZs1w//33o3fv3qhRowaio6Ph8Xhw+vRp7Nu3D0SEW265xTggRm6ohduFhYXYt28fjh8/DpfLhcjISKOyFMqP8N/tdsPjYYs5xUrriIgIhIezC9iuvfZaREdHG0Ju9u9cMCevKERerxfPP/882rdvj7vvvjvAjGxHVEJmrfdCIAqcqBSFfIvgyAIvwqjx3SlvvPEGO1mwqMhQVF5++WWMHTu23GlJvHzruo68gnzce++9WP7lV5g1cxaeevopboibMi1oP3kyA0OHDsFvv/2G2TNn4cmnn4LX7YHqZDuIVFVBVlYWFi5YiOXLl6Nx48aoUaMGPB4Pdu3ahfj4eDz33HNo3749SJpDF/m2aNEivPbqa2jQsAHatm2LI0eOIDk5Bddfdx0OJyWhUnQ09uzZg5SUVEx5ZQoefPBBKKoClyuEV5QstCNGjMCK5cvx6aefYtCgQf64E7HGjedDTk4OXn7pJSQlJcEVEoLNmzdj7NixuPbaa/H+++9DVVVERERg//79OH36NCZNmoRbb73VCDekdR6B+GVMlAVxFowVn3/+FZ599p9YuHA+evbsaX5tIBpMVVWhQDF2ipgh4j1pKNi6fTsG9O+Pk+nHsOiDRRjxj3vg03xQVNXYRaOI/Ab7QzwGKWmpGNj/dhQVFmLlypVo2rQpHw3glT/3Tz4oyjo9yo9o7JxOJ99yzQ+1APuqKwpUAGt/+RmDBwxCXOUYfPvf/6J5yxasXtQ0aLqOkJAQpKSkYOLEiUhKOoy69eohNCQUJzNOQvdpeOCBB3Bbv35wOZ1GrumkQ3U4sO7ndXh92jScyjyFVq1b40zeWeTk5KBXr17YvXMncrJz8NeOv1CpcmVMnjIFgwcNgqZrbMSGjyqsWrUKgwcNQteuXfHpJ5+iSlWmjMDcdksKjKqq2PLnFrzxxkzs2LkDzZo1Q0zlytBJR/369bFu3TpUqVIFr7/+OurUqcOUYwVwOpyGPAi3zPKhc0WxpDqvsNCNQYMGo17dOpg77z3za4Oy1OVEfsVVjEQ8O+Z5vD5jGu4YPBSLlyxGWES43zz/q4gfOoF0DXA54QHhX/96HjNfnY5xo8dgymv/hq6y3T4gXl+Jrbmkw6GoeOnllzFp4kSM+ec/MW3aNGO0hikwClJTUvD999+joKAALpcL4eHh0DS22LVnz56S8li8nF0x0AVC13XSdZ00TSOPx0O6rtOyZcuoUqVKBIC6detG69atI5/PZ7YagHDHCl3Xyev1mh+fM5qmBYQ7mL/lQbin6zr5fD7SNI2IiFJTU+nOO++kv/76yzBnNi+nX2pqKu3YsYP27dtHBw8epMOHD9Phw4cpJSWFUlNTKSUlhZKSkmj/vn20e/du2r1rF+3du5cOHDhAhw4dosOHD1NSUhKlpKRQWloapaSkUEpKCiUnJxvu5eTkBMTbHBYzOk9/j8dDOTk59PDDD5PD4SCn00mqqtLEiROJiMjn85HX6w1wNxi6nBaaTmnH0umGrp2pclQ0Lf/yK7NxImGHfz9x4gR17dqVANAbM2YQEZHH7Sav10s+zUe5Z8/Q0888TbExMfTqq69Sbm4uaZpGPp+P1q5dSx06dKDExETavn07ERG5uV0iorVr11LVqlWpa9eudOjQISKd6MyZM/TkE08SALrttn6UdDiJbut7GwGgB+5/gNxuN/l8Gmm6Tpquk1fTqKCwkPr3709hYWH09X/+Y8SDdJ00n480n88oM++99x7deOONtH3bdtqwYQPFxMRQeHg4tWvXjl597TXKyMwkn89H27dvpwYNGlCnTtdRUlISi7fHQ5rPL9NyurPvOuk6k6+TJ0/Q/v376cCBA1xmDlJSUhIlJ6XQ8WMZNH36GxQfX5XefOtNOnz4EJetg3Tw4EE6ePAQJSUl05EjRygnJ5fcbjd5PJ6APLdC47m2Zds2ql27NoU4nPTRosVEROT2esinMxOGTOi6kdkaEfmIKPloGnW6/jqqWrUqbdiwgYiIfJqPNF03ZIKISOPlz+Px0JEjR2jvnj1GXA8cOECHDx+m5JRko1wcOXKEjh07Runp6XT06FFKSUmhg4cO0YEDB2jf/v20c9cuOnXqFPl8PvL5fDx8LA9J4+Wdh+DHtWsoNjaWGtavT3t372Zh9PlI03zkdrspLS2N7rjjDqpZqyZ9tPQjysnNpby8PDp06BDdc8/dFBcbS0s/Wkqk6+Rxe8jtdlORx0179u2ltte2pfgqVeib/3xNRYWFdPjwYRo8dCgBoDuGDqWtf26h1q1aEQAaN24cTx+WrprO6qJly5aRAtCQQYMo7+xZIrkMSuno0zRyezxERPTN199QixYtqUb1GrRg/gLKzDxFOTm5NHv2bIqJiSEANGLECKN8ifKnE5dF8VeSS53Xd5qmUWFhIUv/Y+mUlXWKsrJO0alTGZSVlUmnT2fTnj37qUOH6+nW3n3p8OFD/N0pOnUqk06dOkVZWVl06tQpys7O5nLI4so9Yh/xk3TSdM0vNzrRk48/TQDovpH3kqewSDIb+CEilt8elttFpNM/x48lADTo1tvobHYOS29dJ11jNkQdq/EwTHjhBQJADz34EHncbsMvkupO0W6Yqah26lJzwRQR4oIlKqPDhw9Tp06dCAA1a9aMtm3bZpgRAigKtWiw5YY7GMKMnBm61OjLwi7/FgJv/hDPXKNyqSBEmHxc8frmm2/ooYceMgqqlV8irHl5eTR+/Hjq0aMH9evXjwYNGkRDhgyhQYMG0eDBg2nAgAHUt29fGjBgAN12223Uq1cv6tmzJ/Xu3Ztuu+026t+/f7HPgAEDqF+/ftSvXz8aMGAA3X777fTll18afpaGnGb5+flERPTjjz9SbGwcK1QPPUhZWVlERKTr/rQtDbPPyUePUGL7a6n2NTVpwy+/mt76EfaOS4rIa6++SkREmpfJgkY6vfn2WwSAhg0bRgX5BUZBF8rGd999R9HR0dS7d286lp5uxDErK4uGDx9OAOjdd98lIqLCwkIiItqzew/Vq1uP6tWtRxvWb6DV36+mp596mn744Udyuz3k82nso7FPTm4u9enTh0JDQ2nlypWBEeByQkSUlppKN998M32+bBkREW3evJlq1qxJ4eHh9O477xhhc7s9dPbsWbrzzjsJAM2ZM4eIyFASRXZayZmua+TzeWnWrFlUp05tql+/PjVs2IAaN25EzZo1o+bNm1Orlq0pNjaenM4QqlIljurVq0v169enBg0aUsOGDalhw0bUuHFjat26NS1evJh0XSe3211qnosmbsvWrVS7dm1yQqUPF7xPRERen9dQRCQLPJ100vjX1BPH6IabbqToqCha88OPRFwRMYxyNF0nj4el05NPPkk1a9bkYWefpk2bUvPmzY1P69atKTExkRISEqhNmzbUokULatS4MTVo0IDq1atHVasypYyIKcwB6cq/CkVk3W+/UlxsLDWoV5/27GKKCFNQfZR5KpPuu+8+coW4aOnHHxNxBVI0SCkpKXTDDTdQ7dq1af2vvxHpREVFReTTNXpp4ssEgMb885/kLXKT5mM+btm2lWrXqUNtExNp3569NH/ePLr33ntp06ZNIoS88WXh++KLL0hRFBo6ZCgVFhQQ8XpV15gZodT5eH5u2LCB6terTxHhEfTRkqVEUp2ZlZVFf/vb31j5e20a80vUuRb1gJxuQp6JiPbt20c9evSgVq1a0Q03XE+dOnWkjh07UNeunalbt27UokUrCg2JoKjIStS8eXPq0KE9derUkTp06EAdO3Wkzp07U7t27ej//u//KDs7W/KRitUyXC0yFDOPx0sPP/goAaDhdw6nwrw8yWzgx/ji00j3aZTv89DT454jADT0ttspP/eMkc7CW13n7RB3c+y4fxEAuueuuynvTKAiqGkaeTysfvJ6veTjfz0ej9FZuRoIPl5VASjS4tIvv/wSW7duhdPpxOOPP462bdsaZoQ5tgCR3Uao8Xla8zCeQAybi2EueViKDTP79+vLfsjfrT7ycOGFGurSNA1//fUXWrVqhUqVKplfA1J8iQihoaF46KGH8NZbb2HatGn497//jcmTJ2Py5MmYOHEiXnzxRUycOBGvvPIKpk+fjtmzZ2P27NmYMWMG/v3vf2PKlCmYMmUKJk+ejJdeegkvvPACXnrpJbz88st4+eWXMWXKFEyaNBHXXXed5UKzYCh8QVtERASOHj2K999/H9nZp9G9e3eMHzcBMbEx/FwIvxyURrEUZ+cBsWFwD1szYYWwpyj+eV5x1bYYmj1y5AgWLFiIyjExuGvECIRHhMMhHQFPROjYsSN69uqF77//HstXrDDkIjU1Fb/++iuqVKmC5s2bA3yhn64T4qtWRe06tZGalorvv1+NXrf0wsxZM9Gz581wOB3FbjZ2Op1Qub/yUD77y05WJV3H558vQ9X4qujZi02FZJ0+jaxTp9CtWzeMGHGX4aaqKnA4nYiOjgYA7N9/AB6Px4iXx+NGTk4OwGWPyRb7iGHwDh3aY+TIf2DYsGG46667MWzYcAwZOgR33PF3DBs+At3/1h3h4WHo1asXRo0ahQceuB933303hg8bjmF33olBgwZh8ODBSEhI4GFiUzPBIPijTmBb0X3QjTVQLEFM9o2fkssKoDgd0Lw+uPkZJ7K/xrA7H6J3OBzo3bs3Hnn4Ydx///247777MHLkSPz973/HgAEDcPvtt2PAgAHo3bs3evTogZ49e6J3794YNGgQ7hoxAkOHDsUdd9yBu+++G4kJicYMIfPM8DbgtyqtDxDTnyLv1v38Cz7+5BO0a9cet/a+1ZiCVlQVXq8X9erVwwMPPoijR4/ik08/ha5pcDqcyM/Lw7bt2wEArVq1ZgvI+aFuNa+piVo1a2L7X39h0x+b8OBDD+Hdd95Bu/btA9b8iDCIuk6skRFhFothicg4V+TEiZOYMmUKUlJTMGjwYAweMpidfqyoANhFmUVFboSFhSEhoU2A+5qPrUXSdR35+fnGlKDwQ06X8LBwtG3bFu3bt0ejRo3RuHFjNGnaBHXr1kP9+vVx/fXXIz4+HjVq1EDHjh3RokULNG3aFK1atUTLFi3RuHFjtGjRAo0bNw5cDA6wKZKA33y6hMuLy+lENK+XCwsLA7I1mESTytY8hTicCA1n0zgFhYWBC12lMm7MewPGuihRFmGUTgDGlRu8fTQOgWQ7Pi9UG3XRMWsmFYXcs05PT6devXoRAKpSpQq98sortGLFClqwYAG9/fbb9MEHH9CSJUto1qxZtHTpUjp16pSh8QkN2Urz0zSNcnJy6PPPP6c33niD5syZQ9OnT6dXXnmFpkyZQlOnTqVp06bRjBkzaPr06fT666/T22+/TYsXL6aFCxfSvHnzaN68eTRjxgxatGiR1IMv26hAWdH5yJCb93LS09Np+PDh9NNPPxHxeJjNXyrkUaiSwiFGjEQejBo1igDQ9ddfTzt37iQSUwOl9IpLRNcpPfMkde3xN6oUGUXLP2MjA1bhEk/kqZmJL75MREReNxtOXv7N1xQaEU4dOnakI2lpATZFHhERzZ49mwDQ8OHDjVGP33//neLj4yk6uhJ98803RDx+RESZmZnUuXMXAkBPP/U0d5chwqXrOnl9PvJpGnm8Xrr99tspNDSUln/Fp5t4nHQuD3lnztCrU//tf09Er772KgGgZ556ijQ+aiLy4cyZM3THHXcQAHrggQeogPdsiYjmzJlD/frdRgcOHDCeEfFesaaRx+uRQmrNp598TrVq1qbvvl9lfhWArrORGE3TjKFo9jywTMk90D+3bqE6deoQAFo4dx6RkENjzERCZ8Pq4k3qyWPUqXs3qhQZRT999z0Rn3LQ+SgIG2rXjXQXo00Vgc5HnYzRU52HT2PffTy+v65fT/Hx8VS/bj3asZ1NxXp5L/f//u//CADdM3KkfxRXmrYgIlq/YQNdc8011KJ5Czp86BAREZ3MzKAevXqSw+WiRR8sYuHxsrgdO3GcOnTqSABo1syZRESk+dhoA5uW8cs8iRERgAYOGEBncs8YoiDM+3SNvDzdFixcSCEhoRQTE0v/+Q8rB3JYv/9+NcXFxlGDBg2LyRubrvPQxo0baeTIkbTx942GfTFaLNzy8bj40Q0Z1XWdCgvd1KvnrTRs2AijHAaTYTH6RBTgjIGua2y0RmdTqLpG9PST/yQA9Pc77qRCPuJrmJed0f1yRlwEnp/0IgGgYQOHUP7Zs4YMBk4HkZEPEydNIgD08AMPUlE+K7earvMRQes4lYRIQ3OZu5wpWzf1HBBaMACkpaVh9+7dAIC8vDy89tpruPfee/HUU09hzJgxeOKJJ/D444/j2WefxRdffMG0U9O5HlaoqoqCggJ89NFHmDBhAqZOnYqFCxfi/fffx7vvvot33nkHc+bMwRtvvIFZs2Zh1qxZmDZtGl588UVMmDABY8eOxXPPPYepU6dizpw5OMEvKwJT0AL8KgbXossKSdtz09LSoOs6GjRoAJg0YUi9ArM9GdGLIGL7+TW+s0Pe7SE+Ou/piPdiJ4c88iTMsV50yVq2yB+dL9Z788038d5776FevXqYOnUqWrdubdw9U6LGXloaEiE6KhoN6zfAmfw8pB87ZjZhiUgv0btWHUzM/9q+He6CQkSEhyPExbbniW6K6AkCQERkJABg1+7dOH78OADgmmuuQbNmzXD27BmcPJlhmAUAj8eDvLNn4XA40U2c/MqjxXpZxbfvqvzmzvx8NmoDk7yHhoRi1P/9H/r07QMNhEKPG5s3b4YCIDGxLVSHAzpfkEpEOHPmjHF5VmRUlHEjLRGhsLAQRUXsZEYZtjCPhdHYjcHlR9d90DS+4weAprGdEj4vS1Ov1wOvV4Om6dKHnaar8pFHeeeKGbEoUHzXdYIKNrLDHvJtkbIlYrsf5Gjomg5PQSHiqsShRs2agJGj4p4Uv1n2m8mtsUOIh5vFmX1EuTB/xC4MfzmTLkPze1wMuedqnA7rYNtm9x84AABo1rSpf3GmcI7nbXzVeMTExuDIkTTs3c22hMbGxqJe/frQfF4UFgoZ4tZ1gsftQVhYGNq1axfwTuHpKsOOn3fA42FlFsaCSj6qxQ+aO5mRgS+//BIejxsdO3TAddd1Yg4QywcA2LtnD05nn0ZiYgKqVasGSBsW2OijiqNHj2Ljxo3IzskGTLLA6iwWXlG/+Hw+aHxnjE5sRE/XNRD4gl9N7PLy553YjaTzESYxImveUQWRJgovC4qCgsJCnM5mO148bnex+leRPvJvEHeZp0WtOrVZOTTOGfLHkS1UZuFgo8ZAfHxVhITym6RNu5ZkRL0eDCHn4nMlcMEUEZljx47h7NmzUFUVd999N+bPn493330XH374IZYsWYIPPvgA8+fPx8cff4yJEyciNjYWkI47B09YM0SEuLg4TJ06Fd9//z1WrFiBlStXYtWqVfj222/x7bffYuXKlfj666+xfPly/Oc//8GKFSuwbNkyfPzxx1i6dCk+/fRTrFixAgsWLEDdOnUMv6z8kyHF38iXJBQCMZwGABs3bkT16tVRs2bNgAYwGKIQycgFF/ySLdEACES4RHyEGfZhCoewYxZc4od/mRFxFvGZP38+XnnlFcTGxuKVV6aiW7duxpBrabBiGzztdAKiwsKNfDmVnWUcWhUMktLLfNy3m++YcjidfmVLDMtK04jCD3dRERuaJaBu3Xr4xz/uhdPpwqpVq5CTk8PvhgBWrvwWe/buwX333Ysbu3ZllaHu37Kr8PxxcIXI6XSifv36ICJknTrFDIFXvnxqTFVVRFeqBJcrBAoU7DtwAFu3bUPNmjXRrFkzwMhfFu6kpCQcSUsDANStUwcOfmCSoigYPXo0li1bhvr16/NKT05zBYqiGneOGPKgsnM/RD7qugYQa0zAZUoMGasK2wap8LNYRNoyu4EyGBSF7yTgaa/wj8kQ+19hbwmA7vPBk1+ASpUqI7oSm5ripzAwP/lfFj6/faNuUfjUifReLhOBZcZUVsBOeZXrKStcLhcc/N4nRWENu6IoOHLkCA5yRUTUeUYjQzAaMNXhgMsVgrz8fKQks7OHnA4HBgwYgMqxsVi5ciXycs9A4Xnz2/r12LVzJ4YNG4a2iYFT4JByX/yuV68e6tSpg4zMDORw5YApZ6yBB7FzNnbs2IGNv28EANx8882oVq0a39LLFKzCwiJs/pOdcNumTQKio6P5e7+8Ed8J+d///hfdunVjz0wHDYp0B1fYjGl2sPN+FK5MEt82HpD2vAEXsglT/cnyzSKvjHRn07jGDjJrQfQjRFwnQFXg9npQcJadR1Wvfj04Q0KK1Vms1iNjGlwoIiEhLiMPGQr8+76kp6WWpRLeXaYUb+EuAEVFRdA0dsNjr1698Pe//x3Dhg3DkCFDMGTIEGPedejQoWjTpo0x/1VaAQeA0NBQtGrVCl27dsV1112HRo0aoUmTJkhMTERCQgISExPRrl07dOzYEe3atUPbtm3RoUMH/O1vf8Ott96K3r17o2vXrrj22msRFRUV0HiXhHyOQjBFRH4nKrGzZ89i79696NSpE0JDQ+Hz+XuQVhiVRxA/IAmmKMBygTY+poqUfff/9scbrEdi8s5cmQDAzz//jGnTpkHTNEyYMAFDhgyGorCGVnyCxUvAyz77XuwdO/L6muo1AAAe6YZfswIo+yKeV46pDCjSwWZGo+jvmYrKQE4DUQmpqgMOh/8Qr2bNmqFp06bYsmULRo16DF98sQzPPfcs3pgxA3eNuAvjxo1HTGysMRokx0cBi6C426ZTp04ICQnB4aTD0PioAyD2pfq3G6oq2wKakpKMlNRUNGjQEM25IqI6HEavfOfOnTiano7WrVujV69eAF8js2nTJqSlpZnOG/CnliI1ykKRUHgjy/5KKcsreXB5ZvcD8XqPj6SxcAu5E/lrzlmBFA4o0Pl5Q+B5ZR5F8jcK/n7tqcxTOJN7BnFxcQgNY3PzVhKn8AZdhF/IvSopXMZvSQERz+V3wg3Ar8QALH9JPrKCh998nDh4ujgc7IhyAIH3LDHL/nIhNebi4DxN15GYmIBWrVphw4YNeP755/HTDz/gjTfewKRJE9G7d2+M+9e/EF25ktFYK1z25JJGRKhXry7q1q2Lo0eO4hgfATTKGPxiuWf3XmRnZyM8PAKNGjfm+SviQ8jIyMCePXsQHRWN667rxGUhcBtuamoqTp06hUaNGiEinN02Lqcx+/D84sqHwgWJ+IeZ4QeScSWfhZkpnCzvpDWC/J+BSUCIWLoSsaPvQ0JCEBUVBRhyXnozSXw0RFEVeAqLoACoWZt3bKXzfIRZVkYAr6YhMyMDKhTU4R0uZoebNZ5c3ZSewueBGNKqVasWIiIi4PF48OeffxrneYgDm0haeCp+i09JyBVCWcyXhhDysmKulMzIhQtcqNPT05Gfn48OHToAYuGiUZDKF35RWOXf5o/xTjJTMoF2rdLV6XRiy5YtGD16NNLS0vDQQw/h4Ycf5ue3BLpfcpSEH7zHIDdaYpiTCJ06dUJsTCySkpORzxegsh5b8dERccEdpLtmRCBiKrOj1N1uD7wevrDR1Bt2u904efIEwHuplSpVYhWUrmPt2rUYNHAgln3ORhcWLFiI01mnMWXKFLz11luoW6cOKGDUgHkvICmPq8bHIyQkBKdPZxvlACJPHSpgTI8p8JGOzX9sBvk0dOjQnilYLKfgdDqRkZGB1atXAwD69u2LVq1aQdd1LFu2DHPmzMH48eOxdetWuFyuoPnP0qDYU+OZw8EUV3/VKBkOXHsnEShHZswyyXqJIv/95gJscgVP0zSo/GC4rFOn0L5DB8RXjQ+UIROKEc/i5aOsKAFKivmlXL7YuAwAuIvc7FwUfpopeHrUrl0bjRuzyy6Tk5PZ9JTqYGevSI1XUVEhzp49gyqxcWyhNBEcqgM///wzKleujAULF8Lr82LSpEn49ddf8eijj2LBwoVo0LAhP/zOH1CFN8wCIkJkZBSuueYa5OXn4eyZM35zir9hJ11HamoKAMI111yDxo0bCwegcIU5NSUF6enpqF6juvG+sLAQBw7sR15eHvbs2YPp06djzJgx+G39b4BQZDhWeSJ++8upqCv9HREjrLxzZbavqHz+MQhEbHpbpI3DocDlYp2RgCsxSoJ7kX82D/v27UONGjXQsFFD9srsBj+jSVVU5ORkY/+BA6hTtw46d+4iORegOl31XDBFRG7AatasiYYNWaZ8+umnWLVqFUJCQuDkp+IJQbJq9MqKlRCXFyv7ovEwh0sOb7BGUSDMqKqKrVu3IiIiwjjkp6zxtgqbQLZPFqMFZjPCT5lg6SeeCfuKoiDjZAamTJmCbdu2oVevXnj++ecRHh4Or9fLe2+yff93K0QFAJNZEmEioHGjRmjUuBG2bduGjIwMqSHwxyPgL3fHXeQGiN/vAOC66zohvno1HD58CPv3syFxAfEdFXl5+fj9998BPmoRFxcHXddRVFSEAwcOoE6dOujQsT1eeeUVfPzxx3hv7nsYesdQREZGGjKggB3vLtwVKFJ6Nm3WDE2aNMG+fXuRmZkpmSVeq/kTw11UhJTkZEABbujSmQ3fEhlrYH7//Xf88MMPqFWrFu688044HA5s3LgR+/fvxyOPPIKDBw9iO99hUXb4ThPxU2HPND7/rUgbfs4VQx7lh/IP0cuUHoECF4mkpqTA6/UiMTGBNZi8YbzQsHwM4pPCk4+nHpNT9lsTFzEqQFRUFFq2aAEA2LFjB4qKCg2lnMk/c27/vv04fuw46tStwxQRlV0psP639XA6HBg4YABmzpyJhQvfx4IFC/DY/41C9erVmTwqXJZM5cQPO530xhtvBBEhM9M/VcgafzY5oEt35MTFxaFWrVogfsy7mE47mp6OjIwMtGmTgJp8vc7BgwfxwgsvYsuWLfjiiy/Qt29fuFwufPnFF9D5upHiYSqObMZfF7GosU6s8bbccsnc4dvzeJo7HOyLprH1KQK5biX4R6uEmZzsbBzYfwD1GzRAnbp12JQNx4gDX/8CKMjPL8DJkyfQsGFDlma6XO7EuN/VzwVTRBSuoeq6jiZNmmDUqFEIDw/H0aNHMXbsWHz44YfIzs42evTir8fjMUZHyiKgZaE0d0ryS+H/id4aSadtnjhxAh8uWhQQj5IoLCzE7xs3ommTJoiIiOAjCKWHT4a4oiE+Iq1EAyeeicVaAtFoywpTWf31KwoKCgoKMHHSRKxYsQJdu3bFrFmzULduXXg8Xtbj5sP1JUIwjkt3OB1IS03DihUrcPz48QC/RJhjYmLQvXt3HD9+HKmpqYFO8eF8EZfQ0FBjREIM3SqKAq/mQ4f2HTBwwACcOH4C333/HaucFTZHK6Zv9u/fj99+W48aNa7BHXfcgdDQEGiaDpfLhYiIcCxatAj//e8q7Nq1C5mZmThy5Ai7N6YgHwTA5XTC6XKC4A+XXHmJOFWvVg19+vTBX3/twM5dO424GOb5PTUAcOL4Cfy1/S9ERkahWnxVw6zT6URubi7eeustFBQUYMKECWjXrh00TUNmZiYGDBiAnJwcuN1utG/f3tg6WbZ8Z42nkBcidoqxf/SmtEwWBPol8guQK335Gnf20L8uwC/zRGy6hvgaibP5edi0cSNq166Nzl14b1IBUIayWFFYJaW/vWFxiY2NRUREBFRFkRYRs1GmIUOHolat2ti/fz9OnjwJVVX54kwNOrHRu59/Xgu3243bb78dNWvVgo8f7V67dm3s2rULK7/9Fjk5uYiIiIDX40F2Tg50Xi+IOkbjCz+FjAkUhSlviYlt4XK5sGHDesCYSmb5rmkaHA4VLVsypckvE6zecTocOHUqCytWLAcANG3aBNHR0XC73ViyZIlRJmvVqoXmzZvj8OEkNGrU2GgfyiaPCJA5VVXg8/ng9frLrjBTav0jlTWBwqcVxUm+YurW5/OVeOKw3DYAQHJSMrJzsnFjt26Ii4sDgSlMkOpRpsGw0du9e/fg5MkMdOrUCZViKwdMI5MkQ1c7F7TEikrX5/Nh8ODBeOaZZxAaGor9+/fjsccew9///ndMmTLFuKxt3LhxWLZsmZGpZRdQv2CZ7Zh/myntPbgwiKFSJvzsXo4FCxZg2rTpOCUvOOQIV4X7TqcTmZmZOHH8ODpdd51hTjS44ntpiDgKZUPjq8RPnDiB9PR0Y5RF572N06dPIy0tDdnZ2fDxFeiQ/JIVEyuEYqPrurHj6Z133kGTJk0wY8YMtGzZEkRkjHCZh0aLwYfOhbuapuOdd9/Fk08+iYMHDwYYVaTFiz179kRoaChWr15tpIGus7tNNE1DYWEBsrOzsWPHDnb5GYCDBw/h6JEjOHv2LEjXER4ejqeeegodO3XCfH4vB3jeuFwupB9Nx+uvT0dubi7Gjh2L6667zrhHJSTEhWHDhiM1LQ2DBg1G3759ceutfdCrVy/ccsstuK3vbbjnnnuwePESY4RD5A14volKl/jZMH369EHlmMr45Zd17LlobDUdmsZW/ANASnIyjh9LR35eHjb/+SdLG1VFdnY2pk+fjm3btmHcuHEYMWKEkVe33HIL2rRpgxUrVqBbt27G2it5vr50mBx53Ow8i9sHDGC9PPBepNm4BXLx0nljqOs6CgoKcPbMWeTm5mLv3r3sagDVgQMHDyAtLQ1nzpwx1pYJuRVx03UdChSkpqRi546d6NKlC+rVrw+I8uT38oKi8HQwI87j8Pl8cHu8OHjoEPLz85FfUICDBw/CXeSB2+2G1+tDhw4dMHr0aKSnp2Py5CnIyjptrK9yOFSsW7cOn3zyKbp27YqHH3qYKWwKoPl86NevHxwOJ+65527ceuut6NevH/r3749BAwdi5MiReOmll7Bp0yY2Uil1YFgj569jiQgtW7bATTfdhDVr1yItLc1QUNhICKujbrzxRrRu3Qbpx9Jx6OBBqCq7byb92DFMnjwJ33z9DVRVRY0abE3XsmXL8Mcff+DRRx9F+/btcdddd2HNmjVwOFTceuutgDjXRpxnU0Lv31xPOhwOtGnTOmAkrKyIOAsUhV2k6fF64fF4cOpUFo4fZzv0Tp8+jQMH9sPtLuIfNqULI//9U3W6ruPblSsRFRmFXj17QhWjPZKQ6NxvVVXh9fnwy7pf4XI60fNmdlaQw+kA+BTR/9T0jHk/b0Wi83MmxDHZZ86coVdeeYWaNm1KkZGRXC8EORwOqlatGvXq1YvWrl1r7Kc39ueXkWBmgz0n057rktD5aZHiNLv169dTvXr1KDwsjFbycyWCIdz++eef6cEHH6T09PSAd6X5LSOnqdvtpry8PJo/fz716dOHunfvTq+++iqdOXOGNE2jpUuX0pAhQ6hHjx40YMAA+vbbb42TboWfVn7LaSJO8fP5fDRv3jwKDQ2l6OhoWryYHcUdcO6IZn00vryFXtN08np9pPEzJlJSUqlNmzbUpk0CHTt2TLLD3BL+5+bm0n333UetW7c20s/jYcddExFt27aN7r77bmrVqhVVqlSJIiMiqGp8PN3YtSvNmjmT8gvyyav5yO310NZtW2nYnXdS40aN6Llnn6UP3v+A5s+fT7feeis1bdqM3nvvPTp79ix5PF7yeLxUWFhEuk70y6+/UevWbahTp+vo1lv70K233ko9e/akHj16UMOGDUlVVQJAffr0oZ07dxpnx7A0Yec4iHh5PB7Ky8uj++67j9q1b08nT54kTdOoqKjIOIdD/H2RHwHdrFkzatu2LU2cOJEWLlxIffr0obZt29LHH39snGdRUMBOiyUi2rRpE3Xp0oXWr19PZ8+epaysLCP/S0Pkv8fjpYKCQnK7PVTkLuJnmvI8Lt2ZAESccnJyaMKECdS3b1+65ZZbqGbNmuRwOMjhdFJ0dDQlJiZS//79afz48ZSRkWGkl5AFcd7LrFmzqFq1avQffky+kMOLgSzTZjSfRh63h77++hv6+9/vpPr1G/B6zkmNGzeh4cNH0IoV/2FH/2s6nT6dTTNnzqT69RtQ//796aOPPqJVq76jN954g6699lrq27cvbd26lXxeLxUVFpGXH3+/Z/8+uu6G6yksLIwSEhLo2rZtKSEhgVq1akVRUVEEgKpXr05Tp06lnJwcfoQ5TyOp/Iv0/Pzzz6ly5cr04YcfEvHzNzSNX0/AT49dsuQjqhJXhW7ucTN99dVyWrDwfbrjjr/TE088SaNH/5NcLhcNGjSI3nvvPerSpQstWLCAiNcTGRkZ1LdvX3rppZdI13U6ffo0P2uIn6bNz80oTT6FbGZlZVF2dnbAmVOl2ZWRzW7atIkeffRRGjlyJHXp0oUiIiIIAKmqSs2bN6fhI4bTo//3KG3evNmwK380TaOkpCRq06YN3XXXXbz+8Muq2TwRUVJyMiUkJtA9I++h/Lx8dv4Mrxf9J+WUDdndK5ELeumd6AGK7wq/wC01NRWHDh3Czp07UVBQgDp16iAhIQH16tVD9erVjSFENjxYvhGDC4Wu63C73QgJCUFBQQEeeOABfPnll9B1HePHj8eUKVMArm2LcBJ7YPyePn06srOzMXXqVNnpciN6hoqi4PXXXzcWqC1ZsgRff/01Fi1ahCNHjuCrr77Cww8/jPj4eIwZMwYA8PXXXxvbP4MheuLyyMrq1avxwAP34+TJDMyYMQMPP/wQ31UidlywEaMS84iv9iciOJ0O+HwaXnrpJUyd+gqGDBmCDz/8EJERkQFDnTrvXYaGhmLTpk0YOXIknnnmGTz66KMBZ5VkZWXhr7/+AvG1HrquQ1UUFBYWomq1akhISIDT5YTX50NEWDjy8/KwceMm/PjTj8jIYOeCJCQkonfv3mjevBl8Pv/QtqZpWLZsGV6fPh0PP/IIBg0ahPCwMJYHfMfF8ePHcezYMaxYsQKzZ89Gnz598MEHH6Bq1arQ+a3ERjIQwe3xIMTlwoYNG3Dvvfdi1KhRGD16NBvRgn+4weP24P7778Onn32Gt956CwmJifjyiy+QlZWFxMREDBw4EI0bN2Y9S97bEtMa06ZNw5o1a7B48WL8+OOPaNGiRcCJxqVB5F8TQqSzXTGKAkUtz6iKH1EfeL1erF+/HkeOHEFoaKhx6STxaRePxwOvx4O4uDh0vuEGRPIdDELGnE4njh45ggEDBqJdu3aYPWc2wiPCL5v+o6axkZ89e/bgr7/+YqOF/FRMn8+H/Px8tG/XDgmJiYacOxwqtm7dhu+++w67d++GpmmIjIhAt27d0KdvH8THx8PHRzZCw8Lw2/rf8M8xY9CiRQvcf+99aNSwEVSHCl3T4PF4ceToERw8eBBLlizBht9/x4zXX8eoUaOgmBa4i/IFADk5OXjwwQcAKPjoo48QFhYGp9Np1MXER4SXL1+BDz/8EC6XCy1atEC3bt3QrdtNUBTgzTffxG+//YqGDRti0KBBuP7666EoCkJDQ7F27VqMGTMG77zzDpxOJ7Kzs3HjjTfCKS3Yt5LLYPUKgY0esi3GCjvF2MKcFcRHNMDTYPfu3fjxxx/h8XgQGhpi3FYuztHR+WhS79690aJFCyPfxF9VVTF37ly89uqrWLBwIXr06MFON1bZZZLygmHBe++9h3//eyqWfvwxunbpCp/HA1V1QHGwUa+yTsyIMCBI+l0RmDWTikSXTszT+D0CpZ1sKMzL9i4HTc8nXUS2ZMkS6tChA7308ktUrVo16tGjB2VkZBjmDM1XCntGRgbdc8899Pnnn5tcDk6weIt0+fXXX6lz58703//+l4iIJk+eTKqqUosWLaht27bGCaC6rtOdd95JoaGh9N1335lcC0TkmehhExH9+uuvlJCQQABo1KhRxkmGwcJXFrKyTtOUKa9Q5cqVSVFUeuMNdgKkznvaIg1FWMTowAsvvEBdu3Y1RkWKiorKdK+Jx+slj49dvCV6KcR70YWFhVRU5L9sSowaeL0+8np9lJZ2hBITEqlfv/7k8ZR8yWJ+fj4NHz6cqlevTrt27bKUeV3XySv1ll588UVq164du0hPjPTwHt7evXupRfMWFBMTQ2vWrDHeyyen+nw+8vH8Ev7puk6PP/449e7dm5YuXUrvvfce5ebmGnbKAksD/yiEpvkCLw8rI7KcWKVHSQjzQh7FCNiCBQuodevWtGPHDiKeBpcDus5G/Xw+LeiICRlpK/LLb1bnd0tlZZ2mggJ2qq/m08jn5XKr61SQn08PPvggNWzciA5ymQnGrl27qEmTJtSpUydKS0srVk5EGRPp98MPP1CrVq3oiy++YP4adbF0J5dPo7y8PMrOzjbKjdcr6mudcnPPUIE4IZSPZhERffXVV9S9e3davXo1vfXWW7R//35DxkpClh/xnd3XwsIj6oayIuoW48NHcgPN8FFe0wiN2+PmoxX++8qIn5bdo0cPmjBhAmm83veZwqbzkRMiorS0NLrxxhvpmWeeYfWXKMNeL2s3DB/LhojLlUopE/rnh9C+5Y/CR0VkLQ5Sb0nMY8vmS9LyRC+wvJTXjjB/8OBBzJ8/H8OHD8eTTzyJ2rVrY+/evTgpncqq67ox3y/CnpSUhNzcXLRq1cowVxJmjdv8rrCwEIsWLUK7du1w6623wufzITMzE7qu4+DBg/jHP/6B2267DR6PB4WFhSgoKIDOd3/I7lgh0tThcCA1NQXjx4/Djh070LVrVzz66CPIy8tDRkYGMjMzkZmZiYyMjIBPZmYmsrKykJOTg7yzecjJycXJkxk4duwY0tPT8cMPP+CBBx7ApEmTkJubi9DQUNStW9cfAL7AlMkPkwdxQNGjjz6KiIgIzJkzBx6vBy6Xy+itiZEcOe3Ed6fDAafDAYfK/hpeKQrCwsIQyk80FCNAzG82F52bm4sjR4+iTZs2bG7X62UHNen+WW2xJT0iIgLt2rWDw+GApvn4ivziu5RU6YC7xx57DNfUqIG5c+f61/jwXVbHjh1DaloqmjRpghZ8h4XD4UB4eHhAPrFD2vw7iXRdx4gRI9C6dWucOHEC/fv3R2RkZMBW4dJQ+Fw8W6/ggKo62OI80nmfsmzI8RdhRJCya6wXkMyL+kDhiz23b9+Oj5Z8hGeeeQZt2rQxRgjNbl1shPdMbqTtvRbBYmmrsl6vlB6KoiAyMhJxcbEIDw9jaQR+yJaqAoqCnNxc7Ny5E3Vq1zF2x2iaBs3nYx9pbVL9+vWRmJiI7Oxs4+4l7pnxVaQxEaHHzT3Qv39/zJo1G+np6VyO+doSAhSFHeIWGRmJmJgYo9w4HCqIWNwrVYpGeAQ/00VhW8wBIDExER07dsQvv/yCNm3aGFt85dFCK0T6BH5XjC29styXBYXXLcaHL1T1yyMZC7WNOoV/QlwhrHzxu3dUPpLz1ltvAQAeeeQR/szf9hEfBRT54vF68eqrryIqOhrPPf88QkJC2DlPfNSs1HV2Foi4XLGYNZMLTUVrbRdFE9R1o8d56NAhWrxkCZ0+fZrcbjc9/vjjBICWLFlCJI3oGL0HrgEvXLiQHnroIXK73QFhLinsZs1dfrZjxw4aOHAgrVu3joiITp48STfffDMBoO7du9OxY8cM/w8fPkwJCQkUGxtLv//+e4l+aHz9ia7rlJ2dTQ888AApikIOh4MaN25MN97YlRISEighoY1xO2lCQgK1bduW2rVrR+3ated/21Gnjp3ob3/rTt263UTt2rWn1q3bUMuWLalKlSoEPv8KgBrUb2DMvQbHf0Pzli1baODAgfTOO+8YvXXRU6YKlAnRSzx69CiPZyIdO3acyLg3g/V2fHy0jIjoZMZJ6ty5M3Xt2pWysrJIl26ClhFpLZ7v3LmTBg4cSPPmzSOPx2PcdPr6668TALrjjjuooKCA9FJ6kCL/xKewsNCIhzyydO6Ud/baT1nzxMqcSMd9+/bRwIEDadKkSewmUr5+ySqNLwnFg25JgLFS7JjLaF5eHt11991Uu05t2rad3WLudrupqKiICgsLyc1HCYmIjqanU5uEBBo5ciSdOXPG7HBAWuv8htzjJ47Tww8/TI888iidPMnX6Lg95PWWvGYv2CuRd0REZ87kUmZmppFfJblXNgLrx4pC06R7f6TnIi5ihM7j8dDMmTPplltuod9++43Fy+eXQ1FefXyUsrCggBYsWEA33XQT/fobu01cpM3/MpedIhLsfbDnFwUu6HIlLi4wmzt3LgGgsWPHGoumZEVEfH/6mWeM6+O90oLR0uKlSw2WMK9pGp08eZL+/PNPY7h906ZNFB8fT1FRUfTJJ58Q8WkLIqKlS5dSSEgIdenSxZjSkP2Xw6DrOvl8XsrLO0sTJkwgVVVJVVVyuVyG4lARH4fDYbh30003GVNbcjj4N+OZjy/GJL449YUJL9DRI0eNiqG0tCQpPYMh3PDnNzP/wQcfULWq1ej++x+gvXv3FVMGdF2nPXv20IMPPkh169alL7/60nBDVEJm8ywcfsVi48aNNHbsWNq3bx8lJSXRmjVrqEOHDgSAhg4dSjt37qRTp04FVOBmd4WsiIXMQh6LioqoqKjIWNR3bugB+XEumOVNfi5/tzLj8XiMiy3FZYRer5d8fFrAys6VSEnxEHn366+/UtNmzahPnz70119/GYqwzNGjR+mpp56ihIQEowNilfc6V0BEfeX1euno0aP02KjH6ItlXxARUWFhYYnhIiK+gLe4GXNdqOtsykKe5rOyVxpCTs7FrhkrN4zLByWZF3ERZXDjxo00YsQIWr9+PemiEyelsS7VAUREmzdvppEjRwZceOrz+Vji/Q9zQRerCsSQ4/kggnm+7pwPxIe8RRhUVcVvv/2Gfv37o3WrVvjkk09Qo0YN/5Af2CmZR48exejRozF69Ghcf/310PiwuzkupcVRfi/S1Ov1wuFw4N1338Xjjz+Ov/3tb/j888+Ng7gURcGTTz6Jd999Fy+88AImTpwITbosDaY7fXR+j8y2bdswePBgpKSwuy0uJEOGDMHixYsRGhpm3MdiBUkHw6mqioLCAjhUh3FiaLB0QxlkUC4Gwpx/6oUNra5atQozZ86Epum49tprUbt2LTgcDhQUFCAjIwO7du1CVFQUnn32WXTu3Bkwn5FBsNzzKqYWXC4X3G43VqxYgfnz5+PkyZPGVuCI8HDUqFEDTzz5JIYPH15ifIScirwUz4R5xbRg8UJhFcZgMh5QDSnsAC6zGa/Xi+zsbMRUjkFIKBsiN+Bpa7ZzsWDTFuanFYOcjiRt/1y7di3+/e9/48yZM+jevTtq1a6N8PAweL1enMo8hfXr18PhcGDcuHG44YYb4PP5AuXR5AcAYwGows8MKiwsRGxsLBT5fh4LmPXiecbe+afgxHsxBXoumN06X8xl30puZcR7IsLx48fh8Xike5wC61NhXvzNzMxEkduN2rVqsfLJp7rYlt3/XS6aIoLzFJyKcKMiEOEQBen4iRMYMmQI9uzZg6+++go3desGTdP4hWiswlj5zUp8/sUyzHzjDVSuXNko1GbKE0fRyIgG5/HHH8fcuXMxefJkTJgwwah0Dh06hL59++LMmTNYsWIFbrjhBng8bG2FmP+UwyLc3bFjByZNmoTk5CSIeWxRAIV5UaHJu1fE3DSrmNlRyZGRkQgNDcXZs2fhdrsNe7pO8Hg8eO755zDszmFGRVaW+JeX0iqX0tA0DQ6HAxkZGdi3bz+2bt2CrKwsKIoKTdMQH18F119/PZo3b47Y2FhD2ZPjYxUGgv+SPTLW5aQiIyMDISEhCAkJgc7P3ygsLETNmjVRu3btUtPJyi9BSe8uNOWR8bIgV18KuBJzFRIQT94BAYBTmZnYtn071q9fj+zsbISEhkDzaYiJiUGnTp3QsWNH1KhRwyjrIt1LS39ZRnRNN26wDsa5yFRFy8K5UiHh4Du+UB53DAum5/+DXHBFpEIy+TKEXZLEGqgJE8Zj+rTp+Pe//42xY8eyQs9aYqiKgimvvAJFUTB+/HhjMaJZEQnIhjJox2K0Q+G3eA4ePBjJycn47LPPcPPNNxvvP/zwQ9x3330YNGgQli5dCpfLBYDg87GGFaZrynVxqJauIz8/39DyIeelKt2CSf5jq+USJd/sK/5qpvuEwP2Ljo42ehEOp9NwxSw75srO/PtCQdI2VqezuAJpRtc1YyGdHAer8BLvLcrpb5YNM2Z3zL/FM0j+knSR3qXGKrzng+xeRbt9uSDyU3wXioWqsMv85HfmvBbmHdJx6mVNowuVniKcSikKtUx5w15WzieOVnatngnEu5LMoBQ3rkYuWc0kBPFKhIwKng2nt2rVGiGhodi7dy/bO85PpFRVFRmZmdi2bRsSEtoAfBSh1AahlHQRaSfSLyUlBYcOHULr1q2NXTkKP0Pjl19+AQDcdNNNCA8Ph9PpxPffr8bSpUuL9ZIgjXIoClCpUiXEx8cbn6pVq6Jq1aqIi41DTEwMKleujNiYGON51arxqFatKqpVq4r4+HjExcXxi+MqIyoqCrGxsYiLi0NcXByqVKli/DXOEVD8t2yKcJVUGIO9q2jZUvgOB3HcNfEpIvnETyKC5tPg8XhYPKTKRA6nVbhExSTMi6kaGZJOZjXH2/xbPBPPlYs0FVNWRLjMcmzG6rmVeXP8rcxcKfjTJPC5WY6MNASTF3ZSKzvCX4ygie+QRj0Vi/QqifKYBa+6zGG3Qshkedwvj9myYlWeyoOVXatnYrxEfhdMTsUzq3dXK5dP7XQFoQB8WI0JVdu2bVGjRnVs2bIFmZmZxiFXAHD40CGoiorWrZkiYq5QBFbPrBDCKRolANi0aRNyc3Nxww03oEqVKsZoyKlTp7B3715EREQgMTERAJCZmYlPPvkEXq8XoaGhfOsc8aLiLyyiR8/89B9XLjeGQqkyFy4zijR3T7xBFQ24rvsv5iotDUp7b8YqLOeDQ9pGqvItj+IZAKgOlSlVpht9BVbPBOKdnK5W769GyhuvksyLd8FNXBkEi6IcdyaDTFacTidU/l3IpZClgPQK5vD/KMFlyVpJOFdKH+P2Y8hw0LBdfVwyReRKr1iJl2lN11C7dm00bdoMScnJ2L9/PyAJ0YEDB9GgYQPUq1fPaMCDacJlSQ/ZvqZpKCwsxO7du+FwONCmTZuAtR9JSUk4fPgwEhISjD37CxYsgNPpxPDhw6HrQrHgvRj2HxQ+AqDw3jk7D8PfSIpKzhwuAXEH5TgqChvtEL00RZGmhEQALEYQSsIqDSHLVglpXV5E3EX6i2dyWIWZ8iDckN0qa/yvdMzpZ8bqndUzMyLvr0RKSxMIOVP8yqrCp3od/MRbszxdTC500l+MOLE6w/y0ZMpbx5SWR8GeX62Ur9Y8B67WBGUFjk3BVImLQ8eOHVFYUIAdO3YYZgoKCrB121a0atUqoIESaRJMeEtLM4U3eCEhIUhJScFPP/2EuLg4Y9RD4QpEzZo1UatWLfh8Ppw5cwYff/wxfvnlFzz88EOoXLkyvF7/rbWsUKjwH7Dkb8QLCgqQlZUFTfObtyKgcFnEkXgvjh2Q5URBQQHcbjeUMsyZngsV65qooOT4+xW3igp7Se5UpD82Vy6Kwg7hMiNkU8hpcXktO+dq71w4H7/OJ44ViV0uz48LrojgKswk3nTzHYMsbl26dEFUVBQ2bdqE/Px8qA4HUpKTkZ6ejnbXtjO5EJxgaWUubMKc1+tFly5dcO+996JOnTrGegVd11G3bl3861//gtvtxmOPPYYvv/wSY8aMQefOXYwTVs3umnE4HPj0009x3333ITk5xVAaSrIn3pkbTiLC6dOnsWXLn1i8eDGeeeYZbNmyJWAYuTwESysZcxjOD7+ixdwUH5sLSUmyZuPHSs6tnpWFc7V3LlxMv8rD5Rquq5Hy1fz/a5B/ysDYaiWec0EVjWeL5s3RsGFDbN68GUfSjgAAdu3ahciISNStW8ewI6iIBlLTNDRr1gwLFizApEmTEBkZCUg7alwuF4YMGYKlS5di7NixmDVrNm6++WZofCuqvL5BIKZOhDKjaRqio6NRo0YNOBzsAizxEWs8zB/2njUg8sJLVVWRkpKC1at/wKZNm/Dtt9/i9OnTQLFCX7Kic6k4z+yyOQ8uR3m4HBHlqCLqF0FpHY9LSUXGU3Ah3LQpGVsRKTPF1z2o4nwNANfUrIkbOndGSkoydu7aCQDYtm0bOnRoj+hKleDj50pUBKKgiOkZcU6Hyhc5ulwuQ8lQVRVt2rRB7969UadObUNJcTqdxh0iIlyiwtGlVfeKomDYsGGYPXs2atWqCZ90M7Lsh/mjSHesCLd8Ph9atGiBJ558AneNGIHq1asjIiLCiJNAJLF/Z/6l4lL7b2NzblwIxeFCuHklcjkrZlcqtiJSErLioCiQh+EVeQoCQFhYGBLatIGm6UhNTUVOTg4OH05Cy5Yti406lFeIg5kXz0XBEEoElbDoU+EL3czvhF1IZ1lomoZDhw4jPT0doaGhXLFg5n/55RfMmjULs2fPNj5z5szGm2++iTlz5mDmzJl45513sH//fqj84DVFURAaFoaoyCjoXEHxuN0B4ZApz0rzC8Ol9t9GYJbX/1WC1QU2F49gdavNuWMrIqXBuvb8u0kIJWFUACQkJKBSpUr49ZdfsHbNGmi6hqbNmkHjx5IbZitAiOVwGAqRhbvmZwoUy/ZVMbaNOtjR9KqKdevWYcaM1zF69Gj88ccf/KZbZvns2bNIS0tDWloaUlNTkZKSguTkZBw+fBgHDx7EoUOHkJySDLfbHXBgmjytxXbJsHQpVsFaxOVKpFi8bMqNWYb/lylrWpTVXFkQVWBFumljI3PBT1a92hGJpwA4fuI4Bg9i97N06tQJHTp0wHPPPRewr788yFlTXrsyYoQk8FnJbf2WLVvx3Xff4eabe2DMmDF48MEHce+998Lr9QEgfkJr2RCjNABLKIfqwG+//orHHn8c016bht639obm88FRynXgVyKlpbONTUVSUqfExuZyxR4ROQ/4xAhABJ0I1atVR5s2bXDixAn88ssvaNeuHUJDQ41pk/IiRj3KU6kE88f8nA9ISNM5whz7W1hYiJtuugl5eXnIy8tDs2bN+HsWl4MHD+KHH37AmjVrsHbtWqxfvx6bN2/Gpk2b8Mcff2Dr1q3Ytm0bTmWdYkfCS+tHRAC8Xi+KigoNd8XUkBXm8F8plCPrbGzOm/LWFzY2lwP2iMh5IBQR+Uj3+fPn45FHHkFiYiKWL1+O+vXrw+Px+I8xv6Cw3SooR4+IKSM6P0mVKwSazhbXqgqeefoZeDxuvPnmm8YFbLqu4z//+Q+++uorPjoSwqdtVADsXhaf5kNEeARGPTYKCW0SmJKhsLt3AGD9+vV48MEHMWXyZAwZOhSazwc1yKgRcUVEKUe8bGxsbGyuDGxF5DwgsJZckW6d3bJlC/r374/+/fvj7bffhsvlgqZp/Cj1C9uQytMf5VnoKU8f6DpbRBoS4sLOnbvw0EMPYezYsejZ82Z4PV5EV4qGoirwebwo5KMZ/kUnBHClTPwKDwtDeHi4MZKi8LUov/36Gx5++CG88sorGDR4cMANn8QDZLhKbP+MrYjY2NjYXH1c6C76VY3cUIKvhahbty4SEhKQkJBgTMuIxZqKdDz4hcCYyimHEgKL6QPR2G/dsgUxMTHo2LEDVq9ejeTkZOMuldCwMMTExPIPuwBPfBcX28XFxSE8PNzwRFH9SooIa2hoKPeVjcQY/ouzSMCVEnvI2cbGxuaqxFZEzgdJqRCNZOXKlTF48GAkJCQYz2Xl43JvTOUGX9N1hLhc+OOPP3DqVBbqN2hgmDFjfkZszsevHPFtw/kFBdi4aRNWrlyJEydOssPNft+I3NxcNjUUoKiwkR1FUvpsbGxsbK4u7KmZ80AkncLvnBGniGZnZyM6OhqRkZEgfrqoQ1zDbdGIX3gIRKxht0TMe3B0naCqCvbt24+5c+eidu1auOOOO1C3bl1omgZFUY1tvMVhIxlyPMWUDAAcOXIEX3/9Nc6eOcOVDRXR0dG4rW9f1K1fD6TrUC74WhobGxsbm8sFWxGpQAK3qSpw8AZVbogvV3SdhVtV+V0yOluXUVhYAIfDgbCwMGNaxeFwiJW6pQ5VyOKl6Rob4QhyrwwbRWFuKorCT1Yt70STjY2Njc2VhK2IVDAiOYXyEUwBkUdTLgck/Yn91tmWZAdfQGplpqz4lTM++sJRFIWNgCiBd4ebBmhsbGxsbK5ibEXkAiEnq5WycbkpIiUiFo2eY3iDDp5wd8/FTRsbGxubqwNbEblAEN+uajUFcbkTbOQjmPIU7Hm5COapjY2Njc1Vja2IVDBlGQmxen5JMc+FBB3CsKa0ONvY2NjY2ATjyuuuX8bIIwNXVINsDqrif1YRaiqJDz+YzMbGxsbGRmCPiFQQFTI9YWNjY2Nj8z+GPSJyEbB1PRsbGxsbG2tsRaSCsEdCbGxsbGxsyo89NWNjY2NjY2NzybBHRGxsbGxsbGwuGbYiYmNjY2NjY3PJsBURGxsbGxsbm0uGrYjY2NjY2NjYXDJsRcTGxsbGxsbmkmErIjY2NjY2NjaXDFsRsalwiKhizoa3sbGxsbnqsRURGxsbGxsbm0uGfaCZjY2NjY2NzSXj/wHg4gY1738/sgAAAABJRU5ErkJggg==)"
      ]
    },
    {
      "cell_type": "code",
      "execution_count": 19,
      "metadata": {
        "id": "32hsaflxQjVM"
      },
      "outputs": [],
      "source": [
        "# 별도의 RMSLE를 구하는 함수 rmsle(y, y_pred)로 생성\n",
        "# 원본 데이터의 price 칼럼의 값은 왜곡된 데이터 분포를 가지므로 이를 정규분포 형태로 유도하는 것 필요.\n",
        "# 학습에 예측된 price 값은 다시 로그의 역변환인 지수 변환을 수행해 원복 (evaluate_org_price(y_test, preds)함수 생성)\n",
        "\n",
        "def rmsle(y, y_pred):\n",
        "  # underflow, overflow를 막기 위해 log가 아닌 log1p로 rmsle 계산\n",
        "  return np.sqrt(np.mean(np.power(np.log1p(y) - np.log1p(y_pred), 2)))\n",
        "\n",
        "def evaluate_org_price(y_test, preds):\n",
        "\n",
        "  # 원본 데이터는 log1p로 변환되었으므로 exmpm1로 원복 필요.\n",
        "  preds_exmpm = np.expm1(preds)\n",
        "  y_test_exmpm = np.expm1(y_test)\n",
        "\n",
        "  # rmlse로 RMSLE 값 추출\n",
        "  rmsle_result = rmsle(y_test_exmpm, preds_exmpm)\n",
        "  return rmsle_result\n"
      ]
    },
    {
      "cell_type": "code",
      "execution_count": 20,
      "metadata": {
        "id": "h2J3_npwRB2A"
      },
      "outputs": [],
      "source": [
        "# 학습 데이터를 생성하고 모델을 학습/예측하는 로직을 별도의 함수로 만들기\n",
        "# model_train_prdict() 함수 이용\n",
        "import gc\n",
        "from scipy.sparse import hstack\n",
        "\n",
        "def model_train_predict(model, matrix_list):\n",
        "  # scipy.sparse 모듈의 hstack을 이용해 희소 행렬 결합\n",
        "  X = hstack(matrix_list).tocsr()\n",
        "\n",
        "  X_train, X_test, y_train, y_test = train_test_split(X, mercari_df['price'], test_size=0.2, random_state=156)\n",
        "\n",
        "  # 모델 학습 및 예측\n",
        "  model.fit(X_train, y_train)\n",
        "  preds = model.predict(X_test)\n",
        "\n",
        "  del X, X_train, X_test, y_train\n",
        "  gc.collect()\n",
        "\n",
        "  return preds, y_test"
      ]
    },
    {
      "cell_type": "code",
      "execution_count": 21,
      "metadata": {
        "colab": {
          "base_uri": "https://localhost:8080/"
        },
        "id": "39gxhpuQUnsB",
        "outputId": "e8466e0d-0c0e-41e0-feaf-a127be17cca7"
      },
      "outputs": [
        {
          "output_type": "stream",
          "name": "stdout",
          "text": [
            "Item Description을 제외했을 때 rmsle 값: 0.4680432471796771\n",
            "Item Description을 포함했을 때 rmsle 값: 0.4680432471796771\n"
          ]
        }
      ],
      "source": [
        "# 먼저 Ridge를 이용해 Mercari Price의 회귀 에측을 수행\n",
        "# Item_description 속성의 피처 벡터화 데이터가 포함되었을 때와 포함되지 않을 떄 예측 성능 비교\n",
        "linear_model = Ridge(solver='lsqr', fit_intercept=False)\n",
        "\n",
        "sparse_matrix_list = (X_desc, X_name, X_brand, X_item_cond_id, \\\n",
        "                   X_shipping, X_cat_dae, X_cat_jung, X_cat_so)\n",
        "\n",
        "linear_preds, y_test = model_train_predict(model=linear_model, matrix_list=sparse_matrix_list)\n",
        "print('Item Description을 제외했을 때 rmsle 값:', evaluate_org_price(y_test, linear_preds))\n",
        "\n",
        "sparse_matrix_list = (X_desc, X_name, X_brand, X_item_cond_id, \\\n",
        "                      X_shipping, X_cat_dae, X_cat_jung, X_cat_so)\n",
        "\n",
        "linear_preds, y_test = model_train_predict(model=linear_model, matrix_list=sparse_matrix_list)\n",
        "print('Item Description을 포함했을 때 rmsle 값:', evaluate_org_price(y_test, linear_preds))"
      ]
    },
    {
      "cell_type": "markdown",
      "metadata": {
        "id": "ojcrNWv0V-HH"
      },
      "source": [
        "## LightGBM 회귀 모델 구축과 앙상블을 이용한 최종 에측 평가\n",
        "\n",
        "- LightGBM을 이용해 회귀를 수행한 뒤, 위에서 구한 릿지 모델 에측값과 LightGBM 모델 예측값을 간단한 앙상블 방식으로 섞어서 최종 회귀 예측값 평가"
      ]
    },
    {
      "cell_type": "code",
      "execution_count": 22,
      "metadata": {
        "id": "XVe5_PwhUoA7",
        "colab": {
          "base_uri": "https://localhost:8080/"
        },
        "outputId": "04763f95-7e97-460e-8bea-fea6390da0c2"
      },
      "outputs": [
        {
          "output_type": "stream",
          "name": "stderr",
          "text": [
            "/usr/local/lib/python3.11/dist-packages/sklearn/utils/deprecation.py:151: FutureWarning: 'force_all_finite' was renamed to 'ensure_all_finite' in 1.6 and will be removed in 1.8.\n",
            "  warnings.warn(\n",
            "/usr/local/lib/python3.11/dist-packages/sklearn/utils/deprecation.py:151: FutureWarning: 'force_all_finite' was renamed to 'ensure_all_finite' in 1.6 and will be removed in 1.8.\n",
            "  warnings.warn(\n"
          ]
        },
        {
          "output_type": "stream",
          "name": "stdout",
          "text": [
            "LightGBM을 이용한 rmsle 값: 0.6176014620917475\n"
          ]
        }
      ],
      "source": [
        "# n_estimators를 200으로 작게 설정하고 예측 성능 측정\n",
        "# 너무 오래 걸리므로 n_estimator를 20으로 설정하고 force_row_wise=True 등 추가,  num_leaves=31, learning_rate=0.1  등 설정\n",
        "from lightgbm import LGBMRegressor\n",
        "sparse_matrix_list = (X_desc, X_name, X_brand, X_item_cond_id,\n",
        "                      X_shipping, X_cat_dae, X_cat_jung, X_cat_so)\n",
        "\n",
        "lgbm_model = LGBMRegressor(n_estimators=20, num_leaves=31,max_bin=63,subsample=0.7, colsample_bytree=0.7, min_data_in_leaf=100,learning_rate=0.1, random_state=156, force_row_wise=True, n_jobs=-1,verbosity=-1)  # 추가\n",
        "lgbm_preds, y_test = model_train_predict(model=lgbm_model, matrix_list=sparse_matrix_list)\n",
        "print('LightGBM을 이용한 rmsle 값:', evaluate_org_price(y_test, lgbm_preds))"
      ]
    },
    {
      "cell_type": "code",
      "execution_count": 23,
      "metadata": {
        "colab": {
          "base_uri": "https://localhost:8080/"
        },
        "id": "m4FO9GTqW9j9",
        "outputId": "b5d7ed2b-9ef5-4402-80d8-87d578b3df3f"
      },
      "outputs": [
        {
          "output_type": "stream",
          "name": "stdout",
          "text": [
            "LightGBM과 Ridge를 ensemble한 최종 rmsle 값: 0.49477023616835275\n"
          ]
        }
      ],
      "source": [
        "# Ridge 예측 데이터 세트인 linear_preds에 일괄적으로 0.55를 곱하고, LightGBM 예측 데이터 세트인 lgbm_preds에 일괄적으로 0.45를 곱한 뒤 결과 데이터 세트로 예측 성능 결과 다시 측정\n",
        "preds = lgbm_preds * 0.45 + linear_preds*0.55\n",
        "print('LightGBM과 Ridge를 ensemble한 최종 rmsle 값:', evaluate_org_price(y_test, preds))"
      ]
    },
    {
      "cell_type": "markdown",
      "metadata": {
        "id": "QmK_x-hvYK8G"
      },
      "source": [
        "## 11. 정리\n",
        "- 텍스트 분석을 위한 기반 프로세스를 상세히 알아보고, 특스트 분류, 감성 분석, 토픽 모델링, 텍스트 군집화 및 유사도 측정 등을 직접 파이썬 코드로 구현\n",
        "- 머신러닝 기반의 텍스트 분석 프로세스\n",
        "1. 텍스트 사전 정제 작업 등의 텍스트 정규화 작업 수행\n",
        "2. 단어들을 피처 벡터화로 변환\n",
        "3. 피처 벡터 데이터 세트에 머신러닝 모델을 학습하고 예측, 평가\n",
        "\n",
        "- 텍스트 정규화 작업: 텍스트 클렌징 및 대소문자 변경, 단어 토큰화, 의미없는 단어 필터링, 어근 추출 등 피처 벡터화를 진행하기 이전에 수행하는 다양한 사전 작업\n",
        "- 피처 벡터화 방법: BOW의 Count 기반과 TF-IDF 기반 피처 벡터화\n",
        "- 텍스트 분류절: 문서들을 피처 벡터화한 후 로지스틱 회귀를 적용해 문서를 지도학습 방식으로 예측 분류\n",
        "  - 긍정/부정 이진 분류\n",
        "  - SentiWordNet, VADER와 같은 감정 사전 Lexicon을 이용한 방식\n",
        "  "
      ]
    }
  ],
  "metadata": {
    "colab": {
      "provenance": []
    },
    "kernelspec": {
      "display_name": "Python 3",
      "name": "python3"
    },
    "language_info": {
      "name": "python"
    }
  },
  "nbformat": 4,
  "nbformat_minor": 0
}