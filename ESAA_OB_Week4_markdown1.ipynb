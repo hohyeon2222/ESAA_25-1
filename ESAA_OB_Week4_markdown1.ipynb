{
  "nbformat": 4,
  "nbformat_minor": 0,
  "metadata": {
    "colab": {
      "provenance": []
    },
    "kernelspec": {
      "name": "python3",
      "display_name": "Python 3"
    },
    "language_info": {
      "name": "python"
    }
  },
  "cells": [
    {
      "cell_type": "markdown",
      "source": [
        "## 08 텍스트 분석\n",
        "- NLP: 머신이 인간의 언어를 이해하고 해석하는데 더 중점을 두고 발전, 예를 들어, 기계 번역, 질의응답 시스템\n",
        "- 텍스트 마이닝: 비정형 텍스트에서 의미 있는 정보를 추출하는 것에 좀 더 중점을 두고 기술이 발전, 예를 들어 머신러닝, 언어 이해, 통계 등을 활용해 모델을 수립하고 정보를 추출해 비즈니스 인텔리전스나 예측 분석 등의 분석 작업을 주로 수행.\n",
        "\n",
        "  - 텍스트 분류: text categorization으로 문서가 특정 분류 또는 카테고리에 속하는 것을 예측하는 기법, 지도학습 적용\n",
        "  - 감성분석: 텍스트에서 나타나는 감정/판단/믿음/의견/기분 등의 주관적인 요소를 분석하는 기법, 지도/비지도 학습 모두 적용\n",
        "  - 텍스트 요약: 텍스트 내에서 중요한 주제나 중심 사상을 추출하는 기법\n",
        "  - 텍스트 군집화와 유사도 측정: 비슷한 유형의 문서에 대해 군집화를 수행하는 기법\n",
        "\n",
        "\n",
        "## 텍스트 분석 이해\n",
        "- 머신러닝 알고리즘은 비정형 텍스트 데이터를 어떻게 피처 형태로 추출하고 추출된 피처에 의미 있는 값을 부여하는 가 하는 것이 매우 중요한 ㄴ요소\n",
        "\n",
        "- 텍스트 분석 수행 프로세스\n",
        "  1. 텍스트 사전 준비작업(텍스트 전처리): 텍스트를 피처로 만들기 전에 미리 클렌징, 대/소문자 변경, 특수문자 삭제 등의 클렌징 작업, 단어(word) 등의 토큰화 작업, 의미없는 단어(Stop word)제거 작업, 어근 추출(Stemming/Lemmalization) 등의 텍스트 정규화 작업을 수행하는 것을 통칭\n",
        "  2. 피처 벡터화/추출: 사전 준비 작업으로 가공된 텍스트에서 피처를 추출하고 여기에 벡터 값을 할당, 대표적으로 BOW와 Word2Vec이 있으며, BOW는 대표적으로 Count 기반과 TF-IDF 기반 벡터화가 있음\n",
        "  3. ML 모델 수립 및 학습/예측/평가: 피처 벡터화된 데이터 세트에 ML모델을 적용해 학습/예측 및 평가를 수행\n",
        "\n",
        "\n",
        "  ## 파이썬 기반의 NLP, 텍스트 분석 패키지\n",
        "    - NLTK(Natural Language Toolkit for Python): 파이썬의 가장 대표적인 NLP패키지로 방대한 데이터세트와 서브 모듈을 가지고 있음.\n",
        "    - Gensim: 토픽 모델링을 쉽게 구현하는 기능을 제공하여 Word2Vec 구현등의 신기술도 제공\n",
        "    - SpaCy: 뛰어난 수행 성능으로 주목받는 NLP패키지\n",
        "\n",
        "\n",
        "## 02 텍스트 사전 준비 작업(텍스트 전처리) - 텍스트 정규화\n",
        "\n",
        "1. 클렌징: 텍스트에서 분석에 방해가 되는 불필요한 문자, 기호 등을 사전에 제거\n",
        "ex) html, xml 태그나 특정 기호 등을 사전에 제거\n",
        "\n",
        "2. 텍스트 토큰화: 문서에서 문장을 분리하는 문장 토큰화와 문장에서 단어를 토큰으로 분리하는 단어 토큰화로 나눌 수 있음.\n",
        "\n",
        "  1) 문장 토큰화: 문장의 마침표(.), 개행문자(\\n) 등 문장의 마지막을 뜻하는 기호에 따라 분리"
      ],
      "metadata": {
        "id": "zR2eb-JuK0Cu"
      }
    },
    {
      "cell_type": "code",
      "source": [
        "# 현재 nltk 제거\n",
        "!pip uninstall nltk\n",
        "\n",
        "# nltk의 특정 버전 설치 (예: 3.5 버전)\n",
        "!pip install nltk==3.5"
      ],
      "metadata": {
        "colab": {
          "base_uri": "https://localhost:8080/"
        },
        "id": "XAI27Upy8TfW",
        "outputId": "056b9159-1436-4ca8-a1b0-8273925a1695"
      },
      "execution_count": null,
      "outputs": [
        {
          "output_type": "stream",
          "name": "stdout",
          "text": [
            "Found existing installation: nltk 3.5\n",
            "Uninstalling nltk-3.5:\n",
            "  Would remove:\n",
            "    /usr/local/bin/nltk\n",
            "    /usr/local/lib/python3.11/dist-packages/nltk-3.5.dist-info/*\n",
            "    /usr/local/lib/python3.11/dist-packages/nltk/*\n",
            "Proceed (Y/n)? y\n",
            "  Successfully uninstalled nltk-3.5\n",
            "Collecting nltk==3.5\n",
            "  Using cached nltk-3.5-py3-none-any.whl\n",
            "Requirement already satisfied: click in /usr/local/lib/python3.11/dist-packages (from nltk==3.5) (8.1.8)\n",
            "Requirement already satisfied: joblib in /usr/local/lib/python3.11/dist-packages (from nltk==3.5) (1.4.2)\n",
            "Requirement already satisfied: regex in /usr/local/lib/python3.11/dist-packages (from nltk==3.5) (2024.11.6)\n",
            "Requirement already satisfied: tqdm in /usr/local/lib/python3.11/dist-packages (from nltk==3.5) (4.67.1)\n",
            "Installing collected packages: nltk\n",
            "\u001b[31mERROR: pip's dependency resolver does not currently take into account all the packages that are installed. This behaviour is the source of the following dependency conflicts.\n",
            "textblob 0.19.0 requires nltk>=3.9, but you have nltk 3.5 which is incompatible.\u001b[0m\u001b[31m\n",
            "\u001b[0mSuccessfully installed nltk-3.5\n"
          ]
        }
      ]
    },
    {
      "cell_type": "code",
      "source": [
        "import nltk\n",
        "print(nltk.data.path)"
      ],
      "metadata": {
        "colab": {
          "base_uri": "https://localhost:8080/"
        },
        "id": "TQhszzap9hmP",
        "outputId": "5b694f28-f9e0-4f4e-df02-0d947a28518c"
      },
      "execution_count": null,
      "outputs": [
        {
          "output_type": "stream",
          "name": "stdout",
          "text": [
            "['/root/nltk_data', '/usr/nltk_data', '/usr/share/nltk_data', '/usr/lib/nltk_data', '/usr/share/nltk_data', '/usr/local/share/nltk_data', '/usr/lib/nltk_data', '/usr/local/lib/nltk_data', '/root/nltk_data']\n"
          ]
        }
      ]
    },
    {
      "cell_type": "code",
      "source": [
        "import nltk\n",
        "nltk.download('punkt', force=True, download_dir='/root/nltk_data')"
      ],
      "metadata": {
        "colab": {
          "base_uri": "https://localhost:8080/"
        },
        "id": "NVPBMiRO9nZI",
        "outputId": "2aec3a55-1e24-41c6-e726-7e5bbc141c36"
      },
      "execution_count": null,
      "outputs": [
        {
          "output_type": "stream",
          "name": "stderr",
          "text": [
            "[nltk_data] Downloading package punkt to /root/nltk_data...\n",
            "[nltk_data]   Unzipping tokenizers/punkt.zip.\n"
          ]
        },
        {
          "output_type": "execute_result",
          "data": {
            "text/plain": [
              "True"
            ]
          },
          "metadata": {},
          "execution_count": 10
        }
      ]
    },
    {
      "cell_type": "code",
      "source": [
        "!find /root/nltk_data/tokenizers/punkt -type f"
      ],
      "metadata": {
        "colab": {
          "base_uri": "https://localhost:8080/"
        },
        "id": "ZaNLVWGx9vvb",
        "outputId": "af2331cb-99f0-41fe-83ae-0987f3e277c6"
      },
      "execution_count": null,
      "outputs": [
        {
          "output_type": "stream",
          "name": "stdout",
          "text": [
            "/root/nltk_data/tokenizers/punkt/malayalam.pickle\n",
            "/root/nltk_data/tokenizers/punkt/swedish.pickle\n",
            "/root/nltk_data/tokenizers/punkt/czech.pickle\n",
            "/root/nltk_data/tokenizers/punkt/german.pickle\n",
            "/root/nltk_data/tokenizers/punkt/turkish.pickle\n",
            "/root/nltk_data/tokenizers/punkt/polish.pickle\n",
            "/root/nltk_data/tokenizers/punkt/russian.pickle\n",
            "/root/nltk_data/tokenizers/punkt/italian.pickle\n",
            "/root/nltk_data/tokenizers/punkt/english.pickle\n",
            "/root/nltk_data/tokenizers/punkt/README\n",
            "/root/nltk_data/tokenizers/punkt/portuguese.pickle\n",
            "/root/nltk_data/tokenizers/punkt/greek.pickle\n",
            "/root/nltk_data/tokenizers/punkt/spanish.pickle\n",
            "/root/nltk_data/tokenizers/punkt/dutch.pickle\n",
            "/root/nltk_data/tokenizers/punkt/.DS_Store\n",
            "/root/nltk_data/tokenizers/punkt/slovene.pickle\n",
            "/root/nltk_data/tokenizers/punkt/estonian.pickle\n",
            "/root/nltk_data/tokenizers/punkt/norwegian.pickle\n",
            "/root/nltk_data/tokenizers/punkt/finnish.pickle\n",
            "/root/nltk_data/tokenizers/punkt/PY3/malayalam.pickle\n",
            "/root/nltk_data/tokenizers/punkt/PY3/swedish.pickle\n",
            "/root/nltk_data/tokenizers/punkt/PY3/czech.pickle\n",
            "/root/nltk_data/tokenizers/punkt/PY3/german.pickle\n",
            "/root/nltk_data/tokenizers/punkt/PY3/turkish.pickle\n",
            "/root/nltk_data/tokenizers/punkt/PY3/polish.pickle\n",
            "/root/nltk_data/tokenizers/punkt/PY3/russian.pickle\n",
            "/root/nltk_data/tokenizers/punkt/PY3/italian.pickle\n",
            "/root/nltk_data/tokenizers/punkt/PY3/english.pickle\n",
            "/root/nltk_data/tokenizers/punkt/PY3/README\n",
            "/root/nltk_data/tokenizers/punkt/PY3/portuguese.pickle\n",
            "/root/nltk_data/tokenizers/punkt/PY3/greek.pickle\n",
            "/root/nltk_data/tokenizers/punkt/PY3/spanish.pickle\n",
            "/root/nltk_data/tokenizers/punkt/PY3/dutch.pickle\n",
            "/root/nltk_data/tokenizers/punkt/PY3/slovene.pickle\n",
            "/root/nltk_data/tokenizers/punkt/PY3/estonian.pickle\n",
            "/root/nltk_data/tokenizers/punkt/PY3/norwegian.pickle\n",
            "/root/nltk_data/tokenizers/punkt/PY3/finnish.pickle\n",
            "/root/nltk_data/tokenizers/punkt/PY3/danish.pickle\n",
            "/root/nltk_data/tokenizers/punkt/PY3/french.pickle\n",
            "/root/nltk_data/tokenizers/punkt/danish.pickle\n",
            "/root/nltk_data/tokenizers/punkt/french.pickle\n"
          ]
        }
      ]
    },
    {
      "cell_type": "code",
      "source": [
        "import nltk\n",
        "print(nltk.data.path)"
      ],
      "metadata": {
        "colab": {
          "base_uri": "https://localhost:8080/"
        },
        "id": "16KnxyEe94Pz",
        "outputId": "3b804705-64bd-432b-f7c4-6192567d9ed1"
      },
      "execution_count": null,
      "outputs": [
        {
          "output_type": "stream",
          "name": "stdout",
          "text": [
            "['/root/nltk_data', '/usr/nltk_data', '/usr/share/nltk_data', '/usr/lib/nltk_data', '/usr/share/nltk_data', '/usr/local/share/nltk_data', '/usr/lib/nltk_data', '/usr/local/lib/nltk_data', '/root/nltk_data']\n"
          ]
        }
      ]
    },
    {
      "cell_type": "code",
      "source": [
        "import os\n",
        "os.environ['NLTK_DATA'] = '/root/nltk_data'\n",
        "\n",
        "import nltk\n",
        "nltk.data.path.append('/root/nltk_data')\n",
        "\n",
        "from nltk import sent_tokenize\n",
        "\n",
        "text_sample = ('The Matrix is everywhere its all around us, here even in this room. '\n",
        "               'You can see it out your window or on your television. '\n",
        "               'You feel it when you go to work, or go to church or pay your taxes.')\n",
        "\n",
        "sentences = sent_tokenize(text=text_sample)\n",
        "print(type(sentences), len(sentences))\n",
        "print(sentences)"
      ],
      "metadata": {
        "colab": {
          "base_uri": "https://localhost:8080/"
        },
        "id": "pCfi1Vjg96Ve",
        "outputId": "3df24093-0fcf-4b04-f461-a89a0950b1dd"
      },
      "execution_count": null,
      "outputs": [
        {
          "output_type": "stream",
          "name": "stdout",
          "text": [
            "<class 'list'> 3\n",
            "['The Matrix is everywhere its all around us, here even in this room.', 'You can see it out your window or on your television.', 'You feel it when you go to work, or go to church or pay your taxes.']\n"
          ]
        }
      ]
    },
    {
      "cell_type": "markdown",
      "source": [
        "- 단어 토큰화:단어 토큰화는 문장을 단어로 토큰화하는 것인데 기본적으로 공백, 콤마(,), 마침표(.), 개행 문자 등으로 단어를 분리하지만, 정규표현식을 이용해 다양한 유형으로 토큰화를 수행\n",
        "- (.)마침표나 개행문자와 같이 문장을 분리하는 구분자를 이용해 단어를 토큰화할 수 있으므로 Bag of Word와 같이 단어의 순서가 중요하지 않은 경우 문장 토큰화를 사용하지 않고 단어 토큰화만 사용해도 충분함."
      ],
      "metadata": {
        "id": "jsHJaUn0-Q69"
      }
    },
    {
      "cell_type": "code",
      "source": [
        "# word_tokenize()를 이용해 단어로 토큰화 진행\n",
        "from nltk import word_tokenize\n",
        "sentence = \"The Matrix is everywhere its all around us, here even in this room.\"\n",
        "words = word_tokenize(sentence)\n",
        "print(type(words), len(words))\n",
        "print(words)"
      ],
      "metadata": {
        "colab": {
          "base_uri": "https://localhost:8080/"
        },
        "id": "jIv31SFE99eU",
        "outputId": "80fb8e61-3fc1-464c-9b54-bcedfb2b7af2"
      },
      "execution_count": null,
      "outputs": [
        {
          "output_type": "stream",
          "name": "stdout",
          "text": [
            "<class 'list'> 15\n",
            "['The', 'Matrix', 'is', 'everywhere', 'its', 'all', 'around', 'us', ',', 'here', 'even', 'in', 'this', 'room', '.']\n"
          ]
        }
      ]
    },
    {
      "cell_type": "code",
      "source": [
        "# sent_tokenize와 word_tokenize를 조합해 문서에 대해서 모든 단어를 토큰화 진행\n",
        "# 1. text_sample을 문장별로 단어 토큰화 적용\n",
        "# 문서를 먼저 문장으로 나누고, 개별 문장을 다시 단어로 토큰화하는 tokenize_text()함수를 생성\n",
        "from nltk import word_tokenize, sent_tokenize\n",
        "\n",
        "# 여러 개의 문장으로 된 입력 데이터를 문장별로 단어 토큰화하게 만드는 함수 생성\n",
        "def tokenize_text(text):\n",
        "\n",
        "  # 문장별로 분리 토큰\n",
        "  sentences = sent_tokenize(text)\n",
        "  # 분리된 문장별 단어 토큰화\n",
        "  word_tokens = [word_tokenize(sentence) for sentence in sentences]\n",
        "  return word_tokens\n",
        "\n",
        "# 여러 문장에 대해 문장별 단어 토큰화 수행.\n",
        "word_tokens = tokenize_text(text_sample)\n",
        "print(type(word_tokens), len(word_tokens))\n",
        "print(word_tokens)\n"
      ],
      "metadata": {
        "colab": {
          "base_uri": "https://localhost:8080/"
        },
        "id": "Gf-jmZVZ-__G",
        "outputId": "cdf0c2d7-a170-4514-e1a8-3a580c3f0c45"
      },
      "execution_count": null,
      "outputs": [
        {
          "output_type": "stream",
          "name": "stdout",
          "text": [
            "<class 'list'> 3\n",
            "[['The', 'Matrix', 'is', 'everywhere', 'its', 'all', 'around', 'us', ',', 'here', 'even', 'in', 'this', 'room', '.'], ['You', 'can', 'see', 'it', 'out', 'your', 'window', 'or', 'on', 'your', 'television', '.'], ['You', 'feel', 'it', 'when', 'you', 'go', 'to', 'work', ',', 'or', 'go', 'to', 'church', 'or', 'pay', 'your', 'taxes', '.']]\n"
          ]
        }
      ]
    },
    {
      "cell_type": "markdown",
      "source": [
        "-> n-gram 적용, n-gram은 연속된 n개의 단어를 하나의 토큰화단위로 분리해 내는 것, n개 단어 크기 윈도우를 만들어 문장의 처음부터 오른쪽으로 움직이면서 토큰화 수행\n",
        "\n",
        "\n",
        "- 스톱 워드 제거\n",
        "- 스톱 워드: 분석에 큰 의미가 없는 단어를 지정\n",
        "ex) is, the, a, will 등 문장을 구성하는 필수 문법 요소지만 문맥적으로 큰 의미가 없는 단어\n",
        "- 언어별로 스톱워드가 목록화 되어 있어 nltk의 경우 가장 다양한 언어의 스톱워드를 제공"
      ],
      "metadata": {
        "id": "xumgbUgMAWQm"
      }
    },
    {
      "cell_type": "code",
      "source": [
        "import nltk\n",
        "nltk.download('stopwords')"
      ],
      "metadata": {
        "colab": {
          "base_uri": "https://localhost:8080/"
        },
        "id": "ilnohbtLBDqd",
        "outputId": "61440fd3-8cfd-4e87-a197-7239d6f13c3d"
      },
      "execution_count": null,
      "outputs": [
        {
          "output_type": "stream",
          "name": "stderr",
          "text": [
            "[nltk_data] Downloading package stopwords to /root/nltk_data...\n",
            "[nltk_data]   Unzipping corpora/stopwords.zip.\n"
          ]
        },
        {
          "output_type": "execute_result",
          "data": {
            "text/plain": [
              "True"
            ]
          },
          "metadata": {},
          "execution_count": 17
        }
      ]
    },
    {
      "cell_type": "code",
      "source": [
        "print('영어 stop words 개수:', len(nltk.corpus.stopwords.words('english')))\n",
        "print(nltk.corpus.stopwords.words('english')[:20])"
      ],
      "metadata": {
        "colab": {
          "base_uri": "https://localhost:8080/"
        },
        "id": "JScLpN1dBJj7",
        "outputId": "3d3c8efd-71d8-4b6b-82b8-7b92e273ae3c"
      },
      "execution_count": null,
      "outputs": [
        {
          "output_type": "stream",
          "name": "stdout",
          "text": [
            "영어 stop words 개수: 198\n",
            "['a', 'about', 'above', 'after', 'again', 'against', 'ain', 'all', 'am', 'an', 'and', 'any', 'are', 'aren', \"aren't\", 'as', 'at', 'be', 'because', 'been']\n"
          ]
        }
      ]
    },
    {
      "cell_type": "code",
      "source": [
        "# stopwords를 필터링으로 제거해 분석을 위한 의미있는 단어만 추출\n",
        "import nltk\n",
        "\n",
        "stopwords = nltk.corpus.stopwords.words('english')\n",
        "all_tokens = []\n",
        "# 위 예제에서 3개의 문장별로 얻은 word_tokens list에 대해 스톱 워드를 제거하는 반복문\n",
        "for sentence in word_tokens:\n",
        "  filtered_words = []\n",
        "  # 개별 문장별로 토큰화된 문장 list에 대해 스톱 워드를 제거하는 반복문\n",
        "  for word in sentence:\n",
        "    # 소문자로 모두 변환\n",
        "    word = word.lower()\n",
        "    # 토큰화된 개별 단어가 스톱 워드의 단어에 포함되지 않으면 word_tokens에 추가\n",
        "    if word not in stopwords:\n",
        "      filtered_words.append(word)\n",
        "    all_tokens.append(filtered_words)\n",
        "\n",
        "print(all_tokens)"
      ],
      "metadata": {
        "colab": {
          "base_uri": "https://localhost:8080/"
        },
        "id": "kYszlSBfBewp",
        "outputId": "f432f088-920c-485c-e40b-f47959e10812"
      },
      "execution_count": null,
      "outputs": [
        {
          "output_type": "stream",
          "name": "stdout",
          "text": [
            "[['matrix', 'everywhere', 'around', 'us', ',', 'even', 'room', '.'], ['matrix', 'everywhere', 'around', 'us', ',', 'even', 'room', '.'], ['matrix', 'everywhere', 'around', 'us', ',', 'even', 'room', '.'], ['matrix', 'everywhere', 'around', 'us', ',', 'even', 'room', '.'], ['matrix', 'everywhere', 'around', 'us', ',', 'even', 'room', '.'], ['matrix', 'everywhere', 'around', 'us', ',', 'even', 'room', '.'], ['matrix', 'everywhere', 'around', 'us', ',', 'even', 'room', '.'], ['matrix', 'everywhere', 'around', 'us', ',', 'even', 'room', '.'], ['matrix', 'everywhere', 'around', 'us', ',', 'even', 'room', '.'], ['matrix', 'everywhere', 'around', 'us', ',', 'even', 'room', '.'], ['matrix', 'everywhere', 'around', 'us', ',', 'even', 'room', '.'], ['matrix', 'everywhere', 'around', 'us', ',', 'even', 'room', '.'], ['matrix', 'everywhere', 'around', 'us', ',', 'even', 'room', '.'], ['matrix', 'everywhere', 'around', 'us', ',', 'even', 'room', '.'], ['matrix', 'everywhere', 'around', 'us', ',', 'even', 'room', '.'], ['see', 'window', 'television', '.'], ['see', 'window', 'television', '.'], ['see', 'window', 'television', '.'], ['see', 'window', 'television', '.'], ['see', 'window', 'television', '.'], ['see', 'window', 'television', '.'], ['see', 'window', 'television', '.'], ['see', 'window', 'television', '.'], ['see', 'window', 'television', '.'], ['see', 'window', 'television', '.'], ['see', 'window', 'television', '.'], ['see', 'window', 'television', '.'], ['feel', 'go', 'work', ',', 'go', 'church', 'pay', 'taxes', '.'], ['feel', 'go', 'work', ',', 'go', 'church', 'pay', 'taxes', '.'], ['feel', 'go', 'work', ',', 'go', 'church', 'pay', 'taxes', '.'], ['feel', 'go', 'work', ',', 'go', 'church', 'pay', 'taxes', '.'], ['feel', 'go', 'work', ',', 'go', 'church', 'pay', 'taxes', '.'], ['feel', 'go', 'work', ',', 'go', 'church', 'pay', 'taxes', '.'], ['feel', 'go', 'work', ',', 'go', 'church', 'pay', 'taxes', '.'], ['feel', 'go', 'work', ',', 'go', 'church', 'pay', 'taxes', '.'], ['feel', 'go', 'work', ',', 'go', 'church', 'pay', 'taxes', '.'], ['feel', 'go', 'work', ',', 'go', 'church', 'pay', 'taxes', '.'], ['feel', 'go', 'work', ',', 'go', 'church', 'pay', 'taxes', '.'], ['feel', 'go', 'work', ',', 'go', 'church', 'pay', 'taxes', '.'], ['feel', 'go', 'work', ',', 'go', 'church', 'pay', 'taxes', '.'], ['feel', 'go', 'work', ',', 'go', 'church', 'pay', 'taxes', '.'], ['feel', 'go', 'work', ',', 'go', 'church', 'pay', 'taxes', '.'], ['feel', 'go', 'work', ',', 'go', 'church', 'pay', 'taxes', '.'], ['feel', 'go', 'work', ',', 'go', 'church', 'pay', 'taxes', '.'], ['feel', 'go', 'work', ',', 'go', 'church', 'pay', 'taxes', '.']]\n"
          ]
        }
      ]
    },
    {
      "cell_type": "markdown",
      "source": [
        "- Stemming과 Lemmatization\n",
        "  - Stemming과 Lemmatization은 문법적 또는 의미적으로 변화하는 단어의 원형을 찾는 것\n",
        "  - Stemming은 원형 단어로 변환 시 일반적인 방법을 적용하거나 더 단순화된 방법을 적용해 원래 단어에서 일부 철자가 훼손된 어근 단어를 추출하는 경향이 있음.\n",
        "  - Lemmatization은 품사와 같은 문법적인 요소와 더 의미적인 부분을 감안해 정확한 철자로 된 어근 단어를 찾아줌. 따라서 Stemming보다 변화에 더 오랜시간을 필요로 함."
      ],
      "metadata": {
        "id": "QlbHYf-hCYS5"
      }
    },
    {
      "cell_type": "code",
      "source": [
        "# NLTK의 LancasterStemmer를 이용해 Stemmer 살펴보기\n",
        "from nltk.stem import LancasterStemmer\n",
        "stemmer = LancasterStemmer()\n",
        "\n",
        "print(stemmer.stem('working'), stemmer.stem('works'), stemmer.stem('worked'))\n",
        "print(stemmer.stem('amusing'), stemmer.stem('amuses'), stemmer.stem('amused'))\n",
        "print(stemmer.stem('happier'),stemmer.stem('happiest'))\n",
        "print(stemmer.stem('fancier'), stemmer.stem('fanciest'))"
      ],
      "metadata": {
        "colab": {
          "base_uri": "https://localhost:8080/"
        },
        "id": "nHTTX9W7EAY-",
        "outputId": "835d90da-f6b2-49cf-d1c1-af138d224d34"
      },
      "execution_count": null,
      "outputs": [
        {
          "output_type": "stream",
          "name": "stdout",
          "text": [
            "work work work\n",
            "amus amus amus\n",
            "happy happiest\n",
            "fant fanciest\n"
          ]
        }
      ]
    },
    {
      "cell_type": "code",
      "source": [
        "# WordNetLemmatizer을 이용해 Lemmatization 수행\n",
        "from nltk.stem import WordNetLemmatizer\n",
        "import nltk\n",
        "nltk.download('wordnet')\n",
        "\n",
        "lemma = WordNetLemmatizer()\n",
        "print(lemma.lemmatize('amusing', 'v'), lemma.lemmatize('amuses', 'v'), lemma.lemmatize('amused', 'v'))\n",
        "print(lemma.lemmatize('happier', 'a'), lemma.lemmatize('happiest', 'a'))\n",
        "print(lemma.lemmatize('fancier', 'a'), lemma.lemmatize('fanciest', 'a'))\n",
        "'''\n",
        "-> Stemmer보다 정확하게 원형 단어 추출 가능\n",
        "'''"
      ],
      "metadata": {
        "colab": {
          "base_uri": "https://localhost:8080/"
        },
        "id": "ou1sKSIKEItc",
        "outputId": "c60e1a26-f54b-492a-d703-0a367422fe1d"
      },
      "execution_count": null,
      "outputs": [
        {
          "output_type": "stream",
          "name": "stderr",
          "text": [
            "[nltk_data] Downloading package wordnet to /root/nltk_data...\n"
          ]
        },
        {
          "output_type": "stream",
          "name": "stdout",
          "text": [
            "amuse amuse amuse\n",
            "happy happy\n",
            "fancy fancy\n"
          ]
        }
      ]
    },
    {
      "cell_type": "markdown",
      "source": [
        "## 03 Bag of Words - BOW\n",
        "- Bag of Words 모델은 문서가 가지는 모든 단어(Words)를 문맥이나 순서를 무시하고 일괄적으로 단어에 대해 빈도 값을 부여해 피처 값을 추출하는 모델\n",
        "\n",
        "- 진행 방식:\n",
        "  1. 문장1과 문장2에 있는 모든 단어에서 중복을 제거하고 각 단어를 칼럼형태로 나열, 그리고 각 단어에 고유의 인덱스를 부여\n",
        "  2. 개별 문장에서 해당 단어가 나타나는 횟수(Occurrence)를 각 단어(단어 인덱스)에 기재\n",
        "  ex) baseball은 문장 1,2에서 총 2번 나타나며, daughter은 문장 1에서만 1번 나타남.\n",
        "\n",
        "- BOW 모델의 장점은 쉽고 빠른 구축에 있음\n",
        "- BOW 모델의 단점:\n",
        "  - 문맥 의미 반영 부족: BOW는 단어의 순서를 고려하지 않기 때문에 문장 내에서 단어의 문맥적인 의미가 무시됨, 물론 이를 보완하기 위해 n_gram 기법을 활용할 수 있지만, 제한적인 부분에 그치므로 언어의 많은 부분을 차지하는 문맥적인 해석을 처리하지 못함.\n",
        "\n",
        "  - 최소 행렬 문제(희소성, 희소행렬): BOW로 피처 벡터화를 수행하면 최소 행렬 형태의 데이터 세트가 만들어지기 쉬움, 많은 문서에서 단어의 총 개수는 수만 ~ 수십만개지만, 하나의 문서에 있는 단어는 이중 극히 일부분으로 대부분의 데이터는 0으로 채워짐, 대부분의 값이 0으로 채워지는 행렬을 최소행렬이라고 하며 대부분의 값이 0이 아닌 의미있는 값으로 채워져 있는 행렬을 밀집행렬이라고 함, 최소행렬은 일반적으로 ML 알고리즘의 수행 시간과 예측 성능을 떨어뜨리므로 최소 행렬을 위한 특별한 기법이 필요.\n",
        "\n",
        "\n",
        "- BOW 피처 벡터화\n",
        "  - 텍스트는 특정 의미를 가지는 숫자형 값인 벡터 값으로 변환해야 하는데, 이러한 변환을 피처 벡터화라고 함.\n",
        "\n",
        "- 사이킷런의 Count 및 TF-IDF 벡터화 구현: CountVectorizer, TfidfVectorizer\n",
        "  - 카운트 기반의 벡터화를 구현하는 클래스로 피처 벡터화만 수행하지 않으며, 소문자 일괄변환, 토큰화, 스톱워드 필터링 등의 텍스트 전처리도 함께 수행\n",
        "\n",
        "  - fit(), transform()을 통해 피처 벡터화된 객체를 반환\n",
        "\n",
        "  - 파라미터 명:\n",
        "    - max_df: 너무 높은 빈도수를 가지는 단어 피처를 제외하기 위한 파라미터\n",
        "    - min_df: 너무 낮은 빈도수를 가지는 단어 피처를 제외\n",
        "    - max_features: 추출하는 피처의 개수를 제한하며, 정수로 값을 지정\n",
        "    - stop_words: 'english'로 지정하면 영어의 스톱 워드로 지정된 단어는 추출해서 제외\n",
        "    - n_gram_range: Bag of Words 모델의 단어 순서를 어느 정도로 보강하기 위해 n_gram 범위를 설정\n",
        "    - analyzer: 피처 추출을 위한 단위를 지정, 디폴트는 'word'임.\n",
        "    - token_paltern:토큰화를 수행하는 정규 표현식 패턴을 지정, 디폴트 값은 '\\b\\w\\w+\\b'임.\n",
        "    - tokenizer: 토큰화를 별도의 커스텀 함수로 이용시 적용\n",
        "\n",
        "머신러닝 알고리즘은 일반적으로 숫자형 피처를 데이터로 입력%]' 동작하기 때문에 텍스트와 같은 데\n",
        "이터는 머신러닝 알고리즘에 바로 입력할 수가 없습니다. 따라서 텍스트는 특정 의미를 가지는 숫자\n",
        "형 값인 벡터 값으로 변환해야 하는데, 이러한 변환을 피처 벡터화라고 합니다. 예를 들어 피처 벡터화\n"
      ],
      "metadata": {
        "id": "esMSRN9UET37"
      }
    },
    {
      "cell_type": "markdown",
      "source": [
        "- BOW 벡터화를 위한 히소 행렬\n",
        "  - 좀 더 난이도 있는 ML 모델을 수립하기 위해서는 희소행렬이 어떤 형태로 되어 있는지 알야 함.\n",
        "  - 희소행렬: 대규모 행렬의 대부분의 값을 0이 차지하는 행렬(BOW 형태를 가진 모델의 경우, 대부분 희소 행렬임)\n",
        "\n",
        "- 희소 행렬 - COO 형식\n",
        "   - 0이 아닌 데이터만 별도의 데이터 배열(Array)에 저장하고 그 데이터가 가리키는 행과 열의 위치를 별도의 배열로 저장하는 방식\n",
        "   \n"
      ],
      "metadata": {
        "id": "DXhwvMRSIQN8"
      }
    },
    {
      "cell_type": "code",
      "source": [
        "# COO 형식의 희소 행렬로 변환\n",
        "import numpy as np\n",
        "dense = np.array([[3,0,1],[0,2,0]])"
      ],
      "metadata": {
        "id": "Kv9PpDasIyXP"
      },
      "execution_count": null,
      "outputs": []
    },
    {
      "cell_type": "code",
      "source": [
        "# 행 위치 배열과 열 위치 배열을 각각 만든 후 coo_matrix()내에 생성 파라미터로 입력\n",
        "from scipy import sparse\n",
        "\n",
        "# 0이 아닌 데이터 추출\n",
        "data = np.array([3,1,2])\n",
        "\n",
        "# 행 위치와 열 위치를 각각 배열로 생성\n",
        "row_pos = np.array([0,0,1])\n",
        "col_pos = np.array([0,2,1])\n",
        "\n",
        "# sparse 패키지의 coo_matrix를 이용해 COO 형식으로 희소 행렬 생성\n",
        "sparse_coo = sparse.coo_matrix((data, (row_pos, col_pos)))"
      ],
      "metadata": {
        "id": "9NzTfvkrI-sK"
      },
      "execution_count": null,
      "outputs": []
    },
    {
      "cell_type": "code",
      "source": [
        "sparse_coo.toarray()"
      ],
      "metadata": {
        "colab": {
          "base_uri": "https://localhost:8080/"
        },
        "id": "XzG7RCSsJkTh",
        "outputId": "f1710862-39cc-469c-9880-2fad6750c7d7"
      },
      "execution_count": null,
      "outputs": [
        {
          "output_type": "execute_result",
          "data": {
            "text/plain": [
              "array([[3, 0, 1],\n",
              "       [0, 2, 0]])"
            ]
          },
          "metadata": {},
          "execution_count": 27
        }
      ]
    },
    {
      "cell_type": "markdown",
      "source": [
        "- 희소 행렬 - CSR 형식\n",
        "  - CSR 형식은: COO 형식이 행과 열의 위치를 나타내기 위해 반복적인 위치 데이터를 사용해야 하는 문제점을 해결하는 방식\n",
        "  - 최종적으로 CSR 변환되는 배열의 고유 값의 시작 위치만 알고 있으면 얼마든지 행위치 배열을 다시 만들 수 있기 때문에 COO 방식보다 메모리가 적게 들고 빠른 연산이 가능\n",
        "  "
      ],
      "metadata": {
        "id": "asA9KOB5JoRn"
      }
    },
    {
      "cell_type": "code",
      "source": [
        "# 2차원 배열을 COO 형식으로 변환\n",
        "from scipy import sparse\n",
        "dense2 = np.array([[0, 0, 1, 0, 0, 5],\n",
        "                   [1, 4, 0, 3, 2, 5],\n",
        "                   [0, 6, 0, 3, 0, 0],\n",
        "                   [2, 0, 0, 0, 0, 0],\n",
        "                   [0, 0, 0, 7, 0, 8],\n",
        "                   [1, 0, 0, 0, 0, 0]])\n",
        "# 0이 아닌 데이터 추출\n",
        "data2 = np.array([1, 5, 1, 4, 3, 2, 5, 6, 3, 2, 7, 8, 1])\n",
        "\n",
        "# 행 위치와 열 위치를 각각 array로 생성\n",
        "row_pos = np.array([0, 0, 1, 1, 1, 1, 1, 2, 2, 3, 4, 4, 5])\n",
        "col_pos = np.array([2, 5, 0, 1, 3, 4, 5, 1, 3, 0, 3, 5, 0])\n",
        "\n",
        "# COO 형식으로 변환\n",
        "sparse_coo = sparse.coo_matrix((data2, (row_pos, col_pos)))\n",
        "\n",
        "# 행 위치 배열의 고유한 값의 시작 위치 인덱스를 배열로 생성\n",
        "row_pos_ind = np.array([0, 2, 7, 9, 10, 12, 13])\n",
        "\n",
        "# CSR 형식으로 변환\n",
        "sparse_csr = sparse.csr_matrix((data2, col_pos, row_pos_ind))\n",
        "\n",
        "# CSR 형식으로 변환\n",
        "sparse_csr = sparse.csr_matrix((data2, col_pos, row_pos_ind))\n",
        "\n",
        "print('COO 변환된 데이터가 제대로 되었는지 다시 Dense로 출력 확인')\n",
        "print(sparse_coo.toarray())\n",
        "print('CSR 변환된 데이터가 제대로 되었는지 다시 Dense로 출력 확인')\n",
        "print(sparse_csr.toarray())"
      ],
      "metadata": {
        "colab": {
          "base_uri": "https://localhost:8080/"
        },
        "id": "K29rngutJ0nU",
        "outputId": "f5a434b2-8237-41f5-8c47-1bf0fe46676e"
      },
      "execution_count": null,
      "outputs": [
        {
          "output_type": "stream",
          "name": "stdout",
          "text": [
            "COO 변환된 데이터가 제대로 되었는지 다시 Dense로 출력 확인\n",
            "[[0 0 1 0 0 5]\n",
            " [1 4 0 3 2 5]\n",
            " [0 6 0 3 0 0]\n",
            " [2 0 0 0 0 0]\n",
            " [0 0 0 7 0 8]\n",
            " [1 0 0 0 0 0]]\n",
            "CSR 변환된 데이터가 제대로 되었는지 다시 Dense로 출력 확인\n",
            "[[0 0 1 0 0 5]\n",
            " [1 4 0 3 2 5]\n",
            " [0 6 0 3 0 0]\n",
            " [2 0 0 0 0 0]\n",
            " [0 0 0 7 0 8]\n",
            " [1 0 0 0 0 0]]\n"
          ]
        }
      ]
    },
    {
      "cell_type": "code",
      "source": [
        "dense3 = np.array([[0, 0, 1, 0, 0, 5],\n",
        "                   [1, 4, 0, 3, 2, 5],\n",
        "                   [0, 6, 0, 3, 0, 0],\n",
        "                   [2, 0, 0, 0, 0, 0],\n",
        "                   [0, 0, 0, 7, 0, 8],\n",
        "                   [1, 0, 0, 0, 0, 0]])\n",
        "\n",
        "coo = sparse.coo_matrix(dense3)\n",
        "csr = sparse.csr_matrix(dense3)"
      ],
      "metadata": {
        "id": "TpHR9SBmLBm9"
      },
      "execution_count": null,
      "outputs": []
    }
  ]
}